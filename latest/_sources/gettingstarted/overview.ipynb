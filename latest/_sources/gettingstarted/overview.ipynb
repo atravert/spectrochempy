{
 "cells": [
  {
   "cell_type": "markdown",
   "id": "6b356ebc",
   "metadata": {},
   "source": [
    "# Overview"
   ]
  },
  {
   "cell_type": "markdown",
   "id": "ff3c2bc5",
   "metadata": {},
   "source": [
    "The purpose of this page is to give you some quick examples of what can be done with\n",
    "SpectroChemPy.\n",
    "\n",
    "See the [gallery of examples](examples/index.rst) and consult the\n",
    "[user's guide](../userguide/introduction/introduction.ipynb)\n",
    "for more information on using SpectroChemPy\n",
    "\n",
    "Before using the package, we must load the **API (Application Programming Interface)**"
   ]
  },
  {
   "cell_type": "code",
   "execution_count": null,
   "id": "ce915776",
   "metadata": {},
   "outputs": [],
   "source": [
    "import spectrochempy as scp"
   ]
  },
  {
   "cell_type": "markdown",
   "id": "40dcb931",
   "metadata": {},
   "source": [
    "## NDDataset, the main object"
   ]
  },
  {
   "cell_type": "markdown",
   "id": "7775b0cd",
   "metadata": {},
   "source": [
    "NDDataset is a python object, actually a container, which can represent most of your\n",
    "multidimensional spectroscopic\n",
    "data.\n",
    "\n",
    "For instance, in the following we read data from a series of FTIR experiments,\n",
    "provided  by the OMNIC software:"
   ]
  },
  {
   "cell_type": "code",
   "execution_count": null,
   "id": "f9369a41",
   "metadata": {},
   "outputs": [],
   "source": [
    "ds = scp.read(\"irdata/nh4y-activation.spg\")"
   ]
  },
  {
   "cell_type": "markdown",
   "id": "18d2d76a",
   "metadata": {},
   "source": [
    "### Display dataset information"
   ]
  },
  {
   "cell_type": "markdown",
   "id": "e0cd3c33",
   "metadata": {},
   "source": [
    "Short information:"
   ]
  },
  {
   "cell_type": "code",
   "execution_count": null,
   "id": "c40563ec",
   "metadata": {},
   "outputs": [],
   "source": [
    "print(ds)"
   ]
  },
  {
   "cell_type": "markdown",
   "id": "ee9a8287",
   "metadata": {},
   "source": [
    "Detailed information on the main metadata:"
   ]
  },
  {
   "cell_type": "code",
   "execution_count": null,
   "id": "164482a3",
   "metadata": {},
   "outputs": [],
   "source": [
    "ds"
   ]
  },
  {
   "cell_type": "markdown",
   "id": "36746358",
   "metadata": {},
   "source": [
    "### Plotting a dataset"
   ]
  },
  {
   "cell_type": "code",
   "execution_count": null,
   "id": "2267a081",
   "metadata": {},
   "outputs": [],
   "source": [
    "_ = ds.plot()"
   ]
  },
  {
   "cell_type": "markdown",
   "id": "5bd4c81d",
   "metadata": {},
   "source": [
    "### Slicing a dataset"
   ]
  },
  {
   "cell_type": "code",
   "execution_count": null,
   "id": "4f12e182",
   "metadata": {},
   "outputs": [],
   "source": [
    "region = ds[:, 4000.0:2000.0]\n",
    "_ = region.plot()"
   ]
  },
  {
   "cell_type": "markdown",
   "id": "3ff479b2",
   "metadata": {},
   "source": [
    "### Maths on datasets"
   ]
  },
  {
   "cell_type": "code",
   "execution_count": null,
   "id": "453b071f",
   "metadata": {
    "tags": []
   },
   "outputs": [],
   "source": [
    "region.y -= region.y[0]  # make y coordinate relative to the first point\n",
    "region.y.title = \"time of dehydratation\"\n",
    "region -= region[-1]  # suppress the last spectra to all\n",
    "_ = region.plot(colorbar=True)"
   ]
  },
  {
   "cell_type": "markdown",
   "id": "4b366c85",
   "metadata": {},
   "source": [
    "### Processing a dataset"
   ]
  },
  {
   "cell_type": "markdown",
   "id": "487d6770",
   "metadata": {},
   "source": [
    "We just give here few examples"
   ]
  },
  {
   "cell_type": "markdown",
   "id": "61047177",
   "metadata": {},
   "source": [
    "#### Smoothing"
   ]
  },
  {
   "cell_type": "code",
   "execution_count": null,
   "id": "0edd66e0",
   "metadata": {
    "tags": []
   },
   "outputs": [],
   "source": [
    "smoothed = region.smooth(window_length=51, window=\"hanning\")\n",
    "_ = smoothed.plot(colormap=\"magma\")"
   ]
  },
  {
   "cell_type": "markdown",
   "id": "083992c5",
   "metadata": {},
   "source": [
    "#### Baseline correction"
   ]
  },
  {
   "cell_type": "code",
   "execution_count": null,
   "id": "59e0d0de",
   "metadata": {},
   "outputs": [],
   "source": [
    "region = ds[:, 4000.0:2000.0]\n",
    "smoothed = region.smooth(window_length=51, window=\"hanning\")\n",
    "blc = scp.Baseline()\n",
    "blc.ranges = [[2000.0, 2300.0], [3800.0, 3900.0]]\n",
    "blc.multivariate = True\n",
    "blc.model = \"polynomial\"\n",
    "blc.order = \"pchip\"\n",
    "blc.n_components = 5\n",
    "\n",
    "_ = blc.fit(smoothed)"
   ]
  },
  {
   "cell_type": "code",
   "execution_count": null,
   "id": "e53d58bf",
   "metadata": {},
   "outputs": [],
   "source": [
    "_ = blc.corrected.plot()"
   ]
  },
  {
   "cell_type": "markdown",
   "id": "b73475bd",
   "metadata": {},
   "source": [
    "### Analysis\n",
    "\n",
    "#### IRIS processing"
   ]
  },
  {
   "cell_type": "code",
   "execution_count": null,
   "id": "e9026279",
   "metadata": {
    "tags": []
   },
   "outputs": [],
   "source": [
    "ds = scp.read_omnic(\"irdata/CO@Mo_Al2O3.SPG\")[:, 2250.0:1950.0]\n",
    "pressure = [\n",
    "    0.00300,\n",
    "    0.00400,\n",
    "    0.00900,\n",
    "    0.01400,\n",
    "    0.02100,\n",
    "    0.02600,\n",
    "    0.03600,\n",
    "    0.05100,\n",
    "    0.09300,\n",
    "    0.15000,\n",
    "    0.20300,\n",
    "    0.30000,\n",
    "    0.40400,\n",
    "    0.50300,\n",
    "    0.60200,\n",
    "    0.70200,\n",
    "    0.80100,\n",
    "    0.90500,\n",
    "    1.00400,\n",
    "]\n",
    "ds.y = scp.Coord(pressure, title=\"Pressure\", units=\"torr\")\n",
    "_ = ds.plot(colormap=\"magma\")"
   ]
  },
  {
   "cell_type": "code",
   "execution_count": null,
   "id": "67f3aa2d",
   "metadata": {
    "jupyter": {
     "source_hidden": true
    },
    "pycharm": {
     "name": "#%%\n"
    }
   },
   "outputs": [],
   "source": [
    "\n",
    "iris = scp.IRIS(reg_par=[-10, 1, 12])\n",
    "K = scp.IrisKernel(ds, \"langmuir\", q=[-8, -1, 50])\n",
    "iris.fit(ds, K)\n",
    "_ = iris.plotdistribution(-7, colormap=\"magma\")"
   ]
  }
 ],
 "metadata": {
  "jupytext": {
   "formats": "ipynb,py:percent",
   "notebook_metadata_filter": "all"
  },
  "kernelspec": {
   "display_name": "Python 3 (ipykernel)",
   "language": "python",
   "name": "python3"
  },
  "language_info": {
   "codemirror_mode": {
    "name": "ipython",
    "version": 3
   },
   "file_extension": ".py",
   "mimetype": "text/x-python",
   "name": "python",
   "nbconvert_exporter": "python",
   "pygments_lexer": "ipython3",
   "version": "3.10.8"
  },
  "widgets": {
   "application/vnd.jupyter.widget-state+json": {
    "state": {},
    "version_major": 2,
    "version_minor": 0
   }
  }
 },
 "nbformat": 4,
 "nbformat_minor": 5
}
