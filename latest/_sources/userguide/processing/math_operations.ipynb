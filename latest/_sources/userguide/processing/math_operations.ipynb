{
 "cells": [
  {
   "cell_type": "markdown",
   "id": "62608053",
   "metadata": {},
   "source": [
    "# Mathematical operations"
   ]
  },
  {
   "cell_type": "code",
   "execution_count": null,
   "id": "d51d4ec2",
   "metadata": {},
   "outputs": [],
   "source": [
    "import numpy as np\n",
    "\n",
    "import spectrochempy as scp\n",
    "from spectrochempy import MASKED, DimensionalityError, error_"
   ]
  },
  {
   "cell_type": "markdown",
   "id": "5494bdef",
   "metadata": {},
   "source": [
    "## Ufuncs (Universal Numpy's functions)\n",
    "A universal function (or `ufunc` in short) is a function that operates on numpy arrays in an element-by-element\n",
    "fashion, supporting array broadcasting, type casting, and several other standard features. That is, a `ufunc` is a\n",
    "“vectorized” wrapper for a function that takes a fixed number of specific inputs and produces a fixed number of\n",
    "specific outputs.\n",
    "\n",
    "For instance, in numpy to calculate the square root of each element of a given nd-array, we can write something\n",
    "like this using the `np.sqrt` functions :"
   ]
  },
  {
   "cell_type": "code",
   "execution_count": null,
   "id": "49510bfa",
   "metadata": {},
   "outputs": [],
   "source": [
    "x = np.array([1.0, 2.0, 3.0, 4.0, 6.0])\n",
    "np.sqrt(x)"
   ]
  },
  {
   "cell_type": "markdown",
   "id": "aa891fad",
   "metadata": {},
   "source": [
    "As seen above, `np.sqrt(x)` return a numpy array.\n",
    "\n",
    "The interesting thing, it that `ufunc`'s can also work with `NDDataset` ."
   ]
  },
  {
   "cell_type": "code",
   "execution_count": null,
   "id": "a2da5af0",
   "metadata": {},
   "outputs": [],
   "source": [
    "dx = scp.NDDataset(x)\n",
    "np.sqrt(dx)"
   ]
  },
  {
   "cell_type": "markdown",
   "id": "19ba31b0",
   "metadata": {},
   "source": [
    "## List of UFuncs working on `NDDataset`:\n",
    "\n",
    "### Functions affecting magnitudes of the number but keeping units\n",
    "* [negative](#negative)(x, \\*\\*kwargs): Numerical negative, element-wise.\n",
    "* [absolute](#abs)(x, \\*\\*kwargs): Calculate the absolute value, element-wise. Alias: [abs](#abs)\n",
    "* [fabs](#abs)(x, \\*\\*kwargs): Calculate the absolute value, element-wise. Complex values are not handled,\n",
    "use [absolute](#absolute) to find the absolute values of complex data.\n",
    "* [conj](#)(x, \\*\\*kwargs): Return the complex conjugate, element-wise.\n",
    "* [rint](#rint)(x, \\*\\*kwargs) :Round to the nearest integer, element-wise.\n",
    "* [floor](#floor)(x, \\*\\*kwargs): Return the floor of the input, element-wise.\n",
    "* [ceil](#ceil)(x, \\*\\*kwargs): Return the ceiling of the input, element-wise.\n",
    "* [trunc](#trunc)(x, \\*\\*kwargs): Return the truncated value of the input, element-wise.\n",
    "\n",
    "### Functions affecting magnitudes of the number but also units\n",
    "* [sqrt](#sqrt)(x, \\*\\*kwargs): Return the non-negative square-root of an array, element-wise.\n",
    "* [square](#square)(x, \\*\\*kwargs): Return the element-wise square of the input.\n",
    "* [cbrt](#cbrt)(x, \\*\\*kwargs): Return the cube-root of an array, element-wise.\n",
    "* [reciprocal](#reciprocal)(x, \\*\\*kwargs): Return the reciprocal of the argument, element-wise.\n",
    "\n",
    "### Functions that require no units or dimensionless units for inputs. Returns dimensionless objects.\n",
    "* [exp](#exp)(x, \\*\\*kwargs): Calculate the exponential of all elements in the input array.\n",
    "* [exp2](#exp)(x, \\*\\*kwargs): Calculate 2\\*\\*p for all p in the input array.\n",
    "* [expm1](#exp)(x, \\*\\*kwargs): Calculate `exp(x) - 1` for all elements in the array.\n",
    "* [log](#log)(x, \\*\\*kwargs): Natural logarithm, element-wise.\n",
    "* [log2](#log)(x, \\*\\*kwargs): Base-2 logarithm of x.\n",
    "* [log10](#log)(x, \\*\\*kwargs): Return the base 10 logarithm of the input array, element-wise.\n",
    "* [log1p](#log)(x, \\*\\*kwargs): Return `log(x + 1)` , element-wise.\n",
    "\n",
    "### Functions that return numpy arrays (*Work only for NDDataset*)\n",
    "* [sign](#sign)(x): Returns an element-wise indication of the sign of a number.\n",
    "* [logical_not](#logical_not)(x): Compute the truth value of NOT x element-wise.\n",
    "* [isfinite](#isfinite)(x): Test element-wise for finiteness.\n",
    "* [isinf](#isinf)(x): Test element-wise for positive or negative infinity.\n",
    "* [isnan](#isnan)(x): Test element-wise for `NaN` and return result as a boolean array.\n",
    "* [signbit](#signbit)(x): Returns element-wise `True` where signbit is set.\n",
    "\n",
    "### Trigonometric functions. Require unitless data or radian units.\n",
    "* [sin](#sin)(x, \\*\\*kwargs): Trigonometric sine, element-wise.\n",
    "* [cos](#cos)(x, \\*\\*kwargs): Trigonometric cosine element-wise.\n",
    "* [tan](#tan)(x, \\*\\*kwargs): Compute tangent element-wise.\n",
    "* [arcsin](#arcsin)(x, \\*\\*kwargs): Inverse sine, element-wise.\n",
    "* [arccos](#arccos)(x, \\*\\*kwargs): Trigonometric inverse cosine, element-wise.\n",
    "* [arctan](#arctan)(x, \\*\\*kwargs): Trigonometric inverse tangent, element-wise.\n",
    "\n",
    "### Hyperbolic functions\n",
    "* [sinh](#sinh)(x, \\*\\*kwargs): Hyperbolic sine, element-wise.\n",
    "* [cosh](#cosh)(x, \\*\\*kwargs): Hyperbolic cosine, element-wise.\n",
    "* [tanh](#tanh)(x, \\*\\*kwargs): Compute hyperbolic tangent element-wise.\n",
    "* [arcsinh](#arcsinh)(x, \\*\\*kwargs): Inverse hyperbolic sine element-wise.\n",
    "* [arccosh](#arccosh)(x, \\*\\*kwargs): Inverse hyperbolic cosine, element-wise.\n",
    "* [arctanh](#arctanh)(x, \\*\\*kwargs): Inverse hyperbolic tangent element-wise.\n",
    "\n",
    "### Unit conversions\n",
    "* [deg2rad](#deg2rad)(x, \\*\\*kwargs): Convert angles from degrees to radians.\n",
    "* [rad2deg](#rad2deg)(x, \\*\\*kwargs): Convert angles from radians to degrees.\n",
    "\n",
    "### Binary Ufuncs\n",
    "\n",
    "* [add](#add)(x1, x2, \\*\\*kwargs): Add arguments element-wise.\n",
    "* [subtract](#subtract)(x1, x2, \\*\\*kwargs): Subtract arguments, element-wise.\n",
    "* [multiply](#multiply)(x1, x2, \\*\\*kwargs): Multiply arguments element-wise.\n",
    "* [divide](#divide) or [true_divide](#true_divide)(x1, x2, \\*\\*kwargs): Returns a true division of the inputs,\n",
    "element-wise.\n",
    "* [floor_divide](#floor_divide)(x1, x2, \\*\\*kwargs): Return the largest integer smaller or equal to the division of\n",
    "the inputs.\n",
    "* [mod](#mod) or [remainder](#remainder)(x1, x2,\\*\\*kwargs): Return element-wise remainder of division.\n",
    "* [fmod](#fmod)(x1, x2, \\*\\*kwargs): Return the element-wise remainder of division."
   ]
  },
  {
   "cell_type": "markdown",
   "id": "20d5a118",
   "metadata": {},
   "source": [
    "## Usage\n",
    "To demonstrate the use of mathematical operations on spectrochempy object, we will first load an experimental 2D\n",
    "dataset."
   ]
  },
  {
   "cell_type": "code",
   "execution_count": null,
   "id": "9873c4e3",
   "metadata": {},
   "outputs": [],
   "source": [
    "d2D = scp.read_omnic(\"irdata/nh4y-activation.spg\")\n",
    "prefs = d2D.preferences\n",
    "prefs.colormap = \"magma\"\n",
    "prefs.colorbar = False\n",
    "prefs.figure.figsize = (6, 3)\n",
    "_ = d2D.plot()"
   ]
  },
  {
   "cell_type": "markdown",
   "id": "e4f6eff5",
   "metadata": {},
   "source": [
    "Let's select only the first row of the 2D dataset ( the `squeeze` method is used to remove\n",
    "the residual size 1 dimension). In addition, we mask the saturated region."
   ]
  },
  {
   "cell_type": "code",
   "execution_count": null,
   "id": "d1c247da",
   "metadata": {},
   "outputs": [],
   "source": [
    "dataset = d2D[0].squeeze()\n",
    "_ = dataset.plot()"
   ]
  },
  {
   "cell_type": "markdown",
   "id": "b08ae9c4",
   "metadata": {},
   "source": [
    "This dataset will be artificially modified already using some mathematical operation (subtraction with a scalar) to\n",
    "present negative values, and we will also mask some data"
   ]
  },
  {
   "cell_type": "code",
   "execution_count": null,
   "id": "f34b0e33",
   "metadata": {},
   "outputs": [],
   "source": [
    "dataset -= 2.0  # add an offset to make that some of the values become negative\n",
    "dataset[1290.0:890.0] = scp.MASKED  # additionally we mask some data\n",
    "_ = dataset.plot()"
   ]
  },
  {
   "cell_type": "markdown",
   "id": "7683e6af",
   "metadata": {},
   "source": [
    "### Unary functions"
   ]
  },
  {
   "cell_type": "markdown",
   "id": "91076d73",
   "metadata": {},
   "source": [
    "#### Functions affecting magnitudes of the number but keeping units"
   ]
  },
  {
   "cell_type": "markdown",
   "id": "5a9c86b9",
   "metadata": {},
   "source": [
    "##### negative\n",
    "Numerical negative, element-wise, keep units"
   ]
  },
  {
   "cell_type": "code",
   "execution_count": null,
   "id": "eaec1c1e",
   "metadata": {},
   "outputs": [],
   "source": [
    "out = np.negative(dataset)  # the same results is obtained using out=-dataset\n",
    "_ = out.plot(figsize=(6, 2.5), show_mask=True)"
   ]
  },
  {
   "cell_type": "markdown",
   "id": "c669cb79",
   "metadata": {},
   "source": [
    "##### abs\n",
    "##### absolute (alias of abs)\n",
    "##### fabs (absolute for float arrays)\n",
    "Numerical absolute value element-wise, element-wise, keep units"
   ]
  },
  {
   "cell_type": "code",
   "execution_count": null,
   "id": "4f14b1ea",
   "metadata": {},
   "outputs": [],
   "source": [
    "out = np.abs(dataset)\n",
    "_ = out.plot(figsize=(6, 2.5))"
   ]
  },
  {
   "cell_type": "markdown",
   "id": "14a903a9",
   "metadata": {},
   "source": [
    "##### rint\n",
    "Round elements of the array to the nearest integer, element-wise, keep units"
   ]
  },
  {
   "cell_type": "code",
   "execution_count": null,
   "id": "ca8893ef",
   "metadata": {},
   "outputs": [],
   "source": [
    "out = np.rint(dataset)\n",
    "_ = out.plot(figsize=(6, 2.5))  # not that title is not modified for this ufunc"
   ]
  },
  {
   "cell_type": "markdown",
   "id": "d16b10bb",
   "metadata": {},
   "source": [
    "##### floor\n",
    "Return the floor of the input, element-wise."
   ]
  },
  {
   "cell_type": "code",
   "execution_count": null,
   "id": "f082030d",
   "metadata": {},
   "outputs": [],
   "source": [
    "out = np.floor(dataset)\n",
    "_ = out.plot(figsize=(6, 2.5))"
   ]
  },
  {
   "cell_type": "markdown",
   "id": "5e3df1bf",
   "metadata": {},
   "source": [
    "##### ceil\n",
    "Return the ceiling of the input, element-wise."
   ]
  },
  {
   "cell_type": "code",
   "execution_count": null,
   "id": "e5a01906",
   "metadata": {},
   "outputs": [],
   "source": [
    "out = np.ceil(dataset)\n",
    "_ = out.plot(figsize=(6, 2.5))"
   ]
  },
  {
   "cell_type": "markdown",
   "id": "ef86b68a",
   "metadata": {},
   "source": [
    "##### trunc\n",
    "Return the truncated value of the input, element-wise."
   ]
  },
  {
   "cell_type": "code",
   "execution_count": null,
   "id": "573444eb",
   "metadata": {},
   "outputs": [],
   "source": [
    "out = np.trunc(dataset)\n",
    "_ = out.plot(figsize=(6, 2.5))"
   ]
  },
  {
   "cell_type": "markdown",
   "id": "8ff5714d",
   "metadata": {},
   "source": [
    "#### Functions affecting magnitudes of the number but also units\n",
    "##### sqrt\n",
    "Return the non-negative square-root of an array, element-wise."
   ]
  },
  {
   "cell_type": "code",
   "execution_count": null,
   "id": "1397fed8",
   "metadata": {},
   "outputs": [],
   "source": [
    "out = np.sqrt(\n",
    "    dataset\n",
    ")  # as they are some negative elements, return dataset has complex dtype.\n",
    "_ = out.plot_1D(show_complex=True, figsize=(6, 2.5))"
   ]
  },
  {
   "cell_type": "markdown",
   "id": "9310a139",
   "metadata": {},
   "source": [
    "##### square\n",
    "Return the element-wise square of the input."
   ]
  },
  {
   "cell_type": "code",
   "execution_count": null,
   "id": "38d71006",
   "metadata": {},
   "outputs": [],
   "source": [
    "out = np.square(dataset)\n",
    "_ = out.plot(figsize=(6, 2.5))"
   ]
  },
  {
   "cell_type": "markdown",
   "id": "4bce6dcf",
   "metadata": {},
   "source": [
    "##### cbrt\n",
    "Return the cube-root of an array, element-wise."
   ]
  },
  {
   "cell_type": "code",
   "execution_count": null,
   "id": "2403fce2",
   "metadata": {},
   "outputs": [],
   "source": [
    "out = np.cbrt(dataset)\n",
    "_ = out.plot(figsize=(6, 2.5))"
   ]
  },
  {
   "cell_type": "markdown",
   "id": "785322ad",
   "metadata": {},
   "source": [
    "##### reciprocal\n",
    "Return the reciprocal of the argument, element-wise."
   ]
  },
  {
   "cell_type": "code",
   "execution_count": null,
   "id": "2c8ad40a",
   "metadata": {},
   "outputs": [],
   "source": [
    "out = np.reciprocal(dataset + 3.0)\n",
    "_ = out.plot(figsize=(6, 2.5))"
   ]
  },
  {
   "cell_type": "markdown",
   "id": "bb27a9ac",
   "metadata": {},
   "source": [
    "#### Functions that require no units or dimensionless units for inputs. Returns dimensionless objects."
   ]
  },
  {
   "cell_type": "markdown",
   "id": "72481b4a",
   "metadata": {},
   "source": [
    "##### exp\n",
    "Exponential of all elements in the input array, element-wise"
   ]
  },
  {
   "cell_type": "code",
   "execution_count": null,
   "id": "b62c554f",
   "metadata": {},
   "outputs": [],
   "source": [
    "out = np.exp(dataset)\n",
    "_ = out.plot(figsize=(6, 2.5))"
   ]
  },
  {
   "cell_type": "markdown",
   "id": "e0def49b",
   "metadata": {},
   "source": [
    "Obviously numpy exponential functions applies only to dimensionless array. Else an error is generated."
   ]
  },
  {
   "cell_type": "code",
   "execution_count": null,
   "id": "8d629627",
   "metadata": {},
   "outputs": [],
   "source": [
    "x = scp.NDDataset(np.arange(5), units=\"m\")\n",
    "try:\n",
    "    np.exp(x)  # A dimensionality error will be generated\n",
    "except DimensionalityError as e:\n",
    "    error_(DimensionalityError, e)"
   ]
  },
  {
   "cell_type": "markdown",
   "id": "4be75cbc",
   "metadata": {},
   "source": [
    "##### exp2\n",
    "Calculate 2\\*\\*p for all p in the input array."
   ]
  },
  {
   "cell_type": "code",
   "execution_count": null,
   "id": "da40f4f9",
   "metadata": {},
   "outputs": [],
   "source": [
    "out = np.exp2(dataset)\n",
    "_ = out.plot(figsize=(6, 2.5))"
   ]
  },
  {
   "cell_type": "markdown",
   "id": "0c7cbd71",
   "metadata": {},
   "source": [
    "##### expm1\n",
    "Calculate `exp(x) - 1` for all elements in the array."
   ]
  },
  {
   "cell_type": "code",
   "execution_count": null,
   "id": "5c7fad42",
   "metadata": {},
   "outputs": [],
   "source": [
    "out = np.expm1(dataset)\n",
    "_ = out.plot(figsize=(6, 2.5))"
   ]
  },
  {
   "cell_type": "markdown",
   "id": "f0f910ce",
   "metadata": {},
   "source": [
    "##### log\n",
    "Natural logarithm, element-wise.\n",
    "\n",
    "This doesn't generate un error for negative numbrs, but the output is masked for those values"
   ]
  },
  {
   "cell_type": "code",
   "execution_count": null,
   "id": "d3ebfa40",
   "metadata": {},
   "outputs": [],
   "source": [
    "out = np.log(dataset)\n",
    "ax = out.plot(figsize=(6, 2.5), show_mask=True)"
   ]
  },
  {
   "cell_type": "code",
   "execution_count": null,
   "id": "06c44f73",
   "metadata": {},
   "outputs": [],
   "source": [
    "out = np.log(dataset - dataset.min())\n",
    "_ = out.plot(figsize=(6, 2.5))"
   ]
  },
  {
   "cell_type": "markdown",
   "id": "e53f7f80",
   "metadata": {},
   "source": [
    "##### log2\n",
    "Base-2 logarithm of x."
   ]
  },
  {
   "cell_type": "code",
   "execution_count": null,
   "id": "be3d9d1e",
   "metadata": {},
   "outputs": [],
   "source": [
    "out = np.log2(dataset)\n",
    "_ = out.plot(figsize=(6, 2.5))"
   ]
  },
  {
   "cell_type": "markdown",
   "id": "7f842d57",
   "metadata": {},
   "source": [
    "##### log10\n",
    "Return the base 10 logarithm of the input array, element-wise."
   ]
  },
  {
   "cell_type": "code",
   "execution_count": null,
   "id": "d66c85aa",
   "metadata": {},
   "outputs": [],
   "source": [
    "out = np.log10(dataset)\n",
    "_ = out.plot(figsize=(6, 2.5))"
   ]
  },
  {
   "cell_type": "markdown",
   "id": "e0bfa6f5",
   "metadata": {},
   "source": [
    "##### log1p\n",
    "Return `log(x + 1)` , element-wise."
   ]
  },
  {
   "cell_type": "code",
   "execution_count": null,
   "id": "a83a4ef1",
   "metadata": {},
   "outputs": [],
   "source": [
    "out = np.log1p(dataset)\n",
    "_ = out.plot(figsize=(6, 2.5))"
   ]
  },
  {
   "cell_type": "markdown",
   "id": "be18a144",
   "metadata": {},
   "source": [
    "#### Functions that return numpy arrays (*Work only for NDDataset*)"
   ]
  },
  {
   "cell_type": "markdown",
   "id": "e7be93c9",
   "metadata": {},
   "source": [
    "##### sign\n",
    "Returns an element-wise indication of the sign of a number. Returned object is a ndarray"
   ]
  },
  {
   "cell_type": "code",
   "execution_count": null,
   "id": "02b05cf5",
   "metadata": {},
   "outputs": [],
   "source": [
    "np.sign(dataset)"
   ]
  },
  {
   "cell_type": "code",
   "execution_count": null,
   "id": "ad903687",
   "metadata": {},
   "outputs": [],
   "source": [
    "np.logical_not(dataset < 0)"
   ]
  },
  {
   "cell_type": "markdown",
   "id": "739d97b1",
   "metadata": {},
   "source": [
    "##### isfinite\n",
    "Test element-wise for finiteness."
   ]
  },
  {
   "cell_type": "code",
   "execution_count": null,
   "id": "673d42a7",
   "metadata": {},
   "outputs": [],
   "source": [
    "np.isfinite(dataset)"
   ]
  },
  {
   "cell_type": "markdown",
   "id": "0f59b1f3",
   "metadata": {},
   "source": [
    "##### isinf\n",
    "Test element-wise for positive or negative infinity."
   ]
  },
  {
   "cell_type": "code",
   "execution_count": null,
   "id": "49492cff",
   "metadata": {},
   "outputs": [],
   "source": [
    "np.isinf(dataset)"
   ]
  },
  {
   "cell_type": "markdown",
   "id": "678ebadb",
   "metadata": {},
   "source": [
    "##### isnan\n",
    "Test element-wise for `NaN` and return result as a boolean array."
   ]
  },
  {
   "cell_type": "code",
   "execution_count": null,
   "id": "4cf3bdfe",
   "metadata": {},
   "outputs": [],
   "source": [
    "np.isnan(dataset)"
   ]
  },
  {
   "cell_type": "markdown",
   "id": "199fa776",
   "metadata": {},
   "source": [
    "##### signbit\n",
    "Returns element-wise `True` where signbit is set."
   ]
  },
  {
   "cell_type": "code",
   "execution_count": null,
   "id": "96a35b2d",
   "metadata": {},
   "outputs": [],
   "source": [
    "np.signbit(dataset)"
   ]
  },
  {
   "cell_type": "markdown",
   "id": "81cd4e16",
   "metadata": {},
   "source": [
    "#### Trigonometric functions. Require dimensionless/unitless  dataset or radians.\n",
    "\n",
    "In the below examples, unit of data in dataset is absorbance (then dimensionless)"
   ]
  },
  {
   "cell_type": "markdown",
   "id": "63a64f22",
   "metadata": {},
   "source": [
    "##### sin\n",
    "Trigonometric sine, element-wise."
   ]
  },
  {
   "cell_type": "code",
   "execution_count": null,
   "id": "be38a661",
   "metadata": {},
   "outputs": [],
   "source": [
    "out = np.sin(dataset)\n",
    "_ = out.plot(figsize=(6, 2.5))"
   ]
  },
  {
   "cell_type": "markdown",
   "id": "f4428c27",
   "metadata": {},
   "source": [
    "##### cos\n",
    "Trigonometric cosine element-wise."
   ]
  },
  {
   "cell_type": "code",
   "execution_count": null,
   "id": "d45aa1da",
   "metadata": {},
   "outputs": [],
   "source": [
    "out = np.cos(dataset)\n",
    "_ = out.plot(figsize=(6, 2.5))"
   ]
  },
  {
   "cell_type": "markdown",
   "id": "0727c30c",
   "metadata": {},
   "source": [
    "##### tan\n",
    "Compute tangent element-wise."
   ]
  },
  {
   "cell_type": "code",
   "execution_count": null,
   "id": "437abf63",
   "metadata": {},
   "outputs": [],
   "source": [
    "out = np.tan(dataset / np.max(dataset))\n",
    "_ = out.plot(figsize=(6, 2.5))"
   ]
  },
  {
   "cell_type": "markdown",
   "id": "85a15a24",
   "metadata": {},
   "source": [
    "##### arcsin\n",
    "Inverse sine, element-wise."
   ]
  },
  {
   "cell_type": "code",
   "execution_count": null,
   "id": "82972522",
   "metadata": {},
   "outputs": [],
   "source": [
    "out = np.arcsin(dataset)\n",
    "_ = out.plot(figsize=(6, 2.5))"
   ]
  },
  {
   "cell_type": "markdown",
   "id": "e1228cee",
   "metadata": {},
   "source": [
    "##### arccos\n",
    "Trigonometric inverse cosine, element-wise."
   ]
  },
  {
   "cell_type": "code",
   "execution_count": null,
   "id": "71896135",
   "metadata": {},
   "outputs": [],
   "source": [
    "out = np.arccos(dataset)\n",
    "_ = out.plot(figsize=(6, 2.5))"
   ]
  },
  {
   "cell_type": "markdown",
   "id": "ec266cbb",
   "metadata": {},
   "source": [
    "##### arctan\n",
    "Trigonometric inverse tangent, element-wise."
   ]
  },
  {
   "cell_type": "code",
   "execution_count": null,
   "id": "09b99cd6",
   "metadata": {},
   "outputs": [],
   "source": [
    "out = np.arctan(dataset)\n",
    "_ = out.plot(figsize=(6, 2.5))"
   ]
  },
  {
   "cell_type": "markdown",
   "id": "e590b0c9",
   "metadata": {},
   "source": [
    "#### Angle units conversion"
   ]
  },
  {
   "cell_type": "markdown",
   "id": "946cf731",
   "metadata": {
    "lines_to_next_cell": 2
   },
   "source": [
    "##### rad2deg\n",
    "Convert angles from radians to degrees (warning: unitless or dimensionless are assumed to be radians, so no error\n",
    "will be issued)."
   ]
  },
  {
   "cell_type": "markdown",
   "id": "dc751454",
   "metadata": {
    "lines_to_next_cell": 2
   },
   "source": [
    "for instance, if we take the z axis (the data magnitude) in the figure above, it's expressed in radians. We can\n",
    "change to degrees easily."
   ]
  },
  {
   "cell_type": "code",
   "execution_count": null,
   "id": "27b7340b",
   "metadata": {},
   "outputs": [],
   "source": [
    "out = np.rad2deg(dataset)\n",
    "out.title = \"data\"  # just to avoid a too long title\n",
    "_ = out.plot(figsize=(6, 2.5))"
   ]
  },
  {
   "cell_type": "markdown",
   "id": "98d8804c",
   "metadata": {
    "lines_to_next_cell": 2
   },
   "source": [
    "##### deg2rad\n",
    "Convert angles from degrees to radians."
   ]
  },
  {
   "cell_type": "code",
   "execution_count": null,
   "id": "5d50acc2",
   "metadata": {},
   "outputs": [],
   "source": [
    "out = np.deg2rad(out)\n",
    "out.title = \"data\"\n",
    "_ = out.plot(figsize=(6, 2.5))"
   ]
  },
  {
   "cell_type": "markdown",
   "id": "7f0ab6df",
   "metadata": {},
   "source": [
    "#### Hyperbolic functions"
   ]
  },
  {
   "cell_type": "markdown",
   "id": "c5fa795c",
   "metadata": {},
   "source": [
    "##### sinh\n",
    "Hyperbolic sine, element-wise."
   ]
  },
  {
   "cell_type": "code",
   "execution_count": null,
   "id": "42121b9e",
   "metadata": {},
   "outputs": [],
   "source": [
    "out = np.sinh(dataset)\n",
    "_ = out.plot(figsize=(6, 2.5))"
   ]
  },
  {
   "cell_type": "markdown",
   "id": "f0555d55",
   "metadata": {},
   "source": [
    "##### cosh\n",
    "Hyperbolic cosine, element-wise."
   ]
  },
  {
   "cell_type": "code",
   "execution_count": null,
   "id": "f58f1e6d",
   "metadata": {},
   "outputs": [],
   "source": [
    "out = np.cosh(dataset)\n",
    "_ = out.plot(figsize=(6, 2.5))"
   ]
  },
  {
   "cell_type": "markdown",
   "id": "ac8a72f9",
   "metadata": {},
   "source": [
    "##### tanh\n",
    "Compute hyperbolic tangent element-wise."
   ]
  },
  {
   "cell_type": "code",
   "execution_count": null,
   "id": "39657030",
   "metadata": {},
   "outputs": [],
   "source": [
    "out = np.tanh(dataset)\n",
    "_ = out.plot(figsize=(6, 2.5))"
   ]
  },
  {
   "cell_type": "markdown",
   "id": "71534bbe",
   "metadata": {},
   "source": [
    "##### arcsinh\n",
    "Inverse hyperbolic sine element-wise."
   ]
  },
  {
   "cell_type": "code",
   "execution_count": null,
   "id": "d456748a",
   "metadata": {},
   "outputs": [],
   "source": [
    "out = np.arcsinh(dataset)\n",
    "_ = out.plot(figsize=(6, 2.5))"
   ]
  },
  {
   "cell_type": "markdown",
   "id": "823f04a9",
   "metadata": {},
   "source": [
    "##### arccosh\n",
    "Inverse hyperbolic cosine, element-wise."
   ]
  },
  {
   "cell_type": "code",
   "execution_count": null,
   "id": "16c26cf1",
   "metadata": {},
   "outputs": [],
   "source": [
    "out = np.arccosh(dataset)\n",
    "_ = out.plot(figsize=(6, 2.5))"
   ]
  },
  {
   "cell_type": "markdown",
   "id": "820e0212",
   "metadata": {},
   "source": [
    "##### arctanh\n",
    "Inverse hyperbolic tangent element-wise."
   ]
  },
  {
   "cell_type": "code",
   "execution_count": null,
   "id": "9239641c",
   "metadata": {},
   "outputs": [],
   "source": [
    "out = np.arctanh(dataset)\n",
    "_ = out.plot(figsize=(6, 2.5))"
   ]
  },
  {
   "cell_type": "markdown",
   "id": "bfc4b75c",
   "metadata": {},
   "source": [
    "### Binary functions"
   ]
  },
  {
   "cell_type": "code",
   "execution_count": null,
   "id": "4c7aab80",
   "metadata": {},
   "outputs": [],
   "source": [
    "dataset2 = np.reciprocal(dataset + 3)  # create a second dataset\n",
    "dataset2[5000.0:4000.0] = MASKED\n",
    "_ = dataset.plot(figsize=(6, 2.5))\n",
    "_ = dataset2.plot(figsize=(6, 2.5))"
   ]
  },
  {
   "cell_type": "markdown",
   "id": "915f3a1a",
   "metadata": {},
   "source": [
    "#### Arithmetic"
   ]
  },
  {
   "cell_type": "markdown",
   "id": "af3500b5",
   "metadata": {},
   "source": [
    "##### add\n",
    "Add arguments element-wise."
   ]
  },
  {
   "cell_type": "code",
   "execution_count": null,
   "id": "75d582b4",
   "metadata": {},
   "outputs": [],
   "source": [
    "out = np.add(dataset, dataset2)\n",
    "_ = out.plot(figsize=(6, 2.5))"
   ]
  },
  {
   "cell_type": "markdown",
   "id": "e8b412d9",
   "metadata": {},
   "source": [
    "##### subtract\n",
    "Subtract arguments, element-wise."
   ]
  },
  {
   "cell_type": "code",
   "execution_count": null,
   "id": "dab1b00b",
   "metadata": {},
   "outputs": [],
   "source": [
    "out = np.subtract(dataset, dataset2)\n",
    "_ = out.plot(figsize=(6, 2.5))"
   ]
  },
  {
   "cell_type": "markdown",
   "id": "ec261dbb",
   "metadata": {},
   "source": [
    "##### multiply\n",
    "Multiply arguments element-wise."
   ]
  },
  {
   "cell_type": "code",
   "execution_count": null,
   "id": "6457a500",
   "metadata": {},
   "outputs": [],
   "source": [
    "out = np.multiply(dataset, dataset2)\n",
    "_ = out.plot(figsize=(6, 2.5))"
   ]
  },
  {
   "cell_type": "markdown",
   "id": "a6f38d5c",
   "metadata": {},
   "source": [
    "##### divide\n",
    "or\n",
    "##### true_divide\n",
    "Returns a true division of the inputs, element-wise."
   ]
  },
  {
   "cell_type": "code",
   "execution_count": null,
   "id": "5a8404d2",
   "metadata": {},
   "outputs": [],
   "source": [
    "out = np.divide(dataset, dataset2)\n",
    "_ = out.plot(figsize=(6, 2.5))"
   ]
  },
  {
   "cell_type": "markdown",
   "id": "4a1113e5",
   "metadata": {},
   "source": [
    "##### floor_divide\n",
    "Return the largest integer smaller or equal to the division of the inputs."
   ]
  },
  {
   "cell_type": "code",
   "execution_count": null,
   "id": "46ce627b",
   "metadata": {},
   "outputs": [],
   "source": [
    "out = np.floor_divide(dataset, dataset2)\n",
    "_ = out.plot(figsize=(6, 2.5))"
   ]
  },
  {
   "cell_type": "markdown",
   "id": "ed9f6f77",
   "metadata": {},
   "source": [
    "## Complex or hypercomplex NDDatasets\n",
    "\n",
    "\n",
    "NDDataset objects with complex data are handled differently than in\n",
    "`numpy.ndarray` .\n",
    "\n",
    "Instead, complex data are stored by interlacing the real and imaginary part.\n",
    "This allows the definition of data that can be complex in several axis, and *e\n",
    ".g.,* allows 2D-hypercomplex array that can be transposed (useful for NMR data)."
   ]
  },
  {
   "cell_type": "code",
   "execution_count": null,
   "id": "a4e99be8",
   "metadata": {},
   "outputs": [],
   "source": [
    "da = scp.NDDataset(\n",
    "    [\n",
    "        [1.0 + 2.0j, 2.0 + 0j],\n",
    "        [1.3 + 2.0j, 2.0 + 0.5j],\n",
    "        [1.0 + 4.2j, 2.0 + 3j],\n",
    "        [5.0 + 4.2j, 2.0 + 3j],\n",
    "    ]\n",
    ")\n",
    "da"
   ]
  },
  {
   "cell_type": "markdown",
   "id": "9d46e134",
   "metadata": {},
   "source": [
    "A dataset of type float can be transformed into a complex dataset (using two consecutive rows to create a complex\n",
    "row)"
   ]
  },
  {
   "cell_type": "code",
   "execution_count": null,
   "id": "d9347dba",
   "metadata": {},
   "outputs": [],
   "source": [
    "da = scp.NDDataset(np.arange(40).reshape(10, 4))\n",
    "da"
   ]
  },
  {
   "cell_type": "code",
   "execution_count": null,
   "id": "4e3fd611",
   "metadata": {},
   "outputs": [],
   "source": [
    "dac = da.set_complex()\n",
    "dac"
   ]
  },
  {
   "cell_type": "markdown",
   "id": "a5f6261f",
   "metadata": {},
   "source": [
    "Note the `x`dimension size is divided by a factor of two"
   ]
  },
  {
   "cell_type": "markdown",
   "id": "2c78b947",
   "metadata": {},
   "source": [
    "A dataset which is complex in two dimensions is called hypercomplex (it's datatype in SpectroChemPy is set to\n",
    "quaternion)."
   ]
  },
  {
   "cell_type": "code",
   "execution_count": null,
   "id": "90b53a57",
   "metadata": {},
   "outputs": [],
   "source": [
    "daq = da.set_quaternion()  # equivalently one can use the set_hypercomplex method\n",
    "daq"
   ]
  },
  {
   "cell_type": "code",
   "execution_count": null,
   "id": "35356ba9",
   "metadata": {},
   "outputs": [],
   "source": [
    "daq.dtype"
   ]
  }
 ],
 "metadata": {
  "jupytext": {
   "encoding": "# -*- coding: utf-8 -*-",
   "formats": "ipynb,py:percent",
   "notebook_metadata_filter": "all"
  },
  "kernelspec": {
   "display_name": "Python 3 (ipykernel)",
   "language": "python",
   "name": "python3"
  },
  "language_info": {
   "codemirror_mode": {
    "name": "ipython",
    "version": 3
   },
   "file_extension": ".py",
   "mimetype": "text/x-python",
   "name": "python",
   "nbconvert_exporter": "python",
   "pygments_lexer": "ipython3",
   "version": "3.10.8"
  }
 },
 "nbformat": 4,
 "nbformat_minor": 5
}
