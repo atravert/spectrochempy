{
  "cells": [
    {
      "cell_type": "markdown",
      "metadata": {},
      "source": [
        "\n# PCA example (iris dataset)\nIn this example, we perform the PCA dimensionality reduction of the classical `iris`\ndataset (Ronald A. Fisher.\n\"The Use of Multiple Measurements in Taxonomic Problems. Annals of Eugenics, 7, pp.179-188, 1936).\n"
      ]
    },
    {
      "cell_type": "markdown",
      "metadata": {},
      "source": [
        "First we laod the spectrochempy API package\n\n"
      ]
    },
    {
      "cell_type": "code",
      "execution_count": null,
      "metadata": {
        "collapsed": false
      },
      "outputs": [],
      "source": [
        "import spectrochempy as scp"
      ]
    },
    {
      "cell_type": "markdown",
      "metadata": {},
      "source": [
        "Upload a dataset form a distant server\n\n"
      ]
    },
    {
      "cell_type": "code",
      "execution_count": null,
      "metadata": {
        "collapsed": false
      },
      "outputs": [],
      "source": [
        "try:\n    dataset = scp.download_iris()\nexcept (IOError, OSError):\n    print(\"Could not load The `IRIS` dataset. Finishing here.\")\n    import sys\n\n    sys.exit(0)"
      ]
    },
    {
      "cell_type": "markdown",
      "metadata": {},
      "source": [
        "Create a PCA object\nHere, the number of components  wich is used by the model is automatically determined\nusing `n_components=\"mle\"`\\. Warning: `mle` cannot be used when\nn_observations < n_features.\n\n"
      ]
    },
    {
      "cell_type": "code",
      "execution_count": null,
      "metadata": {
        "collapsed": false
      },
      "outputs": [],
      "source": [
        "pca = scp.PCA(n_components=\"mle\")"
      ]
    },
    {
      "cell_type": "markdown",
      "metadata": {},
      "source": [
        "Fit dataset with the PCA model\n\n"
      ]
    },
    {
      "cell_type": "code",
      "execution_count": null,
      "metadata": {
        "collapsed": false
      },
      "outputs": [],
      "source": [
        "pca.fit(dataset)"
      ]
    },
    {
      "cell_type": "markdown",
      "metadata": {},
      "source": [
        "The number of components found is 3:\n\n"
      ]
    },
    {
      "cell_type": "code",
      "execution_count": null,
      "metadata": {
        "collapsed": false
      },
      "outputs": [],
      "source": [
        "pca.n_components"
      ]
    },
    {
      "cell_type": "markdown",
      "metadata": {},
      "source": [
        "It explain 99.5 % of the variance\n\n"
      ]
    },
    {
      "cell_type": "code",
      "execution_count": null,
      "metadata": {
        "collapsed": false
      },
      "outputs": [],
      "source": [
        "pca.cumulative_explained_variance[-1].value"
      ]
    },
    {
      "cell_type": "markdown",
      "metadata": {},
      "source": [
        "We can also specify the amount of explained variance to compute how much components\nare needed (a number between 0 and 1 for n_components is required to do this).\nwe found 4 components in this case\n\n"
      ]
    },
    {
      "cell_type": "code",
      "execution_count": null,
      "metadata": {
        "collapsed": false
      },
      "outputs": [],
      "source": [
        "pca = scp.PCA(n_components=0.999)\npca.fit(dataset)\npca.n_components"
      ]
    },
    {
      "cell_type": "markdown",
      "metadata": {},
      "source": [
        "the 4 components found are in the `components` attribute of pca. These components are\noften called loadings in PCA analysis.\n\n"
      ]
    },
    {
      "cell_type": "code",
      "execution_count": null,
      "metadata": {
        "collapsed": false
      },
      "outputs": [],
      "source": [
        "loadings = pca.components\nloadings"
      ]
    },
    {
      "cell_type": "markdown",
      "metadata": {},
      "source": [
        "Note: it is equivalently possible to use the `loadings` attribute of pca, which\nproduce the same results.\n\n"
      ]
    },
    {
      "cell_type": "code",
      "execution_count": null,
      "metadata": {
        "collapsed": false
      },
      "outputs": [],
      "source": [
        "pca.loadings"
      ]
    },
    {
      "cell_type": "markdown",
      "metadata": {},
      "source": [
        "To Reduce the data to a lower dimensionality using these three components, we use the\ntransform methods. The results is often called `scores` for PCA analysis.\n\n"
      ]
    },
    {
      "cell_type": "code",
      "execution_count": null,
      "metadata": {
        "collapsed": false
      },
      "outputs": [],
      "source": [
        "scores = pca.transform()\nscores"
      ]
    },
    {
      "cell_type": "markdown",
      "metadata": {},
      "source": [
        "Again, we can also use the `scores` attribute to get this results\n\n"
      ]
    },
    {
      "cell_type": "code",
      "execution_count": null,
      "metadata": {
        "collapsed": false
      },
      "outputs": [],
      "source": [
        "scores = pca.scores\nscores"
      ]
    },
    {
      "cell_type": "markdown",
      "metadata": {},
      "source": [
        "The figures of merit (explained and cumulative variance) confirm that\nthese 4 PC's explain 100% of the variance:\n\n\n"
      ]
    },
    {
      "cell_type": "code",
      "execution_count": null,
      "metadata": {
        "collapsed": false
      },
      "outputs": [],
      "source": [
        "pca.printev()"
      ]
    },
    {
      "cell_type": "markdown",
      "metadata": {},
      "source": [
        "These figures of merit can also be displayed graphically\n\nThe ScreePlot\n\n"
      ]
    },
    {
      "cell_type": "code",
      "execution_count": null,
      "metadata": {
        "collapsed": false
      },
      "outputs": [],
      "source": [
        "_ = pca.screeplot()"
      ]
    },
    {
      "cell_type": "markdown",
      "metadata": {},
      "source": [
        "The score plots can be used for classification purposes. The first one - in 2D for the\n2 first PC's - shows that the first PC allows distinguishing Iris-setosa (score of\nPC#1 < -1) from other species (score of PC#1 > -1), while more PC's are required\nto distinguish versicolor from viginica.\n\n"
      ]
    },
    {
      "cell_type": "code",
      "execution_count": null,
      "metadata": {
        "collapsed": false
      },
      "outputs": [],
      "source": [
        "_ = pca.scoreplot(scores, 1, 2, color_mapping=\"labels\")"
      ]
    },
    {
      "cell_type": "markdown",
      "metadata": {},
      "source": [
        "The second one - in 3D for the 3 first PC's - indicates that a thid PC won't allow\nbetter distinguishing versicolor from viginica.\n\n"
      ]
    },
    {
      "cell_type": "code",
      "execution_count": null,
      "metadata": {
        "collapsed": false
      },
      "outputs": [],
      "source": [
        "ax = pca.scoreplot(scores, 1, 2, 3, color_mapping=\"labels\")\nax.view_init(10, 75)"
      ]
    },
    {
      "cell_type": "markdown",
      "metadata": {},
      "source": [
        "This ends the example ! The following line can be uncommented if no plot shows when\nrunning the .py script\n\n"
      ]
    },
    {
      "cell_type": "code",
      "execution_count": null,
      "metadata": {
        "collapsed": false
      },
      "outputs": [],
      "source": [
        "# scp.show()"
      ]
    }
  ],
  "metadata": {
    "kernelspec": {
      "display_name": "Python 3",
      "language": "python",
      "name": "python3"
    },
    "language_info": {
      "codemirror_mode": {
        "name": "ipython",
        "version": 3
      },
      "file_extension": ".py",
      "mimetype": "text/x-python",
      "name": "python",
      "nbconvert_exporter": "python",
      "pygments_lexer": "ipython3",
      "version": "3.9.16"
    }
  },
  "nbformat": 4,
  "nbformat_minor": 0
}