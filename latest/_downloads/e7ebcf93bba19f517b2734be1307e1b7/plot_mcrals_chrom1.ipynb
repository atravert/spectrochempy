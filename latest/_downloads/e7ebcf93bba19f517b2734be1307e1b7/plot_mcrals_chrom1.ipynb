{
  "cells": [
    {
      "cell_type": "markdown",
      "metadata": {},
      "source": [
        "\n# MCR-ALS example (adapted from Jaumot et al. 2005)\n\nIn this example, we perform the MCR ALS optimization of a dataset\ncorresponding to a HPLC-DAD run, from :cite:t:`jaumot:2005` and :cite:t:`jaumot:2015`\\ .\n\nThis dataset (and others) can be downloaded from the\n[Multivariate Curve Resolution Homepage](https://mcrals.wordpress.com/download/example-data-sets)\\ .\n\nFor the user convenience, this dataset is present in the test data directory\n`scp.preferences.datadir` of SpectroChemPy as ``als2004dataset.MAT``\\ .\n"
      ]
    },
    {
      "cell_type": "markdown",
      "metadata": {},
      "source": [
        "Import the spectrochempy API package\n\n"
      ]
    },
    {
      "cell_type": "code",
      "execution_count": null,
      "metadata": {
        "collapsed": false
      },
      "outputs": [],
      "source": [
        "import spectrochempy as scp"
      ]
    },
    {
      "cell_type": "markdown",
      "metadata": {},
      "source": [
        "## Loading the example dataset\n\nThe file type (matlab) is inferred from the extension ``.mat``\\ , so we\ncan use the generic API function `read`\\ .  Alternatively, one can be more\nspecific by using the `read_matlab` function. Both have exactly the same behavior.\n\n"
      ]
    },
    {
      "cell_type": "code",
      "execution_count": null,
      "metadata": {
        "collapsed": false
      },
      "outputs": [],
      "source": [
        "datasets = scp.read(\"matlabdata/als2004dataset.MAT\")"
      ]
    },
    {
      "cell_type": "markdown",
      "metadata": {},
      "source": [
        "As the ``.mat`` file contains 6 matrices, 6 `NDDataset` objects are returned.\n\n"
      ]
    },
    {
      "cell_type": "code",
      "execution_count": null,
      "metadata": {
        "collapsed": false
      },
      "outputs": [],
      "source": [
        "print(\"NDDataset names:\")\nfor ds in datasets:\n    print(f\"{ds.name} : {ds.shape}\")"
      ]
    },
    {
      "cell_type": "markdown",
      "metadata": {},
      "source": [
        "We are interested in the last dataset (``\"m1\"``\\ ) that contains a single HPLS-DAD run\n``(51x96)``  dataset.\n\nAs usual, the 51 rows correspond to the ``time axis`` of the HPLC run, and the 96\ncolumns to the ``wavelength`` axis of the UV spectra. The original dataset does not\ncontain information as to the actual time and wavelength coordinates.\n\nMCR-ALS needs also an initial guess for either concentration profiles or pure spectra\nconcentration profiles.\nThe 4th dataset in the example (``\"spure\"``) contains (4x96) guess of spectral\nprofiles.\n\nThe experimental data as $X$ (``X``) and the ``guess`` are thus:\n\n"
      ]
    },
    {
      "cell_type": "code",
      "execution_count": null,
      "metadata": {
        "collapsed": false
      },
      "outputs": [],
      "source": [
        "X = datasets[-1]\nguess = datasets[3]"
      ]
    },
    {
      "cell_type": "markdown",
      "metadata": {},
      "source": [
        "Plot of X and of the guess:\n\n"
      ]
    },
    {
      "cell_type": "code",
      "execution_count": null,
      "metadata": {
        "collapsed": false
      },
      "outputs": [],
      "source": [
        "_ = X.plot()\n_ = guess.plot()"
      ]
    },
    {
      "cell_type": "markdown",
      "metadata": {},
      "source": [
        "## Create a MCR-ALS object\n\nWe first create a MCR-ALS object named here ``mcr``\\ .\n\nThe `log_level` option can be set to ``\"INFO\"`` to get verbose ouput of\nthe MCR-ALS optimization steps.\n\n"
      ]
    },
    {
      "cell_type": "code",
      "execution_count": null,
      "metadata": {
        "collapsed": false
      },
      "outputs": [],
      "source": [
        "mcr = scp.MCRALS(log_level=\"INFO\")"
      ]
    },
    {
      "cell_type": "markdown",
      "metadata": {},
      "source": [
        "## Fit the MCR-ALS model\n\nThen we execute the optimization process using the `fit` method with\nthe ``X`` and ``guess`` dataset as input arguments.\n\n"
      ]
    },
    {
      "cell_type": "code",
      "execution_count": null,
      "metadata": {
        "collapsed": false
      },
      "outputs": [],
      "source": [
        "_ = mcr.fit(X, guess)"
      ]
    },
    {
      "cell_type": "markdown",
      "metadata": {},
      "source": [
        "## Plotting the results\n\nThe optimization has converged. We can get the concentration $C$ (C) and\npure spectra profiles $S^T$ (St) and plot them\n\n"
      ]
    },
    {
      "cell_type": "code",
      "execution_count": null,
      "metadata": {
        "collapsed": false
      },
      "outputs": [],
      "source": [
        "_ = mcr.C.T.plot()\n_ = mcr.St.plot()"
      ]
    },
    {
      "cell_type": "markdown",
      "metadata": {},
      "source": [
        "Finally, plots the reconstructed dataset ($\\hat{X} = C.S^T$\\ )\n*vs.* original dataset\n($X$\\ ) as well as the residuals ($E$\\ ) for few spectra.\n\nThe fit is good and comparable to the original paper (:cite:t:`jaumot:2005`).\n\n"
      ]
    },
    {
      "cell_type": "code",
      "execution_count": null,
      "metadata": {
        "collapsed": false
      },
      "outputs": [],
      "source": [
        "_ = mcr.plotmerit(nb_traces=5)"
      ]
    },
    {
      "cell_type": "markdown",
      "metadata": {},
      "source": [
        "This ends the example ! The following line can be uncommented if no plot shows when\nrunning the .py script\n\n"
      ]
    },
    {
      "cell_type": "code",
      "execution_count": null,
      "metadata": {
        "collapsed": false
      },
      "outputs": [],
      "source": [
        "# scp.show()"
      ]
    }
  ],
  "metadata": {
    "kernelspec": {
      "display_name": "Python 3",
      "language": "python",
      "name": "python3"
    },
    "language_info": {
      "codemirror_mode": {
        "name": "ipython",
        "version": 3
      },
      "file_extension": ".py",
      "mimetype": "text/x-python",
      "name": "python",
      "nbconvert_exporter": "python",
      "pygments_lexer": "ipython3",
      "version": "3.9.16"
    }
  },
  "nbformat": 4,
  "nbformat_minor": 0
}