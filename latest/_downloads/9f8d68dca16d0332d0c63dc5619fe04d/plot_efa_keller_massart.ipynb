{
  "cells": [
    {
      "cell_type": "markdown",
      "metadata": {},
      "source": [
        "\n# EFA (Keller and Massart original example)\n\nIn this example, we perform the Evolving Factor Analysis of a TEST dataset\n(ref. Keller and Massart, Chemometrics and Intelligent Laboratory Systems,\n12 (1992) 209-224 )\n"
      ]
    },
    {
      "cell_type": "code",
      "execution_count": null,
      "metadata": {
        "collapsed": false
      },
      "outputs": [],
      "source": [
        "import numpy as np\n\nimport spectrochempy as scp\n\n# sphinx_gallery_thumbnail_number = 5"
      ]
    },
    {
      "cell_type": "markdown",
      "metadata": {},
      "source": [
        "## Generate a test dataset\n1) simulated chromatogram\n*************************\n\n"
      ]
    },
    {
      "cell_type": "code",
      "execution_count": null,
      "metadata": {
        "collapsed": false
      },
      "outputs": [],
      "source": [
        "t = scp.Coord(np.arange(15), units=\"minutes\", title=\"time\")  # time coordinates\nc = scp.Coord(range(2), title=\"components\")  # component coordinates\n\ndata = np.zeros((2, 15), dtype=np.float64)\ndata[0, 3:8] = [1, 3, 6, 3, 1]  # compound 1\ndata[1, 5:11] = [1, 3, 5, 3, 1, 0.5]  # compound 2\n\ndsc = scp.NDDataset(data=data, coords=[c, t])\ndsc.plot(title=\"concentration\")"
      ]
    },
    {
      "cell_type": "markdown",
      "metadata": {},
      "source": [
        "### 2) absorption spectra\n\n"
      ]
    },
    {
      "cell_type": "code",
      "execution_count": null,
      "metadata": {
        "collapsed": false
      },
      "outputs": [],
      "source": [
        "spec = np.array([[2.0, 3.0, 4.0, 2.0], [3.0, 4.0, 2.0, 1.0]])\nw = scp.Coord(np.arange(1, 5, 1), units=\"nm\", title=\"wavelength\")\n\ndss = scp.NDDataset(data=spec, coords=[c, w])\ndss.plot(title=\"spectra\")"
      ]
    },
    {
      "cell_type": "markdown",
      "metadata": {},
      "source": [
        "### 3) simulated data matrix\n\n"
      ]
    },
    {
      "cell_type": "code",
      "execution_count": null,
      "metadata": {
        "collapsed": false
      },
      "outputs": [],
      "source": [
        "dataset = scp.dot(dsc.T, dss)\ndataset.data = np.random.normal(dataset.data, 0.1)\ndataset.title = \"intensity\"\n\ndataset.plot(title=\"calculated dataset\")"
      ]
    },
    {
      "cell_type": "markdown",
      "metadata": {},
      "source": [
        "### 4) evolving factor analysis (EFA)\n\n"
      ]
    },
    {
      "cell_type": "code",
      "execution_count": null,
      "metadata": {
        "collapsed": false
      },
      "outputs": [],
      "source": [
        "efa = scp.EFA()\nefa.fit(dataset)"
      ]
    },
    {
      "cell_type": "markdown",
      "metadata": {},
      "source": [
        "Plots of the log(EV) for the forward and backward analysis\n\n\n"
      ]
    },
    {
      "cell_type": "code",
      "execution_count": null,
      "metadata": {
        "collapsed": false
      },
      "outputs": [],
      "source": [
        "efa.f_ev.T.plot(yscale=\"log\", legend=efa.f_ev.x.labels)"
      ]
    },
    {
      "cell_type": "code",
      "execution_count": null,
      "metadata": {
        "collapsed": false
      },
      "outputs": [],
      "source": [
        "efa.b_ev.T.plot(yscale=\"log\", legend=efa.b_ev.x.labels)"
      ]
    },
    {
      "cell_type": "markdown",
      "metadata": {},
      "source": [
        "Looking at these EFA curves, it is quite obvious that only two components\nare really significant, and this corresponds to the data that we have in\ninput.\nWe can consider that the third EFA components is mainly due to the noise,\nand so we can use it to set a cut of values\n\n"
      ]
    },
    {
      "cell_type": "code",
      "execution_count": null,
      "metadata": {
        "collapsed": false
      },
      "outputs": [],
      "source": [
        "n_pc = efa.n_components = 2\n\nefa.cutoff = np.max(efa.f_ev[:, n_pc].data)\nf2 = efa.f_ev[:, :n_pc]\nb2 = efa.b_ev[:, :n_pc]"
      ]
    },
    {
      "cell_type": "markdown",
      "metadata": {},
      "source": [
        "we concatenate the datasets to plot them in a single figure\n\n"
      ]
    },
    {
      "cell_type": "code",
      "execution_count": null,
      "metadata": {
        "collapsed": false
      },
      "outputs": [],
      "source": [
        "both = scp.concatenate(f2, b2)\nboth.T.plot(yscale=\"log\")"
      ]
    },
    {
      "cell_type": "markdown",
      "metadata": {},
      "source": [
        "Get the abstract concentration profile based on the FIFO EFA analysis\n\n\n"
      ]
    },
    {
      "cell_type": "code",
      "execution_count": null,
      "metadata": {
        "collapsed": false
      },
      "outputs": [],
      "source": [
        "C = efa.transform()\nC.T.plot(title=\"EFA concentration\")"
      ]
    },
    {
      "cell_type": "markdown",
      "metadata": {},
      "source": [
        "This ends the example ! The following line can be uncommented if no plot shows when\nrunning the .py script\n\n"
      ]
    },
    {
      "cell_type": "code",
      "execution_count": null,
      "metadata": {
        "collapsed": false
      },
      "outputs": [],
      "source": [
        "# scp.show()"
      ]
    }
  ],
  "metadata": {
    "kernelspec": {
      "display_name": "Python 3",
      "language": "python",
      "name": "python3"
    },
    "language_info": {
      "codemirror_mode": {
        "name": "ipython",
        "version": 3
      },
      "file_extension": ".py",
      "mimetype": "text/x-python",
      "name": "python",
      "nbconvert_exporter": "python",
      "pygments_lexer": "ipython3",
      "version": "3.9.16"
    }
  },
  "nbformat": 4,
  "nbformat_minor": 0
}