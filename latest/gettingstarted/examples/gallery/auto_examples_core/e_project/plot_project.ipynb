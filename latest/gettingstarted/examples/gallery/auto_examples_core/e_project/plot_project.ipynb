{
 "cells": [
  {
   "cell_type": "markdown",
   "metadata": {},
   "source": [
    "# Project creation\n",
    "\n",
    "In this example, we create a Project from scratch\n"
   ]
  },
  {
   "cell_type": "code",
   "execution_count": 1,
   "metadata": {
    "collapsed": false,
    "execution": {
     "iopub.execute_input": "2025-01-28T09:22:10.268855Z",
     "iopub.status.busy": "2025-01-28T09:22:10.268704Z",
     "iopub.status.idle": "2025-01-28T09:22:12.091663Z",
     "shell.execute_reply": "2025-01-28T09:22:12.091198Z"
    }
   },
   "outputs": [
    {
     "data": {
      "text/html": [
       "\n",
       "    \n",
       "    <div>\n",
       "    <table>\n",
       "    <tr>\n",
       "    <td>\n",
       "    \n",
       "    <img src='data:image/png;base64,iVBORw0KGgoAAAANSUhEUgAAABgAAAAYCAYAAADgdz34AAAAAXNSR0IArs4c6QAAAAlw\n",
       "    SFlzAAAJOgAACToB8GSSSgAAAetpVFh0WE1MOmNvbS5hZG9iZS54bXAAAAAAADx4OnhtcG1ldGEgeG1sbnM6eD0iYWRvYmU6bnM6\n",
       "    bWV0YS8iIHg6eG1wdGs9IlhNUCBDb3JlIDUuNC4wIj4KICAgPHJkZjpSREYgeG1sbnM6cmRmPSJodHRwOi8vd3d3LnczLm9yZy8x\n",
       "    OTk5LzAyLzIyLXJkZi1zeW50YXgtbnMjIj4KICAgICAgPHJkZjpEZXNjcmlwdGlvbiByZGY6YWJvdXQ9IiIKICAgICAgICAgICAg\n",
       "    eG1sbnM6eG1wPSJodHRwOi8vbnMuYWRvYmUuY29tL3hhcC8xLjAvIgogICAgICAgICAgICB4bWxuczp0aWZmPSJodHRwOi8vbnMu\n",
       "    YWRvYmUuY29tL3RpZmYvMS4wLyI+CiAgICAgICAgIDx4bXA6Q3JlYXRvclRvb2w+bWF0cGxvdGxpYiB2ZXJzaW9uIDIuMS4wLCBo\n",
       "    dHRwOi8vbWF0cGxvdGxpYi5vcmcvPC94bXA6Q3JlYXRvclRvb2w+CiAgICAgICAgIDx0aWZmOk9yaWVudGF0aW9uPjE8L3RpZmY6\n",
       "    T3JpZW50YXRpb24+CiAgICAgIDwvcmRmOkRlc2NyaXB0aW9uPgogICA8L3JkZjpSREY+CjwveDp4bXBtZXRhPgqNQaNYAAAGiUlE\n",
       "    QVRIDY1We4xU1Rn/3XPuYx47u8w+hnU38hTcuoUEt/6D2y4RB0ME1BoEd9taJaKh9CFiN7YGp7appUAMNmktMZFoJTYVLVQ0smsy\n",
       "    26CN0SU1QgsuFAaW3WVmx33N677O6XfuyoIxTXqSO/fec+75fd93vt/3/UbDV0aKSZmCpkFMLz3T9utuu2N+o98aDSMBKVAo89z5\n",
       "    y+zEz3ZafcCOfvWdlGCalqKn1Bf71CygTd+mf1esSOnpdMpTb+vWpTZuWVfe3jLPa5tzHYNm0T5N0gpdkkHaDBeGBU6d1/t/fyS8\n",
       "    +/CbqdfUvmsx1PuMgc2bNxv79u1zgd31r+7JH1jbIZKxWRXAcYUQ8IWvBfBXNjEuJWPgMA02NR7C3/pYT9fjdZ3A9tGrWF8YSJHn\n",
       "    qcDz3y7q2T967PZv+gnYJdd1mEZ+62zGDQV/dQgKhmLzDNOXCEWM3j6eTT5Y3w78dOBKJLR1PQf+4ivPj76UPZnssBN+wbM9Aet/\n",
       "    AV81Mf1EEULXYfOobvX2WWQk0aoioXwwSmirOlioY0mu8BIouzYl7P8GV3vpqCCEZvlFz769w08oLDWvyKIyL1asSm28d6WfzA97\n",
       "    ztvvV1kexUMsmhlkULEkuGYmFYC6AvfUrITnwUKl5K79lkjeSSRRTCTbQPd95e1WzMbZSya74XoXAxctCllCnbECMOjZNGRwvzIX\n",
       "    nD85wbkMmKK+U045Dtdi8Qp+SAxU2GTg2bYlC9224pgvmSb54vkVTBQYyhUt2KjAMyMmPjwRQW5Mh2WKwJhlBh6jVGagFM84wZnQ\n",
       "    4bpC0Rt4pk1PbSt0NDcxDA5xryosDHWgtbM0DGZDWLSoiDMDYeQnGVrmOThxLozB0RAaahzkJzjKNqcIQBymJFMkOlN8Dqjpg0XY\n",
       "    Tx5xO/QbmmUrqIjGJznq47TqTaClKYfjp+PInLMwnOdYvtQBZ2XcunQY+VwIo4U4muoFEjVEFE6lQyEUKzHYfgQG9ylCyngU+Cxj\n",
       "    tOqxCDGHcCsOMCs6iQul5ZiStdATYxjMZXDLTUVwLY8Jey4uOh2IxjwsrP8UXJYxUrkZrghBahzV5iXU6gNkq0Z1EzIsUBUSCV2n\n",
       "    EOHo0LVxHCpuxabJJdhi5PFnvw5vLXwXIfNZvD/+JNo/X40NegE54sUaazl+UL8XD1x+FB9Ijjt4EQfdGN6J/x131LwIV9ap/AYs\n",
       "    0x1fz1ZKFbh6A7qKy/By9Dg6G36Ep91vUJJ15Cqr0Z67E8/HzmBrw1OwxWyM+3Mo6BAuSB17oyfx0Oyl2DN0Hqs/70Cx6hBCvESF\n",
       "    UY1ShWXZZEE7OTAYxZzaPH4TuoiusZvRnunFy2NbiHYuBp2vB66srX4vMEjpRKPxKXmnoQ4+Mn4DPiv8CYcrs3GfNUXJLtM+alSO\n",
       "    hrMj/KT+wBNW3+E/2liywNO3iSflbaFva/+stGDTxE0E9Sjaox8HBhxpEamzMGSEaFKg+mjEddzDh1MxTDq3YV1kGBsjfwW3S9Cq\n",
       "    anjmko+ndlb1UR3s6K8JlfphNWq9Ew/7c61T2BB/EbcaNkb8GBaE0tANH7/M34PLdhJDzjIcL9xPbdTG6zyM72Y+wXPHmvB489No\n",
       "    fm0b5HnbQ9Rgp/7DSSd29AeVvPeNyK6JcYl/yQVi5dBjuGvoV/gaJe47s45QUxrDmcYX0MBsdF7egvXZ7+O0vZA4X8QmOQWjlSK7\n",
       "    RDz5wIM30gp9UbWcGjXxhzdDu1SiNSpx6kcQB57rPnr/3dlkZarWLnlRq5oPET1dOCIOk4wALib9eeS5iygfhkd09H0DWphB/+gs\n",
       "    +PcOAS+ssrFmmXXgVfR0de9cpbAJfH3Q1jofW9DZk56dDcVsq9YcsoUMEd1qyLoT3BX1YiyHMJuk97hyjqIoE91t+NcTLeN0ZrfM\n",
       "    oXatZbu6G0h4VG+ibqq0IJVK6cAjo6serG3vSUezCMct0yQeSOFJSUImqb2qbknUpDqlZxE0QZ+ZUpSlZx79h4Nda6zef9dlk121\n",
       "    JDjbR5XggPRZlRnS6bRQRtLpn4++cuie/Yvn2svmNxuLw9WCcYIl4fEoTEGiSTUqJdfgU+8ROqf1iMkLzS389YtNPXc/PH8l8ONB\n",
       "    JZkHD+4JtD04HmVEDWWErmBhzV2/2LB1bemJG6krzv2S6NOHUgtEP0Oif5pE/3fHoruP7N8RiP61GArzSwbUhJJQpXJKiKbfr/3b\n",
       "    IhKq76sKPUdF9NW/LSqfSn6vjv8C45H/6FSgvZQAAAAASUVORK5CYII='\n",
       "         style='height:25px; border-radius:12px; display:inline-block; float:left; vertical-align:middle'>\n",
       "    </img>\n",
       "    \n",
       "    </td>\n",
       "    <td>\n",
       "    \n",
       "    &nbsp;&nbsp;<span style='font-size:12px'>SpectroChemPy's API - v.0.1.20.dev1008<br/>© Copyright 2014-2025 - A.Travert & C.Fernandez @ LCS</span>\n",
       "    \n",
       "    </td>\n",
       "    </tr>\n",
       "    </table>\n",
       "    </div>\n",
       "    "
      ]
     },
     "metadata": {},
     "output_type": "display_data"
    }
   ],
   "source": [
    "import spectrochempy as scp"
   ]
  },
  {
   "cell_type": "markdown",
   "metadata": {},
   "source": [
    "Let\\'s assume we have three subproject to group in a single project\n"
   ]
  },
  {
   "cell_type": "code",
   "execution_count": 2,
   "metadata": {
    "collapsed": false,
    "execution": {
     "iopub.execute_input": "2025-01-28T09:22:12.093305Z",
     "iopub.status.busy": "2025-01-28T09:22:12.093040Z",
     "iopub.status.idle": "2025-01-28T09:22:12.096626Z",
     "shell.execute_reply": "2025-01-28T09:22:12.096118Z"
    }
   },
   "outputs": [],
   "source": [
    "proj = scp.Project(\n",
    "    # subprojects\n",
    "    scp.Project(name=\"P350\", label=r\"$\\mathrm{M_P}\\,(623\\,K)$\"),\n",
    "    scp.Project(name=\"A350\", label=r\"$\\mathrm{M_A}\\,(623\\,K)$\"),\n",
    "    scp.Project(name=\"B350\", label=r\"$\\mathrm{M_B}\\,(623\\,K)$\"),\n",
    "    # attributes\n",
    "    name=\"project_1\",\n",
    "    label=\"main project\",\n",
    ")\n",
    "\n",
    "assert proj.projects_names == [\"P350\", \"A350\", \"B350\"]"
   ]
  },
  {
   "cell_type": "markdown",
   "metadata": {},
   "source": [
    "Add for example two datasets to the [A350]{.title-ref} subproject.\n"
   ]
  },
  {
   "cell_type": "code",
   "execution_count": 3,
   "metadata": {
    "collapsed": false,
    "execution": {
     "iopub.execute_input": "2025-01-28T09:22:12.098331Z",
     "iopub.status.busy": "2025-01-28T09:22:12.097878Z",
     "iopub.status.idle": "2025-01-28T09:22:12.103060Z",
     "shell.execute_reply": "2025-01-28T09:22:12.102652Z"
    }
   },
   "outputs": [
    {
     "name": "stdout",
     "output_type": "stream",
     "text": [
      "NDDataset: [float64] unitless (size: 3)\n",
      "NDDataset: [float64] unitless (size: 3)\n"
     ]
    }
   ],
   "source": [
    "ir = scp.NDDataset([1.1, 2.2, 3.3], coords=[[1, 2, 3]])\n",
    "print(ir)\n",
    "tg = scp.NDDataset([1, 3, 4], coords=[[1, 2, 3]])\n",
    "print(tg)\n",
    "proj.A350[\"IR\"] = ir\n",
    "proj.A350[\"TG\"] = tg"
   ]
  },
  {
   "cell_type": "markdown",
   "metadata": {},
   "source": [
    "Members of the project or attributes are easily accessed:\n"
   ]
  },
  {
   "cell_type": "code",
   "execution_count": 4,
   "metadata": {
    "collapsed": false,
    "execution": {
     "iopub.execute_input": "2025-01-28T09:22:12.104509Z",
     "iopub.status.busy": "2025-01-28T09:22:12.104365Z",
     "iopub.status.idle": "2025-01-28T09:22:12.107301Z",
     "shell.execute_reply": "2025-01-28T09:22:12.106896Z"
    }
   },
   "outputs": [
    {
     "name": "stdout",
     "output_type": "stream",
     "text": [
      "Project A350:\n",
      "    ⤷ IR (dataset)\n",
      "    ⤷ TG (dataset)\n",
      "Project project_1:\n",
      "    ⤷ P350 (sub-project)    ⤷ A350 (sub-project)\n",
      "       ⤷ IR (dataset)\n",
      "       ⤷ TG (dataset)    ⤷ B350 (sub-project)\n",
      "$\\mathrm{M_A}\\,(623\\,K)$\n",
      "NDDataset: [float64] unitless (size: 3)\n"
     ]
    }
   ],
   "source": [
    "print(proj.A350)\n",
    "print(proj)\n",
    "print(proj.A350.label)\n",
    "print(proj.A350.TG)"
   ]
  },
  {
   "cell_type": "markdown",
   "metadata": {},
   "source": [
    "Save this project\n"
   ]
  },
  {
   "cell_type": "code",
   "execution_count": 5,
   "metadata": {
    "collapsed": false,
    "execution": {
     "iopub.execute_input": "2025-01-28T09:22:12.108849Z",
     "iopub.status.busy": "2025-01-28T09:22:12.108479Z",
     "iopub.status.idle": "2025-01-28T09:22:12.119467Z",
     "shell.execute_reply": "2025-01-28T09:22:12.119053Z"
    }
   },
   "outputs": [
    {
     "data": {
      "text/plain": [
       "PosixPath('/home/runner/work/spectrochempy/spectrochempy/docs/gettingstarted/examples/gallery/auto_examples_core/e_project/project_1.pscp')"
      ]
     },
     "execution_count": 5,
     "metadata": {},
     "output_type": "execute_result"
    }
   ],
   "source": [
    "proj.save()"
   ]
  },
  {
   "cell_type": "markdown",
   "metadata": {},
   "source": [
    "RELOAD the project from disk as newproj\n"
   ]
  },
  {
   "cell_type": "code",
   "execution_count": 6,
   "metadata": {
    "collapsed": false,
    "execution": {
     "iopub.execute_input": "2025-01-28T09:22:12.120857Z",
     "iopub.status.busy": "2025-01-28T09:22:12.120701Z",
     "iopub.status.idle": "2025-01-28T09:22:12.127048Z",
     "shell.execute_reply": "2025-01-28T09:22:12.126640Z"
    }
   },
   "outputs": [
    {
     "name": "stdout",
     "output_type": "stream",
     "text": [
      "Project project_1:\n",
      "    ⤷ P350 (sub-project)    ⤷ A350 (sub-project)\n",
      "       ⤷ IR (dataset)\n",
      "       ⤷ TG (dataset)    ⤷ B350 (sub-project)\n"
     ]
    }
   ],
   "source": [
    "newproj = scp.Project.load(\"project_1\")\n",
    "print(newproj)\n",
    "\n",
    "assert str(newproj) == str(proj)\n",
    "assert newproj.A350.label == proj.A350.label"
   ]
  },
  {
   "cell_type": "markdown",
   "metadata": {},
   "source": [
    "Now we add a script to the original proj\n"
   ]
  },
  {
   "cell_type": "code",
   "execution_count": 7,
   "metadata": {
    "collapsed": false,
    "execution": {
     "iopub.execute_input": "2025-01-28T09:22:12.128421Z",
     "iopub.status.busy": "2025-01-28T09:22:12.128271Z",
     "iopub.status.idle": "2025-01-28T09:22:12.131431Z",
     "shell.execute_reply": "2025-01-28T09:22:12.131016Z"
    }
   },
   "outputs": [
    {
     "name": "stdout",
     "output_type": "stream",
     "text": [
      "Project project_1:\n",
      "    ⤷ P350 (sub-project)    ⤷ A350 (sub-project)\n",
      "       ⤷ IR (dataset)\n",
      "       ⤷ TG (dataset)    ⤷ B350 (sub-project)    ⤷ print_info (script)\n",
      "*******************************************\n"
     ]
    }
   ],
   "source": [
    "script_source = \"\"\"\n",
    "set_loglevel(INFO)\n",
    "info_('samples contained in the project are:%s'%proj.projects_names)\n",
    "\"\"\"\n",
    "\n",
    "proj[\"print_info\"] = scp.Script(\"print_info\", script_source)\n",
    "print(proj)\n",
    "print(\"*******************************************\")"
   ]
  },
  {
   "cell_type": "markdown",
   "metadata": {},
   "source": [
    "save but do not change the original data\n"
   ]
  },
  {
   "cell_type": "code",
   "execution_count": 8,
   "metadata": {
    "collapsed": false,
    "execution": {
     "iopub.execute_input": "2025-01-28T09:22:12.132786Z",
     "iopub.status.busy": "2025-01-28T09:22:12.132634Z",
     "iopub.status.idle": "2025-01-28T09:22:12.137127Z",
     "shell.execute_reply": "2025-01-28T09:22:12.136762Z"
    }
   },
   "outputs": [
    {
     "data": {
      "text/plain": [
       "PosixPath('project_1.pscp')"
      ]
     },
     "execution_count": 8,
     "metadata": {},
     "output_type": "execute_result"
    }
   ],
   "source": [
    "proj.save(overwrite_data=False)"
   ]
  },
  {
   "cell_type": "markdown",
   "metadata": {},
   "source": [
    "RELOAD it\n"
   ]
  },
  {
   "cell_type": "code",
   "execution_count": 9,
   "metadata": {
    "collapsed": false,
    "execution": {
     "iopub.execute_input": "2025-01-28T09:22:12.138582Z",
     "iopub.status.busy": "2025-01-28T09:22:12.138428Z",
     "iopub.status.idle": "2025-01-28T09:22:12.143383Z",
     "shell.execute_reply": "2025-01-28T09:22:12.142989Z"
    }
   },
   "outputs": [
    {
     "name": "stdout",
     "output_type": "stream",
     "text": [
      "Project project_1:\n",
      "    ⤷ P350 (sub-project)    ⤷ A350 (sub-project)\n",
      "       ⤷ IR (dataset)\n",
      "       ⤷ TG (dataset)    ⤷ B350 (sub-project)    ⤷ print_info (script)\n"
     ]
    }
   ],
   "source": [
    "newproj = scp.Project.load(\"project_1\")\n",
    "print(newproj)"
   ]
  },
  {
   "cell_type": "markdown",
   "metadata": {},
   "source": [
    "Execute a script\n"
   ]
  },
  {
   "cell_type": "code",
   "execution_count": 10,
   "metadata": {
    "collapsed": false,
    "execution": {
     "iopub.execute_input": "2025-01-28T09:22:12.144977Z",
     "iopub.status.busy": "2025-01-28T09:22:12.144546Z",
     "iopub.status.idle": "2025-01-28T09:22:12.148553Z",
     "shell.execute_reply": "2025-01-28T09:22:12.148038Z"
    }
   },
   "outputs": [
    {
     "name": "stderr",
     "output_type": "stream",
     "text": [
      " samples contained in the project are:['P350', 'A350', 'B350']\n"
     ]
    }
   ],
   "source": [
    "scp.run_script(newproj.print_info)"
   ]
  },
  {
   "cell_type": "markdown",
   "metadata": {},
   "source": [
    "Another way to do the same thing is ith the following syntax (which may\n",
    "seem simpler\n"
   ]
  },
  {
   "cell_type": "code",
   "execution_count": 11,
   "metadata": {
    "collapsed": false,
    "execution": {
     "iopub.execute_input": "2025-01-28T09:22:12.149880Z",
     "iopub.status.busy": "2025-01-28T09:22:12.149735Z",
     "iopub.status.idle": "2025-01-28T09:22:12.152575Z",
     "shell.execute_reply": "2025-01-28T09:22:12.152189Z"
    }
   },
   "outputs": [
    {
     "name": "stderr",
     "output_type": "stream",
     "text": [
      " samples contained in the project are:['P350', 'A350', 'B350']\n"
     ]
    }
   ],
   "source": [
    "newproj.print_info()"
   ]
  },
  {
   "cell_type": "markdown",
   "metadata": {},
   "source": [
    "Finally lets use a more useful script\n"
   ]
  },
  {
   "cell_type": "code",
   "execution_count": 12,
   "metadata": {
    "collapsed": false,
    "execution": {
     "iopub.execute_input": "2025-01-28T09:22:12.154072Z",
     "iopub.status.busy": "2025-01-28T09:22:12.153781Z",
     "iopub.status.idle": "2025-01-28T09:22:12.347754Z",
     "shell.execute_reply": "2025-01-28T09:22:12.347312Z"
    }
   },
   "outputs": [
    {
     "data": {
      "image/jpeg": "[encoded data removed]",
      "image/png": "[encoded data removed]",
      "text/plain": [
       "<Figure size 652.8x427.2 with 1 Axes>"
      ]
     },
     "metadata": {},
     "output_type": "display_data"
    }
   ],
   "source": [
    "script_source_2 = \"\"\"\n",
    "proj.A350.TG.plot_scatter(title='my scatter plot')\n",
    "#show()\n",
    "\"\"\"\n",
    "proj[\"tgscatter\"] = scp.Script(\"tgscatter\", script_source_2)\n",
    "\n",
    "proj.tgscatter()"
   ]
  },
  {
   "cell_type": "markdown",
   "metadata": {},
   "source": [
    "This ends the example ! The following line can be uncommented if no plot\n",
    "shows when running the .py script with python\n"
   ]
  },
  {
   "cell_type": "code",
   "execution_count": 13,
   "metadata": {
    "collapsed": false,
    "execution": {
     "iopub.execute_input": "2025-01-28T09:22:12.349489Z",
     "iopub.status.busy": "2025-01-28T09:22:12.349127Z",
     "iopub.status.idle": "2025-01-28T09:22:12.351460Z",
     "shell.execute_reply": "2025-01-28T09:22:12.351046Z"
    }
   },
   "outputs": [],
   "source": [
    "# scp.show()"
   ]
  }
 ],
 "metadata": {
  "kernelspec": {
   "display_name": "Python 3",
   "language": "python",
   "name": "python3"
  },
  "language_info": {
   "codemirror_mode": {
    "name": "ipython",
    "version": 3
   },
   "file_extension": ".py",
   "mimetype": "text/x-python",
   "name": "python",
   "nbconvert_exporter": "python",
   "pygments_lexer": "ipython3",
   "version": "3.11.11"
  }
 },
 "nbformat": 4,
 "nbformat_minor": 0
}
