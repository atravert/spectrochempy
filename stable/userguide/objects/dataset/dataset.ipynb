{
 "cells": [
  {
   "cell_type": "markdown",
   "id": "dd5f1ec7",
   "metadata": {},
   "source": [
    "# The NDDataset object"
   ]
  },
  {
   "cell_type": "markdown",
   "id": "3b324680",
   "metadata": {},
   "source": [
    "The NDDataset is the main object use by **SpectroChemPy**.\n",
    "\n",
    "Like numpy ndarrays, NDDataset have the capability to be sliced, sorted and subject to\n",
    "mathematical operations.\n",
    "\n",
    "But, in addition, NDDataset may have units, can be masked and each dimensions can have\n",
    "coordinates also with units.\n",
    "This make NDDataset aware of units compatibility, *e.g.*, for binary operation such as\n",
    "additions or subtraction or during the application of mathematical operations.\n",
    "In addition or in replacement of numerical data for coordinates,\n",
    "NDDataset can also have labeled coordinates where labels can be different kind of\n",
    "objects (strings, datetime,\n",
    "numpy nd.ndarray or other NDDatasets, etc...).\n",
    "\n",
    "This offers a lot of flexibility in using NDDatasets that,  we hope, will be useful\n",
    "for applications.\n",
    "See the **[Examples](../../gallery/auto_examples/index.rst)** for\n",
    "additional information about such possible applications."
   ]
  },
  {
   "cell_type": "markdown",
   "id": "4bdf388b",
   "metadata": {},
   "source": [
    "**Below (and in the next sections), we try to give an almost complete view of the\n",
    "NDDataset features.**"
   ]
  },
  {
   "cell_type": "code",
   "execution_count": 1,
   "id": "2b37f780",
   "metadata": {
    "execution": {
     "iopub.execute_input": "2025-01-17T01:20:33.219351Z",
     "iopub.status.busy": "2025-01-17T01:20:33.219153Z",
     "iopub.status.idle": "2025-01-17T01:20:35.031039Z",
     "shell.execute_reply": "2025-01-17T01:20:35.030478Z"
    }
   },
   "outputs": [
    {
     "data": {
      "text/html": [
       "\n",
       "    \n",
       "    <div>\n",
       "    <table>\n",
       "    <tr>\n",
       "    <td>\n",
       "    \n",
       "    <img src='data:image/png;base64,iVBORw0KGgoAAAANSUhEUgAAABgAAAAYCAYAAADgdz34AAAAAXNSR0IArs4c6QAAAAlw\n",
       "    SFlzAAAJOgAACToB8GSSSgAAAetpVFh0WE1MOmNvbS5hZG9iZS54bXAAAAAAADx4OnhtcG1ldGEgeG1sbnM6eD0iYWRvYmU6bnM6\n",
       "    bWV0YS8iIHg6eG1wdGs9IlhNUCBDb3JlIDUuNC4wIj4KICAgPHJkZjpSREYgeG1sbnM6cmRmPSJodHRwOi8vd3d3LnczLm9yZy8x\n",
       "    OTk5LzAyLzIyLXJkZi1zeW50YXgtbnMjIj4KICAgICAgPHJkZjpEZXNjcmlwdGlvbiByZGY6YWJvdXQ9IiIKICAgICAgICAgICAg\n",
       "    eG1sbnM6eG1wPSJodHRwOi8vbnMuYWRvYmUuY29tL3hhcC8xLjAvIgogICAgICAgICAgICB4bWxuczp0aWZmPSJodHRwOi8vbnMu\n",
       "    YWRvYmUuY29tL3RpZmYvMS4wLyI+CiAgICAgICAgIDx4bXA6Q3JlYXRvclRvb2w+bWF0cGxvdGxpYiB2ZXJzaW9uIDIuMS4wLCBo\n",
       "    dHRwOi8vbWF0cGxvdGxpYi5vcmcvPC94bXA6Q3JlYXRvclRvb2w+CiAgICAgICAgIDx0aWZmOk9yaWVudGF0aW9uPjE8L3RpZmY6\n",
       "    T3JpZW50YXRpb24+CiAgICAgIDwvcmRmOkRlc2NyaXB0aW9uPgogICA8L3JkZjpSREY+CjwveDp4bXBtZXRhPgqNQaNYAAAGiUlE\n",
       "    QVRIDY1We4xU1Rn/3XPuYx47u8w+hnU38hTcuoUEt/6D2y4RB0ME1BoEd9taJaKh9CFiN7YGp7appUAMNmktMZFoJTYVLVQ0smsy\n",
       "    26CN0SU1QgsuFAaW3WVmx33N677O6XfuyoIxTXqSO/fec+75fd93vt/3/UbDV0aKSZmCpkFMLz3T9utuu2N+o98aDSMBKVAo89z5\n",
       "    y+zEz3ZafcCOfvWdlGCalqKn1Bf71CygTd+mf1esSOnpdMpTb+vWpTZuWVfe3jLPa5tzHYNm0T5N0gpdkkHaDBeGBU6d1/t/fyS8\n",
       "    +/CbqdfUvmsx1PuMgc2bNxv79u1zgd31r+7JH1jbIZKxWRXAcYUQ8IWvBfBXNjEuJWPgMA02NR7C3/pYT9fjdZ3A9tGrWF8YSJHn\n",
       "    qcDz3y7q2T967PZv+gnYJdd1mEZ+62zGDQV/dQgKhmLzDNOXCEWM3j6eTT5Y3w78dOBKJLR1PQf+4ivPj76UPZnssBN+wbM9Aet/\n",
       "    AV81Mf1EEULXYfOobvX2WWQk0aoioXwwSmirOlioY0mu8BIouzYl7P8GV3vpqCCEZvlFz769w08oLDWvyKIyL1asSm28d6WfzA97\n",
       "    ztvvV1kexUMsmhlkULEkuGYmFYC6AvfUrITnwUKl5K79lkjeSSRRTCTbQPd95e1WzMbZSya74XoXAxctCllCnbECMOjZNGRwvzIX\n",
       "    nD85wbkMmKK+U045Dtdi8Qp+SAxU2GTg2bYlC9224pgvmSb54vkVTBQYyhUt2KjAMyMmPjwRQW5Mh2WKwJhlBh6jVGagFM84wZnQ\n",
       "    4bpC0Rt4pk1PbSt0NDcxDA5xryosDHWgtbM0DGZDWLSoiDMDYeQnGVrmOThxLozB0RAaahzkJzjKNqcIQBymJFMkOlN8Dqjpg0XY\n",
       "    Tx5xO/QbmmUrqIjGJznq47TqTaClKYfjp+PInLMwnOdYvtQBZ2XcunQY+VwIo4U4muoFEjVEFE6lQyEUKzHYfgQG9ylCyngU+Cxj\n",
       "    tOqxCDGHcCsOMCs6iQul5ZiStdATYxjMZXDLTUVwLY8Jey4uOh2IxjwsrP8UXJYxUrkZrghBahzV5iXU6gNkq0Z1EzIsUBUSCV2n\n",
       "    EOHo0LVxHCpuxabJJdhi5PFnvw5vLXwXIfNZvD/+JNo/X40NegE54sUaazl+UL8XD1x+FB9Ijjt4EQfdGN6J/x131LwIV9ap/AYs\n",
       "    0x1fz1ZKFbh6A7qKy/By9Dg6G36Ep91vUJJ15Cqr0Z67E8/HzmBrw1OwxWyM+3Mo6BAuSB17oyfx0Oyl2DN0Hqs/70Cx6hBCvESF\n",
       "    UY1ShWXZZEE7OTAYxZzaPH4TuoiusZvRnunFy2NbiHYuBp2vB66srX4vMEjpRKPxKXmnoQ4+Mn4DPiv8CYcrs3GfNUXJLtM+alSO\n",
       "    hrMj/KT+wBNW3+E/2liywNO3iSflbaFva/+stGDTxE0E9Sjaox8HBhxpEamzMGSEaFKg+mjEddzDh1MxTDq3YV1kGBsjfwW3S9Cq\n",
       "    anjmko+ndlb1UR3s6K8JlfphNWq9Ew/7c61T2BB/EbcaNkb8GBaE0tANH7/M34PLdhJDzjIcL9xPbdTG6zyM72Y+wXPHmvB489No\n",
       "    fm0b5HnbQ9Rgp/7DSSd29AeVvPeNyK6JcYl/yQVi5dBjuGvoV/gaJe47s45QUxrDmcYX0MBsdF7egvXZ7+O0vZA4X8QmOQWjlSK7\n",
       "    RDz5wIM30gp9UbWcGjXxhzdDu1SiNSpx6kcQB57rPnr/3dlkZarWLnlRq5oPET1dOCIOk4wALib9eeS5iygfhkd09H0DWphB/+gs\n",
       "    +PcOAS+ssrFmmXXgVfR0de9cpbAJfH3Q1jofW9DZk56dDcVsq9YcsoUMEd1qyLoT3BX1YiyHMJuk97hyjqIoE91t+NcTLeN0ZrfM\n",
       "    oXatZbu6G0h4VG+ibqq0IJVK6cAjo6serG3vSUezCMct0yQeSOFJSUImqb2qbknUpDqlZxE0QZ+ZUpSlZx79h4Nda6zef9dlk121\n",
       "    JDjbR5XggPRZlRnS6bRQRtLpn4++cuie/Yvn2svmNxuLw9WCcYIl4fEoTEGiSTUqJdfgU+8ROqf1iMkLzS389YtNPXc/PH8l8ONB\n",
       "    JZkHD+4JtD04HmVEDWWErmBhzV2/2LB1bemJG6krzv2S6NOHUgtEP0Oif5pE/3fHoruP7N8RiP61GArzSwbUhJJQpXJKiKbfr/3b\n",
       "    IhKq76sKPUdF9NW/LSqfSn6vjv8C45H/6FSgvZQAAAAASUVORK5CYII='\n",
       "         style='height:25px; border-radius:12px; display:inline-block; float:left; vertical-align:middle'>\n",
       "    </img>\n",
       "    \n",
       "    </td>\n",
       "    <td>\n",
       "    \n",
       "    &nbsp;&nbsp;<span style='font-size:12px'>SpectroChemPy's API - v.0.6.10<br/>© Copyright 2014-2025 - A.Travert & C.Fernandez @ LCS</span>\n",
       "    \n",
       "    </td>\n",
       "    </tr>\n",
       "    </table>\n",
       "    </div>\n",
       "    "
      ]
     },
     "metadata": {},
     "output_type": "display_data"
    }
   ],
   "source": [
    "import spectrochempy as scp"
   ]
  },
  {
   "cell_type": "markdown",
   "id": "b81331e4",
   "metadata": {},
   "source": [
    "As we will make some reference to the\n",
    "**[numpy](https://numpy.org/doc/stable/index.html)** library, we also import it here."
   ]
  },
  {
   "cell_type": "code",
   "execution_count": 2,
   "id": "6a996843",
   "metadata": {
    "execution": {
     "iopub.execute_input": "2025-01-17T01:20:35.033630Z",
     "iopub.status.busy": "2025-01-17T01:20:35.033070Z",
     "iopub.status.idle": "2025-01-17T01:20:35.035794Z",
     "shell.execute_reply": "2025-01-17T01:20:35.035355Z"
    }
   },
   "outputs": [],
   "source": [
    "import numpy as np"
   ]
  },
  {
   "cell_type": "markdown",
   "id": "a9508e46",
   "metadata": {},
   "source": [
    "We additionally import the three main SpectroChemPy objects that we will use through\n",
    "this tutorial"
   ]
  },
  {
   "cell_type": "code",
   "execution_count": 3,
   "id": "5875f996",
   "metadata": {
    "execution": {
     "iopub.execute_input": "2025-01-17T01:20:35.037952Z",
     "iopub.status.busy": "2025-01-17T01:20:35.037601Z",
     "iopub.status.idle": "2025-01-17T01:20:35.040206Z",
     "shell.execute_reply": "2025-01-17T01:20:35.039737Z"
    }
   },
   "outputs": [],
   "source": [
    "from spectrochempy import Coord, CoordSet, NDDataset"
   ]
  },
  {
   "cell_type": "markdown",
   "id": "8db3dd56",
   "metadata": {},
   "source": [
    "For a convenient usage of units, we will also directly import\n",
    "**[ur]((../units/units.ipynb)**, the unit registry which contains all available\n",
    "units."
   ]
  },
  {
   "cell_type": "code",
   "execution_count": 4,
   "id": "ecb9851c",
   "metadata": {
    "execution": {
     "iopub.execute_input": "2025-01-17T01:20:35.042404Z",
     "iopub.status.busy": "2025-01-17T01:20:35.042038Z",
     "iopub.status.idle": "2025-01-17T01:20:35.044483Z",
     "shell.execute_reply": "2025-01-17T01:20:35.044000Z"
    }
   },
   "outputs": [],
   "source": [
    "from spectrochempy import ur"
   ]
  },
  {
   "cell_type": "markdown",
   "id": "0332775d",
   "metadata": {},
   "source": [
    "Multidimensional array are defined in Spectrochempy using the `NDDataset` object.\n",
    "\n",
    "`NDDataset` objects mostly behave as numpy's `numpy.ndarray`\n",
    "(see for instance __\n",
    "[numpy quickstart tutorial](https://numpy.org/doc/stable/user/quickstart.html)__)."
   ]
  },
  {
   "cell_type": "markdown",
   "id": "712ed3a5",
   "metadata": {},
   "source": [
    "However, unlike raw numpy's ndarray, the presence of optional properties make\n",
    "them (hopefully) more appropriate for handling spectroscopic information,\n",
    "one of the major objectives of the SpectroChemPy package:\n",
    "\n",
    "*  `mask`: Data can be partially masked at will\n",
    "*  `units`: Data can have units, allowing units-aware operations\n",
    "*  `CoordSet`: Data can have a set of coordinates, one or several by dimensions\n",
    "\n",
    "Additional metadata can also be added to the instances of this class\n",
    "through the `meta` properties."
   ]
  },
  {
   "cell_type": "markdown",
   "id": "4da3a5c3",
   "metadata": {},
   "source": [
    "## 1D-Dataset (unidimensional dataset)"
   ]
  },
  {
   "cell_type": "markdown",
   "id": "998c807b",
   "metadata": {},
   "source": [
    "In the following example, a minimal 1D dataset is created from a simple list,\n",
    "to which we can add some metadata:"
   ]
  },
  {
   "cell_type": "code",
   "execution_count": 5,
   "id": "286b72df",
   "metadata": {
    "execution": {
     "iopub.execute_input": "2025-01-17T01:20:35.046747Z",
     "iopub.status.busy": "2025-01-17T01:20:35.046408Z",
     "iopub.status.idle": "2025-01-17T01:20:35.053213Z",
     "shell.execute_reply": "2025-01-17T01:20:35.052729Z"
    }
   },
   "outputs": [
    {
     "data": {
      "text/html": [
       "<table style='background:transparent'>\n",
       "<tr><td style='padding-right:5px; padding-bottom:0px; padding-top:0px; width:124px'><font color='green'>         name</font> </td><td style='text-align:left; padding-bottom:0px; padding-top:0px; border:.5px solid lightgray;  '> Dataset N1</td><tr>\n",
       "<tr><td style='padding-right:5px; padding-bottom:0px; padding-top:0px; width:124px'><font color='green'>       author</font> </td><td style='text-align:left; padding-bottom:0px; padding-top:0px; border:.5px solid lightgray;  '> Blake and Mortimer</td><tr>\n",
       "<tr><td style='padding-right:5px; padding-bottom:0px; padding-top:0px; width:124px'><font color='green'>      created</font> </td><td style='text-align:left; padding-bottom:0px; padding-top:0px; border:.5px solid lightgray;  '> 2025-01-17 01:20:35+00:00</td><tr>\n",
       "<tr><td style='padding-right:5px; padding-bottom:0px; padding-top:0px; width:124px'><font color='green'>  description</font> </td><td style='text-align:left; padding-bottom:0px; padding-top:0px; border:.5px solid lightgray;  '> <div>A dataset from scratch</div></td><tr>\n",
       "<tr><td style='padding-right:5px; padding-bottom:0px; padding-top:0px; width:124px'><font color='green'>      history</font> </td><td style='text-align:left; padding-bottom:0px; padding-top:0px; border:.5px solid lightgray;  '> <div>2025-01-17 01:20:35+00:00> Creation</div></td><tr>\n",
       "<tr><td style='padding-right:5px; padding-bottom:0px; padding-top:0px; width:124px'><strong>          DATA </strong></td><td style='text-align:left; padding-bottom:0px; padding-top:0px; padding-top:10px; '><hr/></td><tr>\n",
       "<tr><td style='padding-right:5px; padding-bottom:0px; padding-top:0px; width:124px'><font color='green'>        title</font> </td><td style='text-align:left; padding-bottom:0px; padding-top:0px; border:.5px solid lightgray;  '> <untitled></td><tr>\n",
       "<tr><td style='padding-right:5px; padding-bottom:0px; padding-top:0px; width:124px'><font color='green'>       values</font> </td><td style='text-align:left; padding-bottom:0px; padding-top:0px; border:.5px solid lightgray;  '> <div><font color='blue'>         [      10       20       30]</font></div></td><tr>\n",
       "<tr><td style='padding-right:5px; padding-bottom:0px; padding-top:0px; width:124px'><font color='green'>         size</font> </td><td style='text-align:left; padding-bottom:0px; padding-top:0px; border:.5px solid lightgray;  '> 3</td><tr>\n",
       "</table>"
      ],
      "text/plain": [
       "NDDataset: [float64] unitless (size: 3)"
      ]
     },
     "execution_count": 5,
     "metadata": {},
     "output_type": "execute_result"
    }
   ],
   "source": [
    "d1D = NDDataset(\n",
    "    [10.0, 20.0, 30.0],\n",
    "    name=\"Dataset N1\",\n",
    "    author=\"Blake and Mortimer\",\n",
    "    description=\"A dataset from scratch\",\n",
    "    history=\"creation\",\n",
    ")\n",
    "d1D"
   ]
  },
  {
   "cell_type": "code",
   "execution_count": 6,
   "id": "41fadf99",
   "metadata": {
    "execution": {
     "iopub.execute_input": "2025-01-17T01:20:35.055393Z",
     "iopub.status.busy": "2025-01-17T01:20:35.055027Z",
     "iopub.status.idle": "2025-01-17T01:20:35.058042Z",
     "shell.execute_reply": "2025-01-17T01:20:35.057502Z"
    }
   },
   "outputs": [
    {
     "name": "stdout",
     "output_type": "stream",
     "text": [
      "NDDataset: [float64] unitless (size: 3)\n"
     ]
    }
   ],
   "source": [
    "print(d1D)"
   ]
  },
  {
   "cell_type": "code",
   "execution_count": 7,
   "id": "83b75170",
   "metadata": {
    "execution": {
     "iopub.execute_input": "2025-01-17T01:20:35.059921Z",
     "iopub.status.busy": "2025-01-17T01:20:35.059758Z",
     "iopub.status.idle": "2025-01-17T01:20:35.281674Z",
     "shell.execute_reply": "2025-01-17T01:20:35.281141Z"
    }
   },
   "outputs": [
    {
     "data": {
      "image/jpeg": "[encoded data removed]",
      "image/png": "[encoded data removed]",
      "text/plain": [
       "<Figure size 288x192 with 1 Axes>"
      ]
     },
     "metadata": {},
     "output_type": "display_data"
    }
   ],
   "source": [
    "_ = d1D.plot(figsize=(3, 2))"
   ]
  },
  {
   "cell_type": "markdown",
   "id": "16a4be68",
   "metadata": {},
   "source": [
    "Except few additional metadata such `author` , `created` ..., there is not much\n",
    "difference with respect to a conventional\n",
    "**[numpy.array](\n",
    "https://numpy.org/doc/stable/reference/generated/numpy.array.html#numpy.array)**.\n",
    "For example, one\n",
    "can apply numpy\n",
    "**[ufunc](https://numpy.org/doc/stable/reference/ufuncs.html#available-ufuncs)'s**\n",
    "directly to a NDDataset or make basic arithmetic\n",
    "operation with these objects:"
   ]
  },
  {
   "cell_type": "code",
   "execution_count": 8,
   "id": "d864f30c",
   "metadata": {
    "execution": {
     "iopub.execute_input": "2025-01-17T01:20:35.284092Z",
     "iopub.status.busy": "2025-01-17T01:20:35.283730Z",
     "iopub.status.idle": "2025-01-17T01:20:35.289854Z",
     "shell.execute_reply": "2025-01-17T01:20:35.289307Z"
    }
   },
   "outputs": [
    {
     "data": {
      "text/html": [
       "<table style='background:transparent'>\n",
       "<tr><td style='padding-right:5px; padding-bottom:0px; padding-top:0px; width:124px'><font color='green'>         name</font> </td><td style='text-align:left; padding-bottom:0px; padding-top:0px; border:.5px solid lightgray;  '> Dataset N1</td><tr>\n",
       "<tr><td style='padding-right:5px; padding-bottom:0px; padding-top:0px; width:124px'><font color='green'>       author</font> </td><td style='text-align:left; padding-bottom:0px; padding-top:0px; border:.5px solid lightgray;  '> Blake and Mortimer</td><tr>\n",
       "<tr><td style='padding-right:5px; padding-bottom:0px; padding-top:0px; width:124px'><font color='green'>      created</font> </td><td style='text-align:left; padding-bottom:0px; padding-top:0px; border:.5px solid lightgray;  '> 2025-01-17 01:20:35+00:00</td><tr>\n",
       "<tr><td style='padding-right:5px; padding-bottom:0px; padding-top:0px; width:124px'><font color='green'>  description</font> </td><td style='text-align:left; padding-bottom:0px; padding-top:0px; border:.5px solid lightgray;  '> <div>A dataset from scratch</div></td><tr>\n",
       "<tr><td style='padding-right:5px; padding-bottom:0px; padding-top:0px; width:124px'><font color='green'>      history</font> </td><td style='text-align:left; padding-bottom:0px; padding-top:0px; border:.5px solid lightgray;  '> <div>2025-01-17 01:20:35+00:00> Creation<br/>               2025-01-17 01:20:35+00:00> Ufunc sqrt applied.</div></td><tr>\n",
       "<tr><td style='padding-right:5px; padding-bottom:0px; padding-top:0px; width:124px'><strong>          DATA </strong></td><td style='text-align:left; padding-bottom:0px; padding-top:0px; padding-top:10px; '><hr/></td><tr>\n",
       "<tr><td style='padding-right:5px; padding-bottom:0px; padding-top:0px; width:124px'><font color='green'>        title</font> </td><td style='text-align:left; padding-bottom:0px; padding-top:0px; border:.5px solid lightgray;  '> sqrt(<untitled>)</td><tr>\n",
       "<tr><td style='padding-right:5px; padding-bottom:0px; padding-top:0px; width:124px'><font color='green'>       values</font> </td><td style='text-align:left; padding-bottom:0px; padding-top:0px; border:.5px solid lightgray;  '> <div><font color='blue'>         [   3.162    4.472    5.477]</font></div></td><tr>\n",
       "<tr><td style='padding-right:5px; padding-bottom:0px; padding-top:0px; width:124px'><font color='green'>         size</font> </td><td style='text-align:left; padding-bottom:0px; padding-top:0px; border:.5px solid lightgray;  '> 3</td><tr>\n",
       "</table>"
      ],
      "text/plain": [
       "NDDataset: [float64] unitless (size: 3)"
      ]
     },
     "execution_count": 8,
     "metadata": {},
     "output_type": "execute_result"
    }
   ],
   "source": [
    "np.sqrt(d1D)"
   ]
  },
  {
   "cell_type": "code",
   "execution_count": 9,
   "id": "eee8ddd3",
   "metadata": {
    "execution": {
     "iopub.execute_input": "2025-01-17T01:20:35.291969Z",
     "iopub.status.busy": "2025-01-17T01:20:35.291618Z",
     "iopub.status.idle": "2025-01-17T01:20:35.298598Z",
     "shell.execute_reply": "2025-01-17T01:20:35.298019Z"
    }
   },
   "outputs": [
    {
     "data": {
      "text/html": [
       "<table style='background:transparent'>\n",
       "<tr><td style='padding-right:5px; padding-bottom:0px; padding-top:0px; width:124px'><font color='green'>         name</font> </td><td style='text-align:left; padding-bottom:0px; padding-top:0px; border:.5px solid lightgray;  '> Dataset N1</td><tr>\n",
       "<tr><td style='padding-right:5px; padding-bottom:0px; padding-top:0px; width:124px'><font color='green'>       author</font> </td><td style='text-align:left; padding-bottom:0px; padding-top:0px; border:.5px solid lightgray;  '> Blake and Mortimer</td><tr>\n",
       "<tr><td style='padding-right:5px; padding-bottom:0px; padding-top:0px; width:124px'><font color='green'>      created</font> </td><td style='text-align:left; padding-bottom:0px; padding-top:0px; border:.5px solid lightgray;  '> 2025-01-17 01:20:35+00:00</td><tr>\n",
       "<tr><td style='padding-right:5px; padding-bottom:0px; padding-top:0px; width:124px'><font color='green'>  description</font> </td><td style='text-align:left; padding-bottom:0px; padding-top:0px; border:.5px solid lightgray;  '> <div>A dataset from scratch</div></td><tr>\n",
       "<tr><td style='padding-right:5px; padding-bottom:0px; padding-top:0px; width:124px'><font color='green'>      history</font> </td><td style='text-align:left; padding-bottom:0px; padding-top:0px; border:.5px solid lightgray;  '> <div>2025-01-17 01:20:35+00:00> Creation<br/>               2025-01-17 01:20:35+00:00> Inplace binary op: iadd  with `Dataset N1`</div></td><tr>\n",
       "<tr><td style='padding-right:5px; padding-bottom:0px; padding-top:0px; width:124px'><strong>          DATA </strong></td><td style='text-align:left; padding-bottom:0px; padding-top:0px; padding-top:10px; '><hr/></td><tr>\n",
       "<tr><td style='padding-right:5px; padding-bottom:0px; padding-top:0px; width:124px'><font color='green'>        title</font> </td><td style='text-align:left; padding-bottom:0px; padding-top:0px; border:.5px solid lightgray;  '> <untitled></td><tr>\n",
       "<tr><td style='padding-right:5px; padding-bottom:0px; padding-top:0px; width:124px'><font color='green'>       values</font> </td><td style='text-align:left; padding-bottom:0px; padding-top:0px; border:.5px solid lightgray;  '> <div><font color='blue'>         [      15       30       45]</font></div></td><tr>\n",
       "<tr><td style='padding-right:5px; padding-bottom:0px; padding-top:0px; width:124px'><font color='green'>         size</font> </td><td style='text-align:left; padding-bottom:0px; padding-top:0px; border:.5px solid lightgray;  '> 3</td><tr>\n",
       "</table>"
      ],
      "text/plain": [
       "NDDataset: [float64] unitless (size: 3)"
      ]
     },
     "execution_count": 9,
     "metadata": {},
     "output_type": "execute_result"
    }
   ],
   "source": [
    "d1D += d1D / 2.0\n",
    "d1D"
   ]
  },
  {
   "cell_type": "markdown",
   "id": "b8600f68",
   "metadata": {},
   "source": [
    "As seen above, there are some attributes that are automatically added to the dataset:\n",
    "\n",
    "* `id`      : This is a unique identifier for the object.\n",
    "* `name`: A short and unique name for the dataset. It will beequal to the automatic\n",
    "`id` if it is not provided.\n",
    "* `author`  : Author determined from the computer name if not provided.\n",
    "* `created` : Date and time of creation.\n",
    "* `modified`: Date and time of modification.\n",
    "\n",
    "These attributes can be modified by the user, but the `id` , `created` and `modified`\n",
    "attributes are read only.\n",
    "\n",
    "Some other attributes are defined to describe the data:\n",
    "* `title`: A long name that will be used in plots or in some other operations.\n",
    "* `history`: history of operation achieved on the object since the object creation.\n",
    "* `description`: A comment or a description of the objects purpose or contents.\n",
    "* `origin`: An optional reference to the source of the data."
   ]
  },
  {
   "cell_type": "markdown",
   "id": "2a95ee2d",
   "metadata": {},
   "source": [
    "Here is an example of the use of the NDDataset attributes:"
   ]
  },
  {
   "cell_type": "code",
   "execution_count": 10,
   "id": "32484a55",
   "metadata": {
    "execution": {
     "iopub.execute_input": "2025-01-17T01:20:35.300721Z",
     "iopub.status.busy": "2025-01-17T01:20:35.300539Z",
     "iopub.status.idle": "2025-01-17T01:20:35.305324Z",
     "shell.execute_reply": "2025-01-17T01:20:35.304749Z"
    }
   },
   "outputs": [
    {
     "data": {
      "text/html": [
       "<table style='background:transparent'>\n",
       "<tr><td style='padding-right:5px; padding-bottom:0px; padding-top:0px; width:124px'><font color='green'>         name</font> </td><td style='text-align:left; padding-bottom:0px; padding-top:0px; border:.5px solid lightgray;  '> mydataset</td><tr>\n",
       "<tr><td style='padding-right:5px; padding-bottom:0px; padding-top:0px; width:124px'><font color='green'>       author</font> </td><td style='text-align:left; padding-bottom:0px; padding-top:0px; border:.5px solid lightgray;  '> Blake and Mortimer</td><tr>\n",
       "<tr><td style='padding-right:5px; padding-bottom:0px; padding-top:0px; width:124px'><font color='green'>      created</font> </td><td style='text-align:left; padding-bottom:0px; padding-top:0px; border:.5px solid lightgray;  '> 2025-01-17 01:20:35+00:00</td><tr>\n",
       "<tr><td style='padding-right:5px; padding-bottom:0px; padding-top:0px; width:124px'><font color='green'>  description</font> </td><td style='text-align:left; padding-bottom:0px; padding-top:0px; border:.5px solid lightgray;  '> <div>Some experimental measurements</div></td><tr>\n",
       "<tr><td style='padding-right:5px; padding-bottom:0px; padding-top:0px; width:124px'><font color='green'>      history</font> </td><td style='text-align:left; padding-bottom:0px; padding-top:0px; border:.5px solid lightgray;  '> <div>2025-01-17 01:20:35+00:00> Creation<br/>               2025-01-17 01:20:35+00:00> Inplace binary op: iadd  with `Dataset N1` <br/>               2025-01-17 01:20:35+00:00> Created from scratch</div></td><tr>\n",
       "<tr><td style='padding-right:5px; padding-bottom:0px; padding-top:0px; width:124px'><strong>          DATA </strong></td><td style='text-align:left; padding-bottom:0px; padding-top:0px; padding-top:10px; '><hr/></td><tr>\n",
       "<tr><td style='padding-right:5px; padding-bottom:0px; padding-top:0px; width:124px'><font color='green'>        title</font> </td><td style='text-align:left; padding-bottom:0px; padding-top:0px; border:.5px solid lightgray;  '> intensity</td><tr>\n",
       "<tr><td style='padding-right:5px; padding-bottom:0px; padding-top:0px; width:124px'><font color='green'>       values</font> </td><td style='text-align:left; padding-bottom:0px; padding-top:0px; border:.5px solid lightgray;  '> <div><font color='blue'>         [      15       30       45]</font></div></td><tr>\n",
       "<tr><td style='padding-right:5px; padding-bottom:0px; padding-top:0px; width:124px'><font color='green'>         size</font> </td><td style='text-align:left; padding-bottom:0px; padding-top:0px; border:.5px solid lightgray;  '> 3</td><tr>\n",
       "</table>"
      ],
      "text/plain": [
       "NDDataset: [float64] unitless (size: 3)"
      ]
     },
     "execution_count": 10,
     "metadata": {},
     "output_type": "execute_result"
    }
   ],
   "source": [
    "d1D.title = \"intensity\"\n",
    "d1D.name = \"mydataset\"\n",
    "d1D.history = \"created from scratch\"\n",
    "d1D.description = \"Some experimental measurements\"\n",
    "d1D"
   ]
  },
  {
   "cell_type": "markdown",
   "id": "72292ce2",
   "metadata": {},
   "source": [
    "d1D is a 1D (1-dimensional) dataset with only one dimension.\n",
    "\n",
    "Some attributes are useful to check this kind of information:"
   ]
  },
  {
   "cell_type": "code",
   "execution_count": 11,
   "id": "b633ca66",
   "metadata": {
    "execution": {
     "iopub.execute_input": "2025-01-17T01:20:35.307376Z",
     "iopub.status.busy": "2025-01-17T01:20:35.307034Z",
     "iopub.status.idle": "2025-01-17T01:20:35.310643Z",
     "shell.execute_reply": "2025-01-17T01:20:35.310081Z"
    }
   },
   "outputs": [
    {
     "data": {
      "text/plain": [
       "(3,)"
      ]
     },
     "execution_count": 11,
     "metadata": {},
     "output_type": "execute_result"
    }
   ],
   "source": [
    "d1D.shape  # the shape of 1D contain only one dimension size"
   ]
  },
  {
   "cell_type": "code",
   "execution_count": 12,
   "id": "c867e3f1",
   "metadata": {
    "execution": {
     "iopub.execute_input": "2025-01-17T01:20:35.312847Z",
     "iopub.status.busy": "2025-01-17T01:20:35.312519Z",
     "iopub.status.idle": "2025-01-17T01:20:35.316148Z",
     "shell.execute_reply": "2025-01-17T01:20:35.315685Z"
    }
   },
   "outputs": [
    {
     "data": {
      "text/plain": [
       "1"
      ]
     },
     "execution_count": 12,
     "metadata": {},
     "output_type": "execute_result"
    }
   ],
   "source": [
    "d1D.ndim  # the number of dimensions"
   ]
  },
  {
   "cell_type": "code",
   "execution_count": 13,
   "id": "8f22503c",
   "metadata": {
    "execution": {
     "iopub.execute_input": "2025-01-17T01:20:35.318244Z",
     "iopub.status.busy": "2025-01-17T01:20:35.317911Z",
     "iopub.status.idle": "2025-01-17T01:20:35.321559Z",
     "shell.execute_reply": "2025-01-17T01:20:35.321079Z"
    }
   },
   "outputs": [
    {
     "data": {
      "text/plain": [
       "['x']"
      ]
     },
     "execution_count": 13,
     "metadata": {},
     "output_type": "execute_result"
    }
   ],
   "source": [
    "d1D.dims  # the name of the dimension (it has been automatically attributed)"
   ]
  },
  {
   "cell_type": "markdown",
   "id": "a1c03fb2",
   "metadata": {},
   "source": [
    "**Note**: The names of the dimensions are set automatically. But they can be changed,\n",
    "with <u>the limitation</u> that the\n",
    "name must be a single letter."
   ]
  },
  {
   "cell_type": "code",
   "execution_count": 14,
   "id": "2508bb16",
   "metadata": {
    "execution": {
     "iopub.execute_input": "2025-01-17T01:20:35.323651Z",
     "iopub.status.busy": "2025-01-17T01:20:35.323301Z",
     "iopub.status.idle": "2025-01-17T01:20:35.325882Z",
     "shell.execute_reply": "2025-01-17T01:20:35.325428Z"
    }
   },
   "outputs": [],
   "source": [
    "d1D.dims = [\"q\"]  # change the list of dim names."
   ]
  },
  {
   "cell_type": "code",
   "execution_count": 15,
   "id": "5f748613",
   "metadata": {
    "execution": {
     "iopub.execute_input": "2025-01-17T01:20:35.327909Z",
     "iopub.status.busy": "2025-01-17T01:20:35.327702Z",
     "iopub.status.idle": "2025-01-17T01:20:35.331679Z",
     "shell.execute_reply": "2025-01-17T01:20:35.331103Z"
    }
   },
   "outputs": [
    {
     "data": {
      "text/plain": [
       "['q']"
      ]
     },
     "execution_count": 15,
     "metadata": {},
     "output_type": "execute_result"
    }
   ],
   "source": [
    "d1D.dims"
   ]
  },
  {
   "cell_type": "markdown",
   "id": "ee7f63dd",
   "metadata": {},
   "source": [
    "### nD-Dataset (multidimensional dataset)"
   ]
  },
  {
   "cell_type": "markdown",
   "id": "b639e4e8",
   "metadata": {},
   "source": [
    "To create a nD NDDataset, we can provide a nD-array like object to the NDDataset\n",
    "instance constructor"
   ]
  },
  {
   "cell_type": "code",
   "execution_count": 16,
   "id": "f30555db",
   "metadata": {
    "execution": {
     "iopub.execute_input": "2025-01-17T01:20:35.333879Z",
     "iopub.status.busy": "2025-01-17T01:20:35.333689Z",
     "iopub.status.idle": "2025-01-17T01:20:35.337817Z",
     "shell.execute_reply": "2025-01-17T01:20:35.337325Z"
    }
   },
   "outputs": [
    {
     "data": {
      "text/plain": [
       "array([[[  0.7117,   0.2063, ...,  0.05432,   0.1795],\n",
       "        [  0.2235,   0.2738, ...,   0.2891,   0.4889],\n",
       "        [  0.8667,   0.8823, ...,   0.8557,   0.7069],\n",
       "        [   0.525,   0.8061, ...,   0.1801,   0.1454]],\n",
       "\n",
       "       [[  0.9515,   0.8091, ...,  0.07042,  0.06208],\n",
       "        [  0.8369,   0.7351, ...,   0.4393,   0.6143],\n",
       "        [   0.289,  0.07534, ...,   0.4904,   0.1735],\n",
       "        [ 0.03189,   0.6254, ...,   0.1632,   0.7867]]])"
      ]
     },
     "execution_count": 16,
     "metadata": {},
     "output_type": "execute_result"
    }
   ],
   "source": [
    "a = np.random.rand(2, 4, 6)\n",
    "a"
   ]
  },
  {
   "cell_type": "code",
   "execution_count": 17,
   "id": "1c4c061a",
   "metadata": {
    "execution": {
     "iopub.execute_input": "2025-01-17T01:20:35.340029Z",
     "iopub.status.busy": "2025-01-17T01:20:35.339647Z",
     "iopub.status.idle": "2025-01-17T01:20:35.346877Z",
     "shell.execute_reply": "2025-01-17T01:20:35.346405Z"
    }
   },
   "outputs": [
    {
     "data": {
      "text/html": [
       "<table style='background:transparent'>\n",
       "<tr><td style='padding-right:5px; padding-bottom:0px; padding-top:0px; width:124px'><font color='green'>         name</font> </td><td style='text-align:left; padding-bottom:0px; padding-top:0px; border:.5px solid lightgray;  '> 3D dataset creation</td><tr>\n",
       "<tr><td style='padding-right:5px; padding-bottom:0px; padding-top:0px; width:124px'><font color='green'>       author</font> </td><td style='text-align:left; padding-bottom:0px; padding-top:0px; border:.5px solid lightgray;  '> Someone</td><tr>\n",
       "<tr><td style='padding-right:5px; padding-bottom:0px; padding-top:0px; width:124px'><font color='green'>      created</font> </td><td style='text-align:left; padding-bottom:0px; padding-top:0px; border:.5px solid lightgray;  '> 2025-01-17 01:20:35+00:00</td><tr>\n",
       "<tr><td style='padding-right:5px; padding-bottom:0px; padding-top:0px; width:124px'><font color='green'>  description</font> </td><td style='text-align:left; padding-bottom:0px; padding-top:0px; border:.5px solid lightgray;  '> <div>Some example</div></td><tr>\n",
       "<tr><td style='padding-right:5px; padding-bottom:0px; padding-top:0px; width:124px'><font color='green'>      history</font> </td><td style='text-align:left; padding-bottom:0px; padding-top:0px; border:.5px solid lightgray;  '> <div>2025-01-17 01:20:35+00:00> Created from scratch</div></td><tr>\n",
       "<tr><td style='padding-right:5px; padding-bottom:0px; padding-top:0px; width:124px'><strong>          DATA </strong></td><td style='text-align:left; padding-bottom:0px; padding-top:0px; padding-top:10px; '><hr/></td><tr>\n",
       "<tr><td style='padding-right:5px; padding-bottom:0px; padding-top:0px; width:124px'><font color='green'>        title</font> </td><td style='text-align:left; padding-bottom:0px; padding-top:0px; border:.5px solid lightgray;  '> energy</td><tr>\n",
       "<tr><td style='padding-right:5px; padding-bottom:0px; padding-top:0px; width:124px'><font color='green'>       values</font> </td><td style='text-align:left; padding-bottom:0px; padding-top:0px; border:.5px solid lightgray;  '> <div><font color='blue'>         [[[  0.7117   0.2063 ...  0.05432   0.1795]<br/>           [  0.2235   0.2738 ...   0.2891   0.4889]<br/>           [  0.8667   0.8823 ...   0.8557   0.7069]<br/>           [   0.525   0.8061 ...   0.1801   0.1454]]<br/><br/>          [[  0.9515   0.8091 ...  0.07042  0.06208]<br/>           [  0.8369   0.7351 ...   0.4393   0.6143]<br/>           [   0.289  0.07534 ...   0.4904   0.1735]<br/>           [ 0.03189   0.6254 ...   0.1632   0.7867]]]</font></div></td><tr>\n",
       "<tr><td style='padding-right:5px; padding-bottom:0px; padding-top:0px; width:124px'><font color='green'>        shape</font> </td><td style='text-align:left; padding-bottom:0px; padding-top:0px; border:.5px solid lightgray;  '> (u:2, v:4, t:6)</td><tr>\n",
       "</table>"
      ],
      "text/plain": [
       "NDDataset: [float64] unitless (shape: (u:2, v:4, t:6))"
      ]
     },
     "execution_count": 17,
     "metadata": {},
     "output_type": "execute_result"
    }
   ],
   "source": [
    "d3D = NDDataset(a)\n",
    "d3D.title = \"energy\"\n",
    "d3D.author = \"Someone\"\n",
    "d3D.name = \"3D dataset creation\"\n",
    "d3D.history = \"created from scratch\"\n",
    "d3D.description = \"Some example\"\n",
    "d3D.dims = [\"u\", \"v\", \"t\"]\n",
    "d3D"
   ]
  },
  {
   "cell_type": "markdown",
   "id": "b3f39e89",
   "metadata": {},
   "source": [
    "We can also add all information in a single statement"
   ]
  },
  {
   "cell_type": "code",
   "execution_count": 18,
   "id": "2bef3e7c",
   "metadata": {
    "execution": {
     "iopub.execute_input": "2025-01-17T01:20:35.348814Z",
     "iopub.status.busy": "2025-01-17T01:20:35.348645Z",
     "iopub.status.idle": "2025-01-17T01:20:35.354603Z",
     "shell.execute_reply": "2025-01-17T01:20:35.354037Z"
    }
   },
   "outputs": [
    {
     "data": {
      "text/html": [
       "<table style='background:transparent'>\n",
       "<tr><td style='padding-right:5px; padding-bottom:0px; padding-top:0px; width:124px'><font color='green'>         name</font> </td><td style='text-align:left; padding-bottom:0px; padding-top:0px; border:.5px solid lightgray;  '> 3D_dataset</td><tr>\n",
       "<tr><td style='padding-right:5px; padding-bottom:0px; padding-top:0px; width:124px'><font color='green'>       author</font> </td><td style='text-align:left; padding-bottom:0px; padding-top:0px; border:.5px solid lightgray;  '> Someone</td><tr>\n",
       "<tr><td style='padding-right:5px; padding-bottom:0px; padding-top:0px; width:124px'><font color='green'>      created</font> </td><td style='text-align:left; padding-bottom:0px; padding-top:0px; border:.5px solid lightgray;  '> 2025-01-17 01:20:35+00:00</td><tr>\n",
       "<tr><td style='padding-right:5px; padding-bottom:0px; padding-top:0px; width:124px'><font color='green'>  description</font> </td><td style='text-align:left; padding-bottom:0px; padding-top:0px; border:.5px solid lightgray;  '> <div>a single statement creation example</div></td><tr>\n",
       "<tr><td style='padding-right:5px; padding-bottom:0px; padding-top:0px; width:124px'><font color='green'>      history</font> </td><td style='text-align:left; padding-bottom:0px; padding-top:0px; border:.5px solid lightgray;  '> <div>2025-01-17 01:20:35+00:00> Created from scratch</div></td><tr>\n",
       "<tr><td style='padding-right:5px; padding-bottom:0px; padding-top:0px; width:124px'><strong>          DATA </strong></td><td style='text-align:left; padding-bottom:0px; padding-top:0px; padding-top:10px; '><hr/></td><tr>\n",
       "<tr><td style='padding-right:5px; padding-bottom:0px; padding-top:0px; width:124px'><font color='green'>        title</font> </td><td style='text-align:left; padding-bottom:0px; padding-top:0px; border:.5px solid lightgray;  '> Energy</td><tr>\n",
       "<tr><td style='padding-right:5px; padding-bottom:0px; padding-top:0px; width:124px'><font color='green'>       values</font> </td><td style='text-align:left; padding-bottom:0px; padding-top:0px; border:.5px solid lightgray;  '> <div><font color='blue'>         [[[  0.7117   0.2063 ...  0.05432   0.1795]<br/>           [  0.2235   0.2738 ...   0.2891   0.4889]<br/>           [  0.8667   0.8823 ...   0.8557   0.7069]<br/>           [   0.525   0.8061 ...   0.1801   0.1454]]<br/><br/>          [[  0.9515   0.8091 ...  0.07042  0.06208]<br/>           [  0.8369   0.7351 ...   0.4393   0.6143]<br/>           [   0.289  0.07534 ...   0.4904   0.1735]<br/>           [ 0.03189   0.6254 ...   0.1632   0.7867]]]</font></div></td><tr>\n",
       "<tr><td style='padding-right:5px; padding-bottom:0px; padding-top:0px; width:124px'><font color='green'>        shape</font> </td><td style='text-align:left; padding-bottom:0px; padding-top:0px; border:.5px solid lightgray;  '> (u:2, v:4, t:6)</td><tr>\n",
       "</table>"
      ],
      "text/plain": [
       "NDDataset: [float64] unitless (shape: (u:2, v:4, t:6))"
      ]
     },
     "execution_count": 18,
     "metadata": {},
     "output_type": "execute_result"
    }
   ],
   "source": [
    "d3D = NDDataset(\n",
    "    a,\n",
    "    dims=[\"u\", \"v\", \"t\"],\n",
    "    title=\"Energy\",\n",
    "    author=\"Someone\",\n",
    "    name=\"3D_dataset\",\n",
    "    history=\"created from scratch\",\n",
    "    description=\"a single statement creation example\",\n",
    ")\n",
    "d3D"
   ]
  },
  {
   "cell_type": "markdown",
   "id": "58dc0f49",
   "metadata": {},
   "source": [
    "Three names are attributed at the creation (if they are not provided with the `dims`\n",
    "attribute, then the name are:\n",
    "'z','y','x' automatically attributed)"
   ]
  },
  {
   "cell_type": "code",
   "execution_count": 19,
   "id": "badc5c2c",
   "metadata": {
    "execution": {
     "iopub.execute_input": "2025-01-17T01:20:35.356696Z",
     "iopub.status.busy": "2025-01-17T01:20:35.356366Z",
     "iopub.status.idle": "2025-01-17T01:20:35.360030Z",
     "shell.execute_reply": "2025-01-17T01:20:35.359494Z"
    }
   },
   "outputs": [
    {
     "data": {
      "text/plain": [
       "['u', 'v', 't']"
      ]
     },
     "execution_count": 19,
     "metadata": {},
     "output_type": "execute_result"
    }
   ],
   "source": [
    "d3D.dims"
   ]
  },
  {
   "cell_type": "code",
   "execution_count": 20,
   "id": "34a7e7b3",
   "metadata": {
    "execution": {
     "iopub.execute_input": "2025-01-17T01:20:35.362456Z",
     "iopub.status.busy": "2025-01-17T01:20:35.362250Z",
     "iopub.status.idle": "2025-01-17T01:20:35.365676Z",
     "shell.execute_reply": "2025-01-17T01:20:35.365213Z"
    }
   },
   "outputs": [
    {
     "data": {
      "text/plain": [
       "3"
      ]
     },
     "execution_count": 20,
     "metadata": {},
     "output_type": "execute_result"
    }
   ],
   "source": [
    "d3D.ndim"
   ]
  },
  {
   "cell_type": "code",
   "execution_count": 21,
   "id": "f80de632",
   "metadata": {
    "execution": {
     "iopub.execute_input": "2025-01-17T01:20:35.367626Z",
     "iopub.status.busy": "2025-01-17T01:20:35.367443Z",
     "iopub.status.idle": "2025-01-17T01:20:35.371009Z",
     "shell.execute_reply": "2025-01-17T01:20:35.370545Z"
    }
   },
   "outputs": [
    {
     "data": {
      "text/plain": [
       "(2, 4, 6)"
      ]
     },
     "execution_count": 21,
     "metadata": {},
     "output_type": "execute_result"
    }
   ],
   "source": [
    "d3D.shape"
   ]
  },
  {
   "cell_type": "markdown",
   "id": "a1050ffc",
   "metadata": {},
   "source": [
    "## About the dates and times\n",
    "The dates and times are stored internally as\n",
    "[UTC (Coordinated_Universal_Time)](https://en.wikipedia.org/wiki/Coordinated_\n",
    "Universal_Time).\n",
    "Timezone information is stored in the timezone attribute.\n",
    "If not set, the default is to use the local timezone,\n",
    "which is probably the most common case."
   ]
  },
  {
   "cell_type": "code",
   "execution_count": 22,
   "id": "1088f51b",
   "metadata": {
    "execution": {
     "iopub.execute_input": "2025-01-17T01:20:35.372966Z",
     "iopub.status.busy": "2025-01-17T01:20:35.372790Z",
     "iopub.status.idle": "2025-01-17T01:20:35.376662Z",
     "shell.execute_reply": "2025-01-17T01:20:35.376189Z"
    }
   },
   "outputs": [
    {
     "data": {
      "text/plain": [
       "'2025-01-17 01:20:35+00:00'"
      ]
     },
     "execution_count": 22,
     "metadata": {},
     "output_type": "execute_result"
    }
   ],
   "source": [
    "nd = NDDataset()\n",
    "nd.created"
   ]
  },
  {
   "cell_type": "markdown",
   "id": "4e4c02f0",
   "metadata": {},
   "source": [
    "In this case our local timezone has been used by default for the conversion from\n",
    "UTC datetime."
   ]
  },
  {
   "cell_type": "code",
   "execution_count": 23,
   "id": "c8b6b0a1",
   "metadata": {
    "execution": {
     "iopub.execute_input": "2025-01-17T01:20:35.378741Z",
     "iopub.status.busy": "2025-01-17T01:20:35.378404Z",
     "iopub.status.idle": "2025-01-17T01:20:35.382096Z",
     "shell.execute_reply": "2025-01-17T01:20:35.381537Z"
    }
   },
   "outputs": [
    {
     "data": {
      "text/plain": [
       "'Etc/UTC'"
      ]
     },
     "execution_count": 23,
     "metadata": {},
     "output_type": "execute_result"
    }
   ],
   "source": [
    "nd.local_timezone"
   ]
  },
  {
   "cell_type": "code",
   "execution_count": 24,
   "id": "836edcd6",
   "metadata": {
    "execution": {
     "iopub.execute_input": "2025-01-17T01:20:35.384069Z",
     "iopub.status.busy": "2025-01-17T01:20:35.383887Z",
     "iopub.status.idle": "2025-01-17T01:20:35.387631Z",
     "shell.execute_reply": "2025-01-17T01:20:35.387194Z"
    }
   },
   "outputs": [
    {
     "data": {
      "text/plain": [
       "'2025-01-16 20:20:35-05:00'"
      ]
     },
     "execution_count": 24,
     "metadata": {},
     "output_type": "execute_result"
    }
   ],
   "source": [
    "nd.timezone = \"EST\"\n",
    "nd.created"
   ]
  },
  {
   "cell_type": "markdown",
   "id": "fcdf39d7",
   "metadata": {},
   "source": [
    "For a list of timezone code (TZ) you can have a look at\n",
    "[List_of_tz_database_time_zones](\n",
    "https://en.wikipedia.org/wiki/List_of_tz_database_time_zones)."
   ]
  },
  {
   "cell_type": "markdown",
   "id": "8e847a5d",
   "metadata": {},
   "source": [
    "## About the `history` attribute"
   ]
  },
  {
   "cell_type": "markdown",
   "id": "3b57cd06",
   "metadata": {},
   "source": [
    "The history is saved internally into a list, but its has a different behaviour than\n",
    "the usual list.\n",
    "The first time a NDDataset is created, the list is empty"
   ]
  },
  {
   "cell_type": "code",
   "execution_count": 25,
   "id": "24f82499",
   "metadata": {
    "execution": {
     "iopub.execute_input": "2025-01-17T01:20:35.389620Z",
     "iopub.status.busy": "2025-01-17T01:20:35.389443Z",
     "iopub.status.idle": "2025-01-17T01:20:35.393463Z",
     "shell.execute_reply": "2025-01-17T01:20:35.392882Z"
    }
   },
   "outputs": [
    {
     "data": {
      "text/plain": [
       "[]"
      ]
     },
     "execution_count": 25,
     "metadata": {},
     "output_type": "execute_result"
    }
   ],
   "source": [
    "nd = NDDataset()\n",
    "nd.history"
   ]
  },
  {
   "cell_type": "markdown",
   "id": "27586375",
   "metadata": {},
   "source": [
    "Assigning a string to the history attribute has two effects. The first one is that\n",
    "the string is appended automatically to the previous history list, and second it is\n",
    "preceeded by the time it has been added."
   ]
  },
  {
   "cell_type": "code",
   "execution_count": 26,
   "id": "f9768bec",
   "metadata": {
    "execution": {
     "iopub.execute_input": "2025-01-17T01:20:35.395365Z",
     "iopub.status.busy": "2025-01-17T01:20:35.395171Z",
     "iopub.status.idle": "2025-01-17T01:20:35.398988Z",
     "shell.execute_reply": "2025-01-17T01:20:35.398539Z"
    }
   },
   "outputs": [
    {
     "data": {
      "text/plain": [
       "['2025-01-17 01:20:35+00:00> Some history',\n",
       " '2025-01-17 01:20:35+00:00> Another history to append',\n",
       " '2025-01-17 01:20:35+00:00> ...']"
      ]
     },
     "execution_count": 26,
     "metadata": {},
     "output_type": "execute_result"
    }
   ],
   "source": [
    "nd.history = \"some history\"\n",
    "nd.history = \"another history to append\"\n",
    "nd.history = \"...\"\n",
    "nd.history"
   ]
  },
  {
   "cell_type": "markdown",
   "id": "4b61aae2",
   "metadata": {},
   "source": [
    "If you want to erase the history, assign an empty list"
   ]
  },
  {
   "cell_type": "code",
   "execution_count": 27,
   "id": "a8ffdc2a",
   "metadata": {
    "execution": {
     "iopub.execute_input": "2025-01-17T01:20:35.400955Z",
     "iopub.status.busy": "2025-01-17T01:20:35.400780Z",
     "iopub.status.idle": "2025-01-17T01:20:35.404465Z",
     "shell.execute_reply": "2025-01-17T01:20:35.403989Z"
    }
   },
   "outputs": [
    {
     "data": {
      "text/plain": [
       "[]"
      ]
     },
     "execution_count": 27,
     "metadata": {},
     "output_type": "execute_result"
    }
   ],
   "source": [
    "nd.history = []\n",
    "nd.history"
   ]
  },
  {
   "cell_type": "markdown",
   "id": "f28bf462",
   "metadata": {},
   "source": [
    "If you want to replace the full history use bracket around your history line:"
   ]
  },
  {
   "cell_type": "code",
   "execution_count": 28,
   "id": "7db9957c",
   "metadata": {
    "execution": {
     "iopub.execute_input": "2025-01-17T01:20:35.406723Z",
     "iopub.status.busy": "2025-01-17T01:20:35.406190Z",
     "iopub.status.idle": "2025-01-17T01:20:35.410080Z",
     "shell.execute_reply": "2025-01-17T01:20:35.409643Z"
    }
   },
   "outputs": [
    {
     "data": {
      "text/plain": [
       "['2025-01-17 01:20:35+00:00> A more interesting message']"
      ]
     },
     "execution_count": 28,
     "metadata": {},
     "output_type": "execute_result"
    }
   ],
   "source": [
    "nd.history = \"Created form scratch\"\n",
    "nd.history = \"a second ligne that will be erased\"\n",
    "nd.history = [\"A more interesting message\"]\n",
    "nd.history"
   ]
  },
  {
   "cell_type": "markdown",
   "id": "de5600d7",
   "metadata": {},
   "source": [
    "## Units"
   ]
  },
  {
   "cell_type": "markdown",
   "id": "3817c8e3",
   "metadata": {},
   "source": [
    "One interesting possibility for a NDDataset is to have defined units for the internal\n",
    "data."
   ]
  },
  {
   "cell_type": "code",
   "execution_count": 29,
   "id": "e44f587b",
   "metadata": {
    "execution": {
     "iopub.execute_input": "2025-01-17T01:20:35.412335Z",
     "iopub.status.busy": "2025-01-17T01:20:35.411969Z",
     "iopub.status.idle": "2025-01-17T01:20:35.414632Z",
     "shell.execute_reply": "2025-01-17T01:20:35.414162Z"
    }
   },
   "outputs": [],
   "source": [
    "d1D.units = ur.eV  # ur is a registry containing all available units"
   ]
  },
  {
   "cell_type": "code",
   "execution_count": 30,
   "id": "3f9e6eeb",
   "metadata": {
    "execution": {
     "iopub.execute_input": "2025-01-17T01:20:35.416726Z",
     "iopub.status.busy": "2025-01-17T01:20:35.416377Z",
     "iopub.status.idle": "2025-01-17T01:20:35.420554Z",
     "shell.execute_reply": "2025-01-17T01:20:35.420090Z"
    }
   },
   "outputs": [
    {
     "data": {
      "text/html": [
       "<table style='background:transparent'>\n",
       "<tr><td style='padding-right:5px; padding-bottom:0px; padding-top:0px; width:124px'><font color='green'>         name</font> </td><td style='text-align:left; padding-bottom:0px; padding-top:0px; border:.5px solid lightgray;  '> mydataset</td><tr>\n",
       "<tr><td style='padding-right:5px; padding-bottom:0px; padding-top:0px; width:124px'><font color='green'>       author</font> </td><td style='text-align:left; padding-bottom:0px; padding-top:0px; border:.5px solid lightgray;  '> Blake and Mortimer</td><tr>\n",
       "<tr><td style='padding-right:5px; padding-bottom:0px; padding-top:0px; width:124px'><font color='green'>      created</font> </td><td style='text-align:left; padding-bottom:0px; padding-top:0px; border:.5px solid lightgray;  '> 2025-01-17 01:20:35+00:00</td><tr>\n",
       "<tr><td style='padding-right:5px; padding-bottom:0px; padding-top:0px; width:124px'><font color='green'>  description</font> </td><td style='text-align:left; padding-bottom:0px; padding-top:0px; border:.5px solid lightgray;  '> <div>Some experimental measurements</div></td><tr>\n",
       "<tr><td style='padding-right:5px; padding-bottom:0px; padding-top:0px; width:124px'><font color='green'>      history</font> </td><td style='text-align:left; padding-bottom:0px; padding-top:0px; border:.5px solid lightgray;  '> <div>2025-01-17 01:20:35+00:00> Creation<br/>               2025-01-17 01:20:35+00:00> Inplace binary op: iadd  with `Dataset N1` <br/>               2025-01-17 01:20:35+00:00> Created from scratch</div></td><tr>\n",
       "<tr><td style='padding-right:5px; padding-bottom:0px; padding-top:0px; width:124px'><strong>          DATA </strong></td><td style='text-align:left; padding-bottom:0px; padding-top:0px; padding-top:10px; '><hr/></td><tr>\n",
       "<tr><td style='padding-right:5px; padding-bottom:0px; padding-top:0px; width:124px'><font color='green'>        title</font> </td><td style='text-align:left; padding-bottom:0px; padding-top:0px; border:.5px solid lightgray;  '> intensity</td><tr>\n",
       "<tr><td style='padding-right:5px; padding-bottom:0px; padding-top:0px; width:124px'><font color='green'>       values</font> </td><td style='text-align:left; padding-bottom:0px; padding-top:0px; border:.5px solid lightgray;  '> <div><font color='blue'>         [      15       30       45] eV</font></div></td><tr>\n",
       "<tr><td style='padding-right:5px; padding-bottom:0px; padding-top:0px; width:124px'><font color='green'>         size</font> </td><td style='text-align:left; padding-bottom:0px; padding-top:0px; border:.5px solid lightgray;  '> 3</td><tr>\n",
       "</table>"
      ],
      "text/plain": [
       "NDDataset: [float64] eV (size: 3)"
      ]
     },
     "execution_count": 30,
     "metadata": {},
     "output_type": "execute_result"
    }
   ],
   "source": [
    "d1D  # note the eV symbol of the units added to the values field below"
   ]
  },
  {
   "cell_type": "markdown",
   "id": "0565dd28",
   "metadata": {},
   "source": [
    "This allows to make units-aware calculations:"
   ]
  },
  {
   "cell_type": "code",
   "execution_count": 31,
   "id": "37b70ff6",
   "metadata": {
    "execution": {
     "iopub.execute_input": "2025-01-17T01:20:35.422501Z",
     "iopub.status.busy": "2025-01-17T01:20:35.422333Z",
     "iopub.status.idle": "2025-01-17T01:20:35.428685Z",
     "shell.execute_reply": "2025-01-17T01:20:35.428117Z"
    }
   },
   "outputs": [
    {
     "data": {
      "text/html": [
       "<table style='background:transparent'>\n",
       "<tr><td style='padding-right:5px; padding-bottom:0px; padding-top:0px; width:124px'><font color='green'>         name</font> </td><td style='text-align:left; padding-bottom:0px; padding-top:0px; border:.5px solid lightgray;  '> mydataset</td><tr>\n",
       "<tr><td style='padding-right:5px; padding-bottom:0px; padding-top:0px; width:124px'><font color='green'>       author</font> </td><td style='text-align:left; padding-bottom:0px; padding-top:0px; border:.5px solid lightgray;  '> Blake and Mortimer</td><tr>\n",
       "<tr><td style='padding-right:5px; padding-bottom:0px; padding-top:0px; width:124px'><font color='green'>      created</font> </td><td style='text-align:left; padding-bottom:0px; padding-top:0px; border:.5px solid lightgray;  '> 2025-01-17 01:20:35+00:00</td><tr>\n",
       "<tr><td style='padding-right:5px; padding-bottom:0px; padding-top:0px; width:124px'><font color='green'>  description</font> </td><td style='text-align:left; padding-bottom:0px; padding-top:0px; border:.5px solid lightgray;  '> <div>Some experimental measurements</div></td><tr>\n",
       "<tr><td style='padding-right:5px; padding-bottom:0px; padding-top:0px; width:124px'><font color='green'>      history</font> </td><td style='text-align:left; padding-bottom:0px; padding-top:0px; border:.5px solid lightgray;  '> <div>2025-01-17 01:20:35+00:00> Creation<br/>               2025-01-17 01:20:35+00:00> Inplace binary op: iadd  with `Dataset N1` <br/>               2025-01-17 01:20:35+00:00> Created from scratch<br/>               2025-01-17 01:20:35+00:00> Binary operation pow with `2` has been performed</div></td><tr>\n",
       "<tr><td style='padding-right:5px; padding-bottom:0px; padding-top:0px; width:124px'><strong>          DATA </strong></td><td style='text-align:left; padding-bottom:0px; padding-top:0px; padding-top:10px; '><hr/></td><tr>\n",
       "<tr><td style='padding-right:5px; padding-bottom:0px; padding-top:0px; width:124px'><font color='green'>        title</font> </td><td style='text-align:left; padding-bottom:0px; padding-top:0px; border:.5px solid lightgray;  '> intensity</td><tr>\n",
       "<tr><td style='padding-right:5px; padding-bottom:0px; padding-top:0px; width:124px'><font color='green'>       values</font> </td><td style='text-align:left; padding-bottom:0px; padding-top:0px; border:.5px solid lightgray;  '> <div><font color='blue'>         [     225      900     2025] eV²</font></div></td><tr>\n",
       "<tr><td style='padding-right:5px; padding-bottom:0px; padding-top:0px; width:124px'><font color='green'>         size</font> </td><td style='text-align:left; padding-bottom:0px; padding-top:0px; border:.5px solid lightgray;  '> 3</td><tr>\n",
       "</table>"
      ],
      "text/plain": [
       "NDDataset: [float64] eV² (size: 3)"
      ]
     },
     "execution_count": 31,
     "metadata": {},
     "output_type": "execute_result"
    }
   ],
   "source": [
    "d1D**2  # note the results in eV^2"
   ]
  },
  {
   "cell_type": "code",
   "execution_count": 32,
   "id": "78d9bf64",
   "metadata": {
    "execution": {
     "iopub.execute_input": "2025-01-17T01:20:35.430901Z",
     "iopub.status.busy": "2025-01-17T01:20:35.430571Z",
     "iopub.status.idle": "2025-01-17T01:20:35.436790Z",
     "shell.execute_reply": "2025-01-17T01:20:35.436234Z"
    }
   },
   "outputs": [
    {
     "data": {
      "text/html": [
       "<table style='background:transparent'>\n",
       "<tr><td style='padding-right:5px; padding-bottom:0px; padding-top:0px; width:124px'><font color='green'>         name</font> </td><td style='text-align:left; padding-bottom:0px; padding-top:0px; border:.5px solid lightgray;  '> mydataset</td><tr>\n",
       "<tr><td style='padding-right:5px; padding-bottom:0px; padding-top:0px; width:124px'><font color='green'>       author</font> </td><td style='text-align:left; padding-bottom:0px; padding-top:0px; border:.5px solid lightgray;  '> Blake and Mortimer</td><tr>\n",
       "<tr><td style='padding-right:5px; padding-bottom:0px; padding-top:0px; width:124px'><font color='green'>      created</font> </td><td style='text-align:left; padding-bottom:0px; padding-top:0px; border:.5px solid lightgray;  '> 2025-01-17 01:20:35+00:00</td><tr>\n",
       "<tr><td style='padding-right:5px; padding-bottom:0px; padding-top:0px; width:124px'><font color='green'>  description</font> </td><td style='text-align:left; padding-bottom:0px; padding-top:0px; border:.5px solid lightgray;  '> <div>Some experimental measurements</div></td><tr>\n",
       "<tr><td style='padding-right:5px; padding-bottom:0px; padding-top:0px; width:124px'><font color='green'>      history</font> </td><td style='text-align:left; padding-bottom:0px; padding-top:0px; border:.5px solid lightgray;  '> <div>2025-01-17 01:20:35+00:00> Creation<br/>               2025-01-17 01:20:35+00:00> Inplace binary op: iadd  with `Dataset N1` <br/>               2025-01-17 01:20:35+00:00> Created from scratch<br/>               2025-01-17 01:20:35+00:00> Ufunc sqrt applied.</div></td><tr>\n",
       "<tr><td style='padding-right:5px; padding-bottom:0px; padding-top:0px; width:124px'><strong>          DATA </strong></td><td style='text-align:left; padding-bottom:0px; padding-top:0px; padding-top:10px; '><hr/></td><tr>\n",
       "<tr><td style='padding-right:5px; padding-bottom:0px; padding-top:0px; width:124px'><font color='green'>        title</font> </td><td style='text-align:left; padding-bottom:0px; padding-top:0px; border:.5px solid lightgray;  '> sqrt(intensity)</td><tr>\n",
       "<tr><td style='padding-right:5px; padding-bottom:0px; padding-top:0px; width:124px'><font color='green'>       values</font> </td><td style='text-align:left; padding-bottom:0px; padding-top:0px; border:.5px solid lightgray;  '> <div><font color='blue'>         [   3.873    5.477    6.708] eV⁰⋅⁵</font></div></td><tr>\n",
       "<tr><td style='padding-right:5px; padding-bottom:0px; padding-top:0px; width:124px'><font color='green'>         size</font> </td><td style='text-align:left; padding-bottom:0px; padding-top:0px; border:.5px solid lightgray;  '> 3</td><tr>\n",
       "</table>"
      ],
      "text/plain": [
       "NDDataset: [float64] eV⁰⋅⁵ (size: 3)"
      ]
     },
     "execution_count": 32,
     "metadata": {},
     "output_type": "execute_result"
    }
   ],
   "source": [
    "np.sqrt(d1D)  # note the result in e^0.5"
   ]
  },
  {
   "cell_type": "code",
   "execution_count": 33,
   "id": "719e49df",
   "metadata": {
    "execution": {
     "iopub.execute_input": "2025-01-17T01:20:35.438931Z",
     "iopub.status.busy": "2025-01-17T01:20:35.438594Z",
     "iopub.status.idle": "2025-01-17T01:20:35.445073Z",
     "shell.execute_reply": "2025-01-17T01:20:35.444614Z"
    }
   },
   "outputs": [
    {
     "data": {
      "text/html": [
       "<table style='background:transparent'>\n",
       "<tr><td style='padding-right:5px; padding-bottom:0px; padding-top:0px; width:124px'><font color='green'>         name</font> </td><td style='text-align:left; padding-bottom:0px; padding-top:0px; border:.5px solid lightgray;  '> mydataset</td><tr>\n",
       "<tr><td style='padding-right:5px; padding-bottom:0px; padding-top:0px; width:124px'><font color='green'>       author</font> </td><td style='text-align:left; padding-bottom:0px; padding-top:0px; border:.5px solid lightgray;  '> Blake and Mortimer</td><tr>\n",
       "<tr><td style='padding-right:5px; padding-bottom:0px; padding-top:0px; width:124px'><font color='green'>      created</font> </td><td style='text-align:left; padding-bottom:0px; padding-top:0px; border:.5px solid lightgray;  '> 2025-01-17 01:20:35+00:00</td><tr>\n",
       "<tr><td style='padding-right:5px; padding-bottom:0px; padding-top:0px; width:124px'><font color='green'>  description</font> </td><td style='text-align:left; padding-bottom:0px; padding-top:0px; border:.5px solid lightgray;  '> <div>Some experimental measurements</div></td><tr>\n",
       "<tr><td style='padding-right:5px; padding-bottom:0px; padding-top:0px; width:124px'><font color='green'>      history</font> </td><td style='text-align:left; padding-bottom:0px; padding-top:0px; border:.5px solid lightgray;  '> <div>2025-01-17 01:20:35+00:00> Creation<br/>               2025-01-17 01:20:35+00:00> Inplace binary op: iadd  with `Dataset N1` <br/>               2025-01-17 01:20:35+00:00> Created from scratch<br/>               2025-01-17 01:20:35+00:00> Binary operation truediv with `5.0 s` has been performed</div></td><tr>\n",
       "<tr><td style='padding-right:5px; padding-bottom:0px; padding-top:0px; width:124px'><strong>          DATA </strong></td><td style='text-align:left; padding-bottom:0px; padding-top:0px; padding-top:10px; '><hr/></td><tr>\n",
       "<tr><td style='padding-right:5px; padding-bottom:0px; padding-top:0px; width:124px'><font color='green'>        title</font> </td><td style='text-align:left; padding-bottom:0px; padding-top:0px; border:.5px solid lightgray;  '> intensity</td><tr>\n",
       "<tr><td style='padding-right:5px; padding-bottom:0px; padding-top:0px; width:124px'><font color='green'>       values</font> </td><td style='text-align:left; padding-bottom:0px; padding-top:0px; border:.5px solid lightgray;  '> <div><font color='blue'>         [       3        6        9] eV⋅s⁻¹</font></div></td><tr>\n",
       "<tr><td style='padding-right:5px; padding-bottom:0px; padding-top:0px; width:124px'><font color='green'>         size</font> </td><td style='text-align:left; padding-bottom:0px; padding-top:0px; border:.5px solid lightgray;  '> 3</td><tr>\n",
       "</table>"
      ],
      "text/plain": [
       "NDDataset: [float64] eV⋅s⁻¹ (size: 3)"
      ]
     },
     "execution_count": 33,
     "metadata": {},
     "output_type": "execute_result"
    }
   ],
   "source": [
    "time = 5.0 * ur.second\n",
    "d1D / time  # here we get results in eV/s"
   ]
  },
  {
   "cell_type": "markdown",
   "id": "801aa530",
   "metadata": {},
   "source": [
    "Conversion can be done between different units transparently"
   ]
  },
  {
   "cell_type": "code",
   "execution_count": 34,
   "id": "8d55a4e5",
   "metadata": {
    "execution": {
     "iopub.execute_input": "2025-01-17T01:20:35.447409Z",
     "iopub.status.busy": "2025-01-17T01:20:35.447060Z",
     "iopub.status.idle": "2025-01-17T01:20:35.453086Z",
     "shell.execute_reply": "2025-01-17T01:20:35.452632Z"
    }
   },
   "outputs": [
    {
     "data": {
      "text/html": [
       "<table style='background:transparent'>\n",
       "<tr><td style='padding-right:5px; padding-bottom:0px; padding-top:0px; width:124px'><font color='green'>         name</font> </td><td style='text-align:left; padding-bottom:0px; padding-top:0px; border:.5px solid lightgray;  '> mydataset</td><tr>\n",
       "<tr><td style='padding-right:5px; padding-bottom:0px; padding-top:0px; width:124px'><font color='green'>       author</font> </td><td style='text-align:left; padding-bottom:0px; padding-top:0px; border:.5px solid lightgray;  '> Blake and Mortimer</td><tr>\n",
       "<tr><td style='padding-right:5px; padding-bottom:0px; padding-top:0px; width:124px'><font color='green'>      created</font> </td><td style='text-align:left; padding-bottom:0px; padding-top:0px; border:.5px solid lightgray;  '> 2025-01-17 01:20:35+00:00</td><tr>\n",
       "<tr><td style='padding-right:5px; padding-bottom:0px; padding-top:0px; width:124px'><font color='green'>  description</font> </td><td style='text-align:left; padding-bottom:0px; padding-top:0px; border:.5px solid lightgray;  '> <div>Some experimental measurements</div></td><tr>\n",
       "<tr><td style='padding-right:5px; padding-bottom:0px; padding-top:0px; width:124px'><font color='green'>      history</font> </td><td style='text-align:left; padding-bottom:0px; padding-top:0px; border:.5px solid lightgray;  '> <div>2025-01-17 01:20:35+00:00> Creation<br/>               2025-01-17 01:20:35+00:00> Inplace binary op: iadd  with `Dataset N1` <br/>               2025-01-17 01:20:35+00:00> Created from scratch</div></td><tr>\n",
       "<tr><td style='padding-right:5px; padding-bottom:0px; padding-top:0px; width:124px'><strong>          DATA </strong></td><td style='text-align:left; padding-bottom:0px; padding-top:0px; padding-top:10px; '><hr/></td><tr>\n",
       "<tr><td style='padding-right:5px; padding-bottom:0px; padding-top:0px; width:124px'><font color='green'>        title</font> </td><td style='text-align:left; padding-bottom:0px; padding-top:0px; border:.5px solid lightgray;  '> intensity</td><tr>\n",
       "<tr><td style='padding-right:5px; padding-bottom:0px; padding-top:0px; width:124px'><font color='green'>       values</font> </td><td style='text-align:left; padding-bottom:0px; padding-top:0px; border:.5px solid lightgray;  '> <div><font color='blue'>         [2.403e-18 4.807e-18 7.21e-18] J</font></div></td><tr>\n",
       "<tr><td style='padding-right:5px; padding-bottom:0px; padding-top:0px; width:124px'><font color='green'>         size</font> </td><td style='text-align:left; padding-bottom:0px; padding-top:0px; border:.5px solid lightgray;  '> 3</td><tr>\n",
       "</table>"
      ],
      "text/plain": [
       "NDDataset: [float64] J (size: 3)"
      ]
     },
     "execution_count": 34,
     "metadata": {},
     "output_type": "execute_result"
    }
   ],
   "source": [
    "d1D.to(\"J\")"
   ]
  },
  {
   "cell_type": "code",
   "execution_count": 35,
   "id": "8b2ccb32",
   "metadata": {
    "execution": {
     "iopub.execute_input": "2025-01-17T01:20:35.454922Z",
     "iopub.status.busy": "2025-01-17T01:20:35.454759Z",
     "iopub.status.idle": "2025-01-17T01:20:35.460439Z",
     "shell.execute_reply": "2025-01-17T01:20:35.459877Z"
    }
   },
   "outputs": [
    {
     "data": {
      "text/html": [
       "<table style='background:transparent'>\n",
       "<tr><td style='padding-right:5px; padding-bottom:0px; padding-top:0px; width:124px'><font color='green'>         name</font> </td><td style='text-align:left; padding-bottom:0px; padding-top:0px; border:.5px solid lightgray;  '> mydataset</td><tr>\n",
       "<tr><td style='padding-right:5px; padding-bottom:0px; padding-top:0px; width:124px'><font color='green'>       author</font> </td><td style='text-align:left; padding-bottom:0px; padding-top:0px; border:.5px solid lightgray;  '> Blake and Mortimer</td><tr>\n",
       "<tr><td style='padding-right:5px; padding-bottom:0px; padding-top:0px; width:124px'><font color='green'>      created</font> </td><td style='text-align:left; padding-bottom:0px; padding-top:0px; border:.5px solid lightgray;  '> 2025-01-17 01:20:35+00:00</td><tr>\n",
       "<tr><td style='padding-right:5px; padding-bottom:0px; padding-top:0px; width:124px'><font color='green'>  description</font> </td><td style='text-align:left; padding-bottom:0px; padding-top:0px; border:.5px solid lightgray;  '> <div>Some experimental measurements</div></td><tr>\n",
       "<tr><td style='padding-right:5px; padding-bottom:0px; padding-top:0px; width:124px'><font color='green'>      history</font> </td><td style='text-align:left; padding-bottom:0px; padding-top:0px; border:.5px solid lightgray;  '> <div>2025-01-17 01:20:35+00:00> Creation<br/>               2025-01-17 01:20:35+00:00> Inplace binary op: iadd  with `Dataset N1` <br/>               2025-01-17 01:20:35+00:00> Created from scratch</div></td><tr>\n",
       "<tr><td style='padding-right:5px; padding-bottom:0px; padding-top:0px; width:124px'><strong>          DATA </strong></td><td style='text-align:left; padding-bottom:0px; padding-top:0px; padding-top:10px; '><hr/></td><tr>\n",
       "<tr><td style='padding-right:5px; padding-bottom:0px; padding-top:0px; width:124px'><font color='green'>        title</font> </td><td style='text-align:left; padding-bottom:0px; padding-top:0px; border:.5px solid lightgray;  '> intensity</td><tr>\n",
       "<tr><td style='padding-right:5px; padding-bottom:0px; padding-top:0px; width:124px'><font color='green'>       values</font> </td><td style='text-align:left; padding-bottom:0px; padding-top:0px; border:.5px solid lightgray;  '> <div><font color='blue'>         [1.741e+05 3.481e+05 5.222e+05] K</font></div></td><tr>\n",
       "<tr><td style='padding-right:5px; padding-bottom:0px; padding-top:0px; width:124px'><font color='green'>         size</font> </td><td style='text-align:left; padding-bottom:0px; padding-top:0px; border:.5px solid lightgray;  '> 3</td><tr>\n",
       "</table>"
      ],
      "text/plain": [
       "NDDataset: [float64] K (size: 3)"
      ]
     },
     "execution_count": 35,
     "metadata": {},
     "output_type": "execute_result"
    }
   ],
   "source": [
    "d1D.to(\"K\")"
   ]
  },
  {
   "cell_type": "markdown",
   "id": "e33b1205",
   "metadata": {},
   "source": [
    "## Coordinates"
   ]
  },
  {
   "cell_type": "markdown",
   "id": "68fbf1f9",
   "metadata": {},
   "source": [
    "The above created `d3D` dataset has 3 dimensions, but no coordinate for these\n",
    "dimensions. Here arises a big difference\n",
    "with simple `numpy`-arrays:\n",
    "* We can add coordinates to each dimension of a NDDataset."
   ]
  },
  {
   "cell_type": "markdown",
   "id": "9212f685",
   "metadata": {},
   "source": [
    "To get the list of all defined coordinates, we can use the `coords` attribute:"
   ]
  },
  {
   "cell_type": "code",
   "execution_count": 36,
   "id": "3a1c5554",
   "metadata": {
    "execution": {
     "iopub.execute_input": "2025-01-17T01:20:35.462746Z",
     "iopub.status.busy": "2025-01-17T01:20:35.462303Z",
     "iopub.status.idle": "2025-01-17T01:20:35.464827Z",
     "shell.execute_reply": "2025-01-17T01:20:35.464408Z"
    }
   },
   "outputs": [],
   "source": [
    "d3D.coordset  # no coordinates, so it returns nothing (None)"
   ]
  },
  {
   "cell_type": "code",
   "execution_count": 37,
   "id": "65798c36",
   "metadata": {
    "execution": {
     "iopub.execute_input": "2025-01-17T01:20:35.466787Z",
     "iopub.status.busy": "2025-01-17T01:20:35.466617Z",
     "iopub.status.idle": "2025-01-17T01:20:35.469027Z",
     "shell.execute_reply": "2025-01-17T01:20:35.468560Z"
    }
   },
   "outputs": [],
   "source": [
    "d3D.t  # the same for coordinate  t, v, u which are not yet set"
   ]
  },
  {
   "cell_type": "markdown",
   "id": "a780d551",
   "metadata": {},
   "source": [
    "To add coordinates, on way is to set them one by one:"
   ]
  },
  {
   "cell_type": "code",
   "execution_count": 38,
   "id": "74be46ee",
   "metadata": {
    "execution": {
     "iopub.execute_input": "2025-01-17T01:20:35.471060Z",
     "iopub.status.busy": "2025-01-17T01:20:35.470732Z",
     "iopub.status.idle": "2025-01-17T01:20:35.480457Z",
     "shell.execute_reply": "2025-01-17T01:20:35.479897Z"
    }
   },
   "outputs": [
    {
     "data": {
      "text/html": [
       "<table style='background:transparent'>\n",
       "<tr><td style='padding-right:5px; padding-bottom:0px; padding-top:0px; width:124px'><strong>     DIMENSION `t`</strong></td><td style='text-align:left; padding-bottom:0px; padding-top:0px; padding-top:10px; '><hr/></td><tr>\n",
       "<tr><td style='padding-right:5px; padding-bottom:0px; padding-top:0px; width:124px'><font color='green'>         size</font> </td><td style='text-align:left; padding-bottom:0px; padding-top:0px; border:.5px solid lightgray;  '> 6</td><tr>\n",
       "<tr><td style='padding-right:5px; padding-bottom:0px; padding-top:0px; width:124px'><font color='green'>        title</font> </td><td style='text-align:left; padding-bottom:0px; padding-top:0px; border:.5px solid lightgray;  '> time</td><tr>\n",
       "<tr><td style='padding-right:5px; padding-bottom:0px; padding-top:0px; width:124px'><font color='green'>  coordinates</font> </td><td style='text-align:left; padding-bottom:0px; padding-top:0px; border:.5px solid lightgray;  '> <div><font color='blue'>[       0      0.1      0.2      0.3      0.4      0.5] s</font></div></td><tr>\n",
       "</table>"
      ],
      "text/plain": [
       "CoordSet: [t:time, u:<untitled>, v:<untitled>]"
      ]
     },
     "execution_count": 38,
     "metadata": {},
     "output_type": "execute_result"
    }
   ],
   "source": [
    "d3D.t = (\n",
    "    Coord.arange(6) * 0.1\n",
    ")  # we need a sequence of 6 values for `t` dimension (see shape above)\n",
    "d3D.t.title = \"time\"\n",
    "d3D.t.units = ur.seconds\n",
    "d3D.coordset  # now return a list of coordinates"
   ]
  },
  {
   "cell_type": "code",
   "execution_count": 39,
   "id": "83bbe30a",
   "metadata": {
    "execution": {
     "iopub.execute_input": "2025-01-17T01:20:35.482394Z",
     "iopub.status.busy": "2025-01-17T01:20:35.482207Z",
     "iopub.status.idle": "2025-01-17T01:20:35.486342Z",
     "shell.execute_reply": "2025-01-17T01:20:35.485762Z"
    }
   },
   "outputs": [
    {
     "data": {
      "text/html": [
       "<table style='background:transparent'>\n",
       "<tr><td style='padding-right:5px; padding-bottom:0px; padding-top:0px; width:124px'><font color='green'>         size</font> </td><td style='text-align:left; padding-bottom:0px; padding-top:0px; border:.5px solid lightgray;  '> 6</td><tr>\n",
       "<tr><td style='padding-right:5px; padding-bottom:0px; padding-top:0px; width:124px'><font color='green'>        title</font> </td><td style='text-align:left; padding-bottom:0px; padding-top:0px; border:.5px solid lightgray;  '> time</td><tr>\n",
       "<tr><td style='padding-right:5px; padding-bottom:0px; padding-top:0px; width:124px'><font color='green'>  coordinates</font> </td><td style='text-align:left; padding-bottom:0px; padding-top:0px; border:.5px solid lightgray;  '> <div><font color='blue'>[       0      0.1      0.2      0.3      0.4      0.5] s</font></div></td><tr>\n",
       "</table>"
      ],
      "text/plain": [
       "Coord: [float64] s (size: 6)"
      ]
     },
     "execution_count": 39,
     "metadata": {},
     "output_type": "execute_result"
    }
   ],
   "source": [
    "d3D.t"
   ]
  },
  {
   "cell_type": "code",
   "execution_count": 40,
   "id": "7f9f0b1f",
   "metadata": {
    "execution": {
     "iopub.execute_input": "2025-01-17T01:20:35.488227Z",
     "iopub.status.busy": "2025-01-17T01:20:35.488057Z",
     "iopub.status.idle": "2025-01-17T01:20:35.492313Z",
     "shell.execute_reply": "2025-01-17T01:20:35.491833Z"
    }
   },
   "outputs": [
    {
     "data": {
      "text/html": [
       "<table style='background:transparent'>\n",
       "<tr><td style='padding-right:5px; padding-bottom:0px; padding-top:0px; width:124px'><font color='green'>         size</font> </td><td style='text-align:left; padding-bottom:0px; padding-top:0px; border:.5px solid lightgray;  '> 6</td><tr>\n",
       "<tr><td style='padding-right:5px; padding-bottom:0px; padding-top:0px; width:124px'><font color='green'>        title</font> </td><td style='text-align:left; padding-bottom:0px; padding-top:0px; border:.5px solid lightgray;  '> time</td><tr>\n",
       "<tr><td style='padding-right:5px; padding-bottom:0px; padding-top:0px; width:124px'><font color='green'>  coordinates</font> </td><td style='text-align:left; padding-bottom:0px; padding-top:0px; border:.5px solid lightgray;  '> <div><font color='blue'>[       0      0.1      0.2      0.3      0.4      0.5] s</font></div></td><tr>\n",
       "</table>"
      ],
      "text/plain": [
       "Coord: [float64] s (size: 6)"
      ]
     },
     "execution_count": 40,
     "metadata": {},
     "output_type": "execute_result"
    }
   ],
   "source": [
    "d3D.coordset(\"t\")  # Alternative way to get a given coordinates"
   ]
  },
  {
   "cell_type": "code",
   "execution_count": 41,
   "id": "7bcb4c27",
   "metadata": {
    "execution": {
     "iopub.execute_input": "2025-01-17T01:20:35.494151Z",
     "iopub.status.busy": "2025-01-17T01:20:35.493986Z",
     "iopub.status.idle": "2025-01-17T01:20:35.498134Z",
     "shell.execute_reply": "2025-01-17T01:20:35.497574Z"
    }
   },
   "outputs": [
    {
     "data": {
      "text/html": [
       "<table style='background:transparent'>\n",
       "<tr><td style='padding-right:5px; padding-bottom:0px; padding-top:0px; width:124px'><font color='green'>         size</font> </td><td style='text-align:left; padding-bottom:0px; padding-top:0px; border:.5px solid lightgray;  '> 6</td><tr>\n",
       "<tr><td style='padding-right:5px; padding-bottom:0px; padding-top:0px; width:124px'><font color='green'>        title</font> </td><td style='text-align:left; padding-bottom:0px; padding-top:0px; border:.5px solid lightgray;  '> time</td><tr>\n",
       "<tr><td style='padding-right:5px; padding-bottom:0px; padding-top:0px; width:124px'><font color='green'>  coordinates</font> </td><td style='text-align:left; padding-bottom:0px; padding-top:0px; border:.5px solid lightgray;  '> <div><font color='blue'>[       0      0.1      0.2      0.3      0.4      0.5] s</font></div></td><tr>\n",
       "</table>"
      ],
      "text/plain": [
       "Coord: [float64] s (size: 6)"
      ]
     },
     "execution_count": 41,
     "metadata": {},
     "output_type": "execute_result"
    }
   ],
   "source": [
    "d3D[\"t\"]  # another alternative way to get a given coordinates"
   ]
  },
  {
   "cell_type": "markdown",
   "id": "34d1656b",
   "metadata": {},
   "source": [
    "The two other coordinates u and v are still undefined"
   ]
  },
  {
   "cell_type": "code",
   "execution_count": 42,
   "id": "ca7c540e",
   "metadata": {
    "execution": {
     "iopub.execute_input": "2025-01-17T01:20:35.500211Z",
     "iopub.status.busy": "2025-01-17T01:20:35.499888Z",
     "iopub.status.idle": "2025-01-17T01:20:35.503729Z",
     "shell.execute_reply": "2025-01-17T01:20:35.503257Z"
    }
   },
   "outputs": [
    {
     "data": {
      "text/plain": [
       "(Coord: empty, Coord: empty)"
      ]
     },
     "execution_count": 42,
     "metadata": {},
     "output_type": "execute_result"
    }
   ],
   "source": [
    "d3D.u, d3D.v"
   ]
  },
  {
   "cell_type": "markdown",
   "id": "4ab1cdd6",
   "metadata": {},
   "source": [
    "When the dataset is printed, only the information for the existing coordinates is\n",
    "given."
   ]
  },
  {
   "cell_type": "code",
   "execution_count": 43,
   "id": "ed080813",
   "metadata": {
    "execution": {
     "iopub.execute_input": "2025-01-17T01:20:35.505883Z",
     "iopub.status.busy": "2025-01-17T01:20:35.505558Z",
     "iopub.status.idle": "2025-01-17T01:20:35.510490Z",
     "shell.execute_reply": "2025-01-17T01:20:35.510006Z"
    }
   },
   "outputs": [
    {
     "data": {
      "text/html": [
       "<table style='background:transparent'>\n",
       "<tr><td style='padding-right:5px; padding-bottom:0px; padding-top:0px; width:124px'><font color='green'>         name</font> </td><td style='text-align:left; padding-bottom:0px; padding-top:0px; border:.5px solid lightgray;  '> 3D_dataset</td><tr>\n",
       "<tr><td style='padding-right:5px; padding-bottom:0px; padding-top:0px; width:124px'><font color='green'>       author</font> </td><td style='text-align:left; padding-bottom:0px; padding-top:0px; border:.5px solid lightgray;  '> Someone</td><tr>\n",
       "<tr><td style='padding-right:5px; padding-bottom:0px; padding-top:0px; width:124px'><font color='green'>      created</font> </td><td style='text-align:left; padding-bottom:0px; padding-top:0px; border:.5px solid lightgray;  '> 2025-01-17 01:20:35+00:00</td><tr>\n",
       "<tr><td style='padding-right:5px; padding-bottom:0px; padding-top:0px; width:124px'><font color='green'>  description</font> </td><td style='text-align:left; padding-bottom:0px; padding-top:0px; border:.5px solid lightgray;  '> <div>a single statement creation example</div></td><tr>\n",
       "<tr><td style='padding-right:5px; padding-bottom:0px; padding-top:0px; width:124px'><font color='green'>      history</font> </td><td style='text-align:left; padding-bottom:0px; padding-top:0px; border:.5px solid lightgray;  '> <div>2025-01-17 01:20:35+00:00> Created from scratch</div></td><tr>\n",
       "<tr><td style='padding-right:5px; padding-bottom:0px; padding-top:0px; width:124px'><strong>          DATA </strong></td><td style='text-align:left; padding-bottom:0px; padding-top:0px; padding-top:10px; '><hr/></td><tr>\n",
       "<tr><td style='padding-right:5px; padding-bottom:0px; padding-top:0px; width:124px'><font color='green'>        title</font> </td><td style='text-align:left; padding-bottom:0px; padding-top:0px; border:.5px solid lightgray;  '> Energy</td><tr>\n",
       "<tr><td style='padding-right:5px; padding-bottom:0px; padding-top:0px; width:124px'><font color='green'>       values</font> </td><td style='text-align:left; padding-bottom:0px; padding-top:0px; border:.5px solid lightgray;  '> <div><font color='blue'>         [[[  0.7117   0.2063 ...  0.05432   0.1795]<br/>           [  0.2235   0.2738 ...   0.2891   0.4889]<br/>           [  0.8667   0.8823 ...   0.8557   0.7069]<br/>           [   0.525   0.8061 ...   0.1801   0.1454]]<br/><br/>          [[  0.9515   0.8091 ...  0.07042  0.06208]<br/>           [  0.8369   0.7351 ...   0.4393   0.6143]<br/>           [   0.289  0.07534 ...   0.4904   0.1735]<br/>           [ 0.03189   0.6254 ...   0.1632   0.7867]]]</font></div></td><tr>\n",
       "<tr><td style='padding-right:5px; padding-bottom:0px; padding-top:0px; width:124px'><font color='green'>        shape</font> </td><td style='text-align:left; padding-bottom:0px; padding-top:0px; border:.5px solid lightgray;  '> (u:2, v:4, t:6)</td><tr>\n",
       "<tr><td style='padding-right:5px; padding-bottom:0px; padding-top:0px; width:124px'><strong>     DIMENSION `t`</strong></td><td style='text-align:left; padding-bottom:0px; padding-top:0px; padding-top:10px; '><hr/></td><tr>\n",
       "<tr><td style='padding-right:5px; padding-bottom:0px; padding-top:0px; width:124px'><font color='green'>         size</font> </td><td style='text-align:left; padding-bottom:0px; padding-top:0px; border:.5px solid lightgray;  '> 6</td><tr>\n",
       "<tr><td style='padding-right:5px; padding-bottom:0px; padding-top:0px; width:124px'><font color='green'>        title</font> </td><td style='text-align:left; padding-bottom:0px; padding-top:0px; border:.5px solid lightgray;  '> time</td><tr>\n",
       "<tr><td style='padding-right:5px; padding-bottom:0px; padding-top:0px; width:124px'><font color='green'>  coordinates</font> </td><td style='text-align:left; padding-bottom:0px; padding-top:0px; border:.5px solid lightgray;  '> <div><font color='blue'>[       0      0.1      0.2      0.3      0.4      0.5] s</font></div></td><tr>\n",
       "</table>"
      ],
      "text/plain": [
       "NDDataset: [float64] unitless (shape: (u:2, v:4, t:6))"
      ]
     },
     "execution_count": 43,
     "metadata": {},
     "output_type": "execute_result"
    }
   ],
   "source": [
    "d3D"
   ]
  },
  {
   "cell_type": "markdown",
   "id": "1818fa2d",
   "metadata": {},
   "source": [
    "Programmatically, we can use the attribute `is_empty` or `has_data` to check this"
   ]
  },
  {
   "cell_type": "code",
   "execution_count": 44,
   "id": "f4c7a464",
   "metadata": {
    "execution": {
     "iopub.execute_input": "2025-01-17T01:20:35.512509Z",
     "iopub.status.busy": "2025-01-17T01:20:35.512193Z",
     "iopub.status.idle": "2025-01-17T01:20:35.516021Z",
     "shell.execute_reply": "2025-01-17T01:20:35.515462Z"
    }
   },
   "outputs": [
    {
     "data": {
      "text/plain": [
       "(False, True)"
      ]
     },
     "execution_count": 44,
     "metadata": {},
     "output_type": "execute_result"
    }
   ],
   "source": [
    "d3D.v.has_data, d3D.v.is_empty"
   ]
  },
  {
   "cell_type": "markdown",
   "id": "7814a0c5",
   "metadata": {},
   "source": [
    "An error is raised when a coordinate doesn't exist"
   ]
  },
  {
   "cell_type": "code",
   "execution_count": 45,
   "id": "05cf8294",
   "metadata": {
    "execution": {
     "iopub.execute_input": "2025-01-17T01:20:35.518225Z",
     "iopub.status.busy": "2025-01-17T01:20:35.517873Z",
     "iopub.status.idle": "2025-01-17T01:20:35.521449Z",
     "shell.execute_reply": "2025-01-17T01:20:35.520943Z"
    }
   },
   "outputs": [
    {
     "name": "stderr",
     "output_type": "stream",
     "text": [
      " ERROR | KeyError: 'Could not find `x` in coordinates names or titles'\n"
     ]
    }
   ],
   "source": [
    "try:\n",
    "    d3D.x\n",
    "except KeyError as e:\n",
    "    scp.error_(KeyError, e)"
   ]
  },
  {
   "cell_type": "markdown",
   "id": "afc1f553",
   "metadata": {},
   "source": [
    "In some case it can also be useful to get a coordinate from its title instead of its\n",
    "name (the limitation is that if\n",
    "several coordinates have the same title, then only the first ones that is found in\n",
    "the coordinate list, will be\n",
    "returned - this can be ambiguous)"
   ]
  },
  {
   "cell_type": "code",
   "execution_count": 46,
   "id": "1796570f",
   "metadata": {
    "execution": {
     "iopub.execute_input": "2025-01-17T01:20:35.523694Z",
     "iopub.status.busy": "2025-01-17T01:20:35.523239Z",
     "iopub.status.idle": "2025-01-17T01:20:35.527700Z",
     "shell.execute_reply": "2025-01-17T01:20:35.527140Z"
    }
   },
   "outputs": [
    {
     "data": {
      "text/html": [
       "<table style='background:transparent'>\n",
       "<tr><td style='padding-right:5px; padding-bottom:0px; padding-top:0px; width:124px'><font color='green'>         size</font> </td><td style='text-align:left; padding-bottom:0px; padding-top:0px; border:.5px solid lightgray;  '> 6</td><tr>\n",
       "<tr><td style='padding-right:5px; padding-bottom:0px; padding-top:0px; width:124px'><font color='green'>        title</font> </td><td style='text-align:left; padding-bottom:0px; padding-top:0px; border:.5px solid lightgray;  '> time</td><tr>\n",
       "<tr><td style='padding-right:5px; padding-bottom:0px; padding-top:0px; width:124px'><font color='green'>  coordinates</font> </td><td style='text-align:left; padding-bottom:0px; padding-top:0px; border:.5px solid lightgray;  '> <div><font color='blue'>[       0      0.1      0.2      0.3      0.4      0.5] s</font></div></td><tr>\n",
       "</table>"
      ],
      "text/plain": [
       "Coord: [float64] s (size: 6)"
      ]
     },
     "execution_count": 46,
     "metadata": {},
     "output_type": "execute_result"
    }
   ],
   "source": [
    "d3D[\"time\"]"
   ]
  },
  {
   "cell_type": "code",
   "execution_count": 47,
   "id": "a5341eaf",
   "metadata": {
    "execution": {
     "iopub.execute_input": "2025-01-17T01:20:35.529860Z",
     "iopub.status.busy": "2025-01-17T01:20:35.529516Z",
     "iopub.status.idle": "2025-01-17T01:20:35.533757Z",
     "shell.execute_reply": "2025-01-17T01:20:35.533286Z"
    }
   },
   "outputs": [
    {
     "data": {
      "text/html": [
       "<table style='background:transparent'>\n",
       "<tr><td style='padding-right:5px; padding-bottom:0px; padding-top:0px; width:124px'><font color='green'>         size</font> </td><td style='text-align:left; padding-bottom:0px; padding-top:0px; border:.5px solid lightgray;  '> 6</td><tr>\n",
       "<tr><td style='padding-right:5px; padding-bottom:0px; padding-top:0px; width:124px'><font color='green'>        title</font> </td><td style='text-align:left; padding-bottom:0px; padding-top:0px; border:.5px solid lightgray;  '> time</td><tr>\n",
       "<tr><td style='padding-right:5px; padding-bottom:0px; padding-top:0px; width:124px'><font color='green'>  coordinates</font> </td><td style='text-align:left; padding-bottom:0px; padding-top:0px; border:.5px solid lightgray;  '> <div><font color='blue'>[       0      0.1      0.2      0.3      0.4      0.5] s</font></div></td><tr>\n",
       "</table>"
      ],
      "text/plain": [
       "Coord: [float64] s (size: 6)"
      ]
     },
     "execution_count": 47,
     "metadata": {},
     "output_type": "execute_result"
    }
   ],
   "source": [
    "d3D.time"
   ]
  },
  {
   "cell_type": "markdown",
   "id": "1bd6ab1a",
   "metadata": {},
   "source": [
    "## Labels"
   ]
  },
  {
   "cell_type": "markdown",
   "id": "eac5e4f0",
   "metadata": {},
   "source": [
    "It is possible to use labels instead of numerical coordinates. They are sequence of\n",
    "objects .The length of the\n",
    "sequence must be equal to the size of a dimension."
   ]
  },
  {
   "cell_type": "markdown",
   "id": "cf428490",
   "metadata": {},
   "source": [
    "The labels can be simple strings, *e.g.,*"
   ]
  },
  {
   "cell_type": "code",
   "execution_count": 48,
   "id": "38479c1d",
   "metadata": {
    "execution": {
     "iopub.execute_input": "2025-01-17T01:20:35.535940Z",
     "iopub.status.busy": "2025-01-17T01:20:35.535596Z",
     "iopub.status.idle": "2025-01-17T01:20:35.541340Z",
     "shell.execute_reply": "2025-01-17T01:20:35.540728Z"
    }
   },
   "outputs": [
    {
     "data": {
      "text/html": [
       "<table style='background:transparent'>\n",
       "<tr><td style='padding-right:5px; padding-bottom:0px; padding-top:0px; width:124px'><font color='green'>         name</font> </td><td style='text-align:left; padding-bottom:0px; padding-top:0px; border:.5px solid lightgray;  '> 3D_dataset</td><tr>\n",
       "<tr><td style='padding-right:5px; padding-bottom:0px; padding-top:0px; width:124px'><font color='green'>       author</font> </td><td style='text-align:left; padding-bottom:0px; padding-top:0px; border:.5px solid lightgray;  '> Someone</td><tr>\n",
       "<tr><td style='padding-right:5px; padding-bottom:0px; padding-top:0px; width:124px'><font color='green'>      created</font> </td><td style='text-align:left; padding-bottom:0px; padding-top:0px; border:.5px solid lightgray;  '> 2025-01-17 01:20:35+00:00</td><tr>\n",
       "<tr><td style='padding-right:5px; padding-bottom:0px; padding-top:0px; width:124px'><font color='green'>  description</font> </td><td style='text-align:left; padding-bottom:0px; padding-top:0px; border:.5px solid lightgray;  '> <div>a single statement creation example</div></td><tr>\n",
       "<tr><td style='padding-right:5px; padding-bottom:0px; padding-top:0px; width:124px'><font color='green'>      history</font> </td><td style='text-align:left; padding-bottom:0px; padding-top:0px; border:.5px solid lightgray;  '> <div>2025-01-17 01:20:35+00:00> Created from scratch</div></td><tr>\n",
       "<tr><td style='padding-right:5px; padding-bottom:0px; padding-top:0px; width:124px'><strong>          DATA </strong></td><td style='text-align:left; padding-bottom:0px; padding-top:0px; padding-top:10px; '><hr/></td><tr>\n",
       "<tr><td style='padding-right:5px; padding-bottom:0px; padding-top:0px; width:124px'><font color='green'>        title</font> </td><td style='text-align:left; padding-bottom:0px; padding-top:0px; border:.5px solid lightgray;  '> Energy</td><tr>\n",
       "<tr><td style='padding-right:5px; padding-bottom:0px; padding-top:0px; width:124px'><font color='green'>       values</font> </td><td style='text-align:left; padding-bottom:0px; padding-top:0px; border:.5px solid lightgray;  '> <div><font color='blue'>         [[[  0.7117   0.2063 ...  0.05432   0.1795]<br/>           [  0.2235   0.2738 ...   0.2891   0.4889]<br/>           [  0.8667   0.8823 ...   0.8557   0.7069]<br/>           [   0.525   0.8061 ...   0.1801   0.1454]]<br/><br/>          [[  0.9515   0.8091 ...  0.07042  0.06208]<br/>           [  0.8369   0.7351 ...   0.4393   0.6143]<br/>           [   0.289  0.07534 ...   0.4904   0.1735]<br/>           [ 0.03189   0.6254 ...   0.1632   0.7867]]]</font></div></td><tr>\n",
       "<tr><td style='padding-right:5px; padding-bottom:0px; padding-top:0px; width:124px'><font color='green'>        shape</font> </td><td style='text-align:left; padding-bottom:0px; padding-top:0px; border:.5px solid lightgray;  '> (u:2, v:4, t:6)</td><tr>\n",
       "<tr><td style='padding-right:5px; padding-bottom:0px; padding-top:0px; width:124px'><strong>     DIMENSION `t`</strong></td><td style='text-align:left; padding-bottom:0px; padding-top:0px; padding-top:10px; '><hr/></td><tr>\n",
       "<tr><td style='padding-right:5px; padding-bottom:0px; padding-top:0px; width:124px'><font color='green'>         size</font> </td><td style='text-align:left; padding-bottom:0px; padding-top:0px; border:.5px solid lightgray;  '> 6</td><tr>\n",
       "<tr><td style='padding-right:5px; padding-bottom:0px; padding-top:0px; width:124px'><font color='green'>        title</font> </td><td style='text-align:left; padding-bottom:0px; padding-top:0px; border:.5px solid lightgray;  '> time</td><tr>\n",
       "<tr><td style='padding-right:5px; padding-bottom:0px; padding-top:0px; width:124px'><font color='green'>  coordinates</font> </td><td style='text-align:left; padding-bottom:0px; padding-top:0px; border:.5px solid lightgray;  '> <div><font color='blue'>[       0      0.1      0.2      0.3      0.4      0.5] s</font></div></td><tr>\n",
       "<tr><td style='padding-right:5px; padding-bottom:0px; padding-top:0px; width:124px'><strong>     DIMENSION `u`</strong></td><td style='text-align:left; padding-bottom:0px; padding-top:0px; padding-top:10px; '><hr/></td><tr>\n",
       "<tr><td style='padding-right:5px; padding-bottom:0px; padding-top:0px; width:124px'><font color='green'>         size</font> </td><td style='text-align:left; padding-bottom:0px; padding-top:0px; border:.5px solid lightgray;  '> 2</td><tr>\n",
       "<tr><td style='padding-right:5px; padding-bottom:0px; padding-top:0px; width:124px'><font color='green'>        title</font> </td><td style='text-align:left; padding-bottom:0px; padding-top:0px; border:.5px solid lightgray;  '> some tags</td><tr>\n",
       "<tr><td style='padding-right:5px; padding-bottom:0px; padding-top:0px; width:124px'><font color='green'>       labels</font> </td><td style='text-align:left; padding-bottom:0px; padding-top:0px; border:.5px solid lightgray;  '> <div><font color='darkcyan'>[  a   b]</font></div></td><tr>\n",
       "</table>"
      ],
      "text/plain": [
       "NDDataset: [float64] unitless (shape: (u:2, v:4, t:6))"
      ]
     },
     "execution_count": 48,
     "metadata": {},
     "output_type": "execute_result"
    }
   ],
   "source": [
    "tags = list(\"ab\")\n",
    "d3D.u.title = \"some tags\"\n",
    "d3D.u.labels = tags  # TODO: avoid repetition\n",
    "d3D"
   ]
  },
  {
   "cell_type": "markdown",
   "id": "23c8aef8",
   "metadata": {},
   "source": [
    "or more complex objects.\n",
    "\n",
    "For instance here we use datetime.timedelta objects:"
   ]
  },
  {
   "cell_type": "code",
   "execution_count": 49,
   "id": "cc5f9d26",
   "metadata": {
    "execution": {
     "iopub.execute_input": "2025-01-17T01:20:35.543711Z",
     "iopub.status.busy": "2025-01-17T01:20:35.543366Z",
     "iopub.status.idle": "2025-01-17T01:20:35.550579Z",
     "shell.execute_reply": "2025-01-17T01:20:35.549998Z"
    }
   },
   "outputs": [
    {
     "data": {
      "text/html": [
       "<table style='background:transparent'>\n",
       "<tr><td style='padding-right:5px; padding-bottom:0px; padding-top:0px; width:124px'><font color='green'>         name</font> </td><td style='text-align:left; padding-bottom:0px; padding-top:0px; border:.5px solid lightgray;  '> 3D_dataset</td><tr>\n",
       "<tr><td style='padding-right:5px; padding-bottom:0px; padding-top:0px; width:124px'><font color='green'>       author</font> </td><td style='text-align:left; padding-bottom:0px; padding-top:0px; border:.5px solid lightgray;  '> Someone</td><tr>\n",
       "<tr><td style='padding-right:5px; padding-bottom:0px; padding-top:0px; width:124px'><font color='green'>      created</font> </td><td style='text-align:left; padding-bottom:0px; padding-top:0px; border:.5px solid lightgray;  '> 2025-01-17 01:20:35+00:00</td><tr>\n",
       "<tr><td style='padding-right:5px; padding-bottom:0px; padding-top:0px; width:124px'><font color='green'>  description</font> </td><td style='text-align:left; padding-bottom:0px; padding-top:0px; border:.5px solid lightgray;  '> <div>a single statement creation example</div></td><tr>\n",
       "<tr><td style='padding-right:5px; padding-bottom:0px; padding-top:0px; width:124px'><font color='green'>      history</font> </td><td style='text-align:left; padding-bottom:0px; padding-top:0px; border:.5px solid lightgray;  '> <div>2025-01-17 01:20:35+00:00> Created from scratch</div></td><tr>\n",
       "<tr><td style='padding-right:5px; padding-bottom:0px; padding-top:0px; width:124px'><strong>          DATA </strong></td><td style='text-align:left; padding-bottom:0px; padding-top:0px; padding-top:10px; '><hr/></td><tr>\n",
       "<tr><td style='padding-right:5px; padding-bottom:0px; padding-top:0px; width:124px'><font color='green'>        title</font> </td><td style='text-align:left; padding-bottom:0px; padding-top:0px; border:.5px solid lightgray;  '> Energy</td><tr>\n",
       "<tr><td style='padding-right:5px; padding-bottom:0px; padding-top:0px; width:124px'><font color='green'>       values</font> </td><td style='text-align:left; padding-bottom:0px; padding-top:0px; border:.5px solid lightgray;  '> <div><font color='blue'>         [[[  0.7117   0.2063 ...  0.05432   0.1795]<br/>           [  0.2235   0.2738 ...   0.2891   0.4889]<br/>           [  0.8667   0.8823 ...   0.8557   0.7069]<br/>           [   0.525   0.8061 ...   0.1801   0.1454]]<br/><br/>          [[  0.9515   0.8091 ...  0.07042  0.06208]<br/>           [  0.8369   0.7351 ...   0.4393   0.6143]<br/>           [   0.289  0.07534 ...   0.4904   0.1735]<br/>           [ 0.03189   0.6254 ...   0.1632   0.7867]]]</font></div></td><tr>\n",
       "<tr><td style='padding-right:5px; padding-bottom:0px; padding-top:0px; width:124px'><font color='green'>        shape</font> </td><td style='text-align:left; padding-bottom:0px; padding-top:0px; border:.5px solid lightgray;  '> (u:2, v:4, t:6)</td><tr>\n",
       "<tr><td style='padding-right:5px; padding-bottom:0px; padding-top:0px; width:124px'><strong>     DIMENSION `t`</strong></td><td style='text-align:left; padding-bottom:0px; padding-top:0px; padding-top:10px; '><hr/></td><tr>\n",
       "<tr><td style='padding-right:5px; padding-bottom:0px; padding-top:0px; width:124px'><font color='green'>         size</font> </td><td style='text-align:left; padding-bottom:0px; padding-top:0px; border:.5px solid lightgray;  '> 6</td><tr>\n",
       "<tr><td style='padding-right:5px; padding-bottom:0px; padding-top:0px; width:124px'><font color='green'>        title</font> </td><td style='text-align:left; padding-bottom:0px; padding-top:0px; border:.5px solid lightgray;  '> time</td><tr>\n",
       "<tr><td style='padding-right:5px; padding-bottom:0px; padding-top:0px; width:124px'><font color='green'>       labels</font> </td><td style='text-align:left; padding-bottom:0px; padding-top:0px; border:.5px solid lightgray;  '> <div><font color='darkcyan'>[  0:00:00   0:01:00   0:02:00   0:03:00   0:04:00   0:05:00]</font></div> </td><tr>\n",
       "<tr><td style='padding-right:5px; padding-bottom:0px; padding-top:0px; width:124px'><strong>     DIMENSION `u`</strong></td><td style='text-align:left; padding-bottom:0px; padding-top:0px; padding-top:10px; '><hr/></td><tr>\n",
       "<tr><td style='padding-right:5px; padding-bottom:0px; padding-top:0px; width:124px'><font color='green'>         size</font> </td><td style='text-align:left; padding-bottom:0px; padding-top:0px; border:.5px solid lightgray;  '> 2</td><tr>\n",
       "<tr><td style='padding-right:5px; padding-bottom:0px; padding-top:0px; width:124px'><font color='green'>        title</font> </td><td style='text-align:left; padding-bottom:0px; padding-top:0px; border:.5px solid lightgray;  '> some tags</td><tr>\n",
       "<tr><td style='padding-right:5px; padding-bottom:0px; padding-top:0px; width:124px'><font color='green'>       labels</font> </td><td style='text-align:left; padding-bottom:0px; padding-top:0px; border:.5px solid lightgray;  '> <div><font color='darkcyan'>[  a   b]</font></div></td><tr>\n",
       "</table>"
      ],
      "text/plain": [
       "NDDataset: [float64] unitless (shape: (u:2, v:4, t:6))"
      ]
     },
     "execution_count": 49,
     "metadata": {},
     "output_type": "execute_result"
    }
   ],
   "source": [
    "from datetime import timedelta\n",
    "\n",
    "start = timedelta(0)\n",
    "times = [start + timedelta(seconds=x * 60) for x in range(6)]\n",
    "d3D.t = None\n",
    "d3D.t.labels = times\n",
    "d3D.t.title = \"time\"\n",
    "d3D"
   ]
  },
  {
   "cell_type": "markdown",
   "id": "cdce5e57",
   "metadata": {},
   "source": [
    "In this case, getting a coordinate that doesn't possess numerical data but labels,\n",
    "will return the labels"
   ]
  },
  {
   "cell_type": "code",
   "execution_count": 50,
   "id": "e3675fbe",
   "metadata": {
    "execution": {
     "iopub.execute_input": "2025-01-17T01:20:35.552827Z",
     "iopub.status.busy": "2025-01-17T01:20:35.552480Z",
     "iopub.status.idle": "2025-01-17T01:20:35.556759Z",
     "shell.execute_reply": "2025-01-17T01:20:35.556176Z"
    }
   },
   "outputs": [
    {
     "data": {
      "text/html": [
       "<table style='background:transparent'>\n",
       "<tr><td style='padding-right:5px; padding-bottom:0px; padding-top:0px; width:124px'><font color='green'>         size</font> </td><td style='text-align:left; padding-bottom:0px; padding-top:0px; border:.5px solid lightgray;  '> 6</td><tr>\n",
       "<tr><td style='padding-right:5px; padding-bottom:0px; padding-top:0px; width:124px'><font color='green'>        title</font> </td><td style='text-align:left; padding-bottom:0px; padding-top:0px; border:.5px solid lightgray;  '> time</td><tr>\n",
       "<tr><td style='padding-right:5px; padding-bottom:0px; padding-top:0px; width:124px'><font color='green'>       labels</font> </td><td style='text-align:left; padding-bottom:0px; padding-top:0px; border:.5px solid lightgray;  '> <div><font color='darkcyan'>[  0:00:00   0:01:00   0:02:00   0:03:00   0:04:00   0:05:00]</font></div> </td><tr>\n",
       "</table>"
      ],
      "text/plain": [
       "Coord: [labels] [  0:00:00   0:01:00   0:02:00   0:03:00   0:04:00   0:05:00] (size: 6)"
      ]
     },
     "execution_count": 50,
     "metadata": {},
     "output_type": "execute_result"
    }
   ],
   "source": [
    "d3D.time"
   ]
  },
  {
   "cell_type": "markdown",
   "id": "99f1b0f3",
   "metadata": {},
   "source": [
    "# More insight on coordinates"
   ]
  },
  {
   "cell_type": "markdown",
   "id": "ec688e90",
   "metadata": {},
   "source": [
    "## Sharing coordinates between dimensions"
   ]
  },
  {
   "cell_type": "markdown",
   "id": "d6beb9cc",
   "metadata": {},
   "source": [
    "Sometimes it is not necessary to have different coordinates for each axe. Some can be\n",
    "shared between axes.\n",
    "\n",
    "For example, if we have a square matrix with the same coordinate in the two\n",
    "dimensions, the second dimension can\n",
    "refer to the first. Here we create a square 2D dataset, using the `diag` method:"
   ]
  },
  {
   "cell_type": "code",
   "execution_count": 51,
   "id": "76ca7638",
   "metadata": {
    "execution": {
     "iopub.execute_input": "2025-01-17T01:20:35.559109Z",
     "iopub.status.busy": "2025-01-17T01:20:35.558780Z",
     "iopub.status.idle": "2025-01-17T01:20:35.564614Z",
     "shell.execute_reply": "2025-01-17T01:20:35.564022Z"
    }
   },
   "outputs": [
    {
     "data": {
      "text/html": [
       "<table style='background:transparent'>\n",
       "<tr><td style='padding-right:5px; padding-bottom:0px; padding-top:0px; width:124px'><font color='green'>         name</font> </td><td style='text-align:left; padding-bottom:0px; padding-top:0px; border:.5px solid lightgray;  '> NDDataset_40d117e0</td><tr>\n",
       "<tr><td style='padding-right:5px; padding-bottom:0px; padding-top:0px; width:124px'><font color='green'>       author</font> </td><td style='text-align:left; padding-bottom:0px; padding-top:0px; border:.5px solid lightgray;  '> runner@fv-az1770-418</td><tr>\n",
       "<tr><td style='padding-right:5px; padding-bottom:0px; padding-top:0px; width:124px'><font color='green'>      created</font> </td><td style='text-align:left; padding-bottom:0px; padding-top:0px; border:.5px solid lightgray;  '> 2025-01-17 01:20:35+00:00</td><tr>\n",
       "<tr><td style='padding-right:5px; padding-bottom:0px; padding-top:0px; width:124px'><font color='green'>      history</font> </td><td style='text-align:left; padding-bottom:0px; padding-top:0px; border:.5px solid lightgray;  '> <div>2025-01-17 01:20:35+00:00> Created using method : diag</div></td><tr>\n",
       "<tr><td style='padding-right:5px; padding-bottom:0px; padding-top:0px; width:124px'><strong>          DATA </strong></td><td style='text-align:left; padding-bottom:0px; padding-top:0px; padding-top:10px; '><hr/></td><tr>\n",
       "<tr><td style='padding-right:5px; padding-bottom:0px; padding-top:0px; width:124px'><font color='green'>        title</font> </td><td style='text-align:left; padding-bottom:0px; padding-top:0px; border:.5px solid lightgray;  '> <untitled></td><tr>\n",
       "<tr><td style='padding-right:5px; padding-bottom:0px; padding-top:0px; width:124px'><font color='green'>       values</font> </td><td style='text-align:left; padding-bottom:0px; padding-top:0px; border:.5px solid lightgray;  '> <div><font color='blue'>         [[       3        0        0]<br/>          [       0        3        0]<br/>          [       0        0      2.5]]</font></div></td><tr>\n",
       "<tr><td style='padding-right:5px; padding-bottom:0px; padding-top:0px; width:124px'><font color='green'>        shape</font> </td><td style='text-align:left; padding-bottom:0px; padding-top:0px; border:.5px solid lightgray;  '> (y:3, x:3)</td><tr>\n",
       "</table>"
      ],
      "text/plain": [
       "NDDataset: [float64] unitless (shape: (y:3, x:3))"
      ]
     },
     "execution_count": 51,
     "metadata": {},
     "output_type": "execute_result"
    }
   ],
   "source": [
    "nd = NDDataset.diag((3, 3, 2.5))\n",
    "nd"
   ]
  },
  {
   "cell_type": "markdown",
   "id": "9ef494da",
   "metadata": {},
   "source": [
    "and then we add the same coordinate for both dimensions"
   ]
  },
  {
   "cell_type": "code",
   "execution_count": 52,
   "id": "421447f4",
   "metadata": {
    "execution": {
     "iopub.execute_input": "2025-01-17T01:20:35.566774Z",
     "iopub.status.busy": "2025-01-17T01:20:35.566445Z",
     "iopub.status.idle": "2025-01-17T01:20:35.573122Z",
     "shell.execute_reply": "2025-01-17T01:20:35.572556Z"
    }
   },
   "outputs": [
    {
     "data": {
      "text/html": [
       "<table style='background:transparent'>\n",
       "<tr><td style='padding-right:5px; padding-bottom:0px; padding-top:0px; width:124px'><font color='green'>         name</font> </td><td style='text-align:left; padding-bottom:0px; padding-top:0px; border:.5px solid lightgray;  '> NDDataset_40d117e0</td><tr>\n",
       "<tr><td style='padding-right:5px; padding-bottom:0px; padding-top:0px; width:124px'><font color='green'>       author</font> </td><td style='text-align:left; padding-bottom:0px; padding-top:0px; border:.5px solid lightgray;  '> runner@fv-az1770-418</td><tr>\n",
       "<tr><td style='padding-right:5px; padding-bottom:0px; padding-top:0px; width:124px'><font color='green'>      created</font> </td><td style='text-align:left; padding-bottom:0px; padding-top:0px; border:.5px solid lightgray;  '> 2025-01-17 01:20:35+00:00</td><tr>\n",
       "<tr><td style='padding-right:5px; padding-bottom:0px; padding-top:0px; width:124px'><font color='green'>      history</font> </td><td style='text-align:left; padding-bottom:0px; padding-top:0px; border:.5px solid lightgray;  '> <div>2025-01-17 01:20:35+00:00> Created using method : diag</div></td><tr>\n",
       "<tr><td style='padding-right:5px; padding-bottom:0px; padding-top:0px; width:124px'><strong>          DATA </strong></td><td style='text-align:left; padding-bottom:0px; padding-top:0px; padding-top:10px; '><hr/></td><tr>\n",
       "<tr><td style='padding-right:5px; padding-bottom:0px; padding-top:0px; width:124px'><font color='green'>        title</font> </td><td style='text-align:left; padding-bottom:0px; padding-top:0px; border:.5px solid lightgray;  '> <untitled></td><tr>\n",
       "<tr><td style='padding-right:5px; padding-bottom:0px; padding-top:0px; width:124px'><font color='green'>       values</font> </td><td style='text-align:left; padding-bottom:0px; padding-top:0px; border:.5px solid lightgray;  '> <div><font color='blue'>         [[       3        0        0]<br/>          [       0        3        0]<br/>          [       0        0      2.5]]</font></div></td><tr>\n",
       "<tr><td style='padding-right:5px; padding-bottom:0px; padding-top:0px; width:124px'><font color='green'>        shape</font> </td><td style='text-align:left; padding-bottom:0px; padding-top:0px; border:.5px solid lightgray;  '> (y:3, x:3)</td><tr>\n",
       "<tr><td style='padding-right:5px; padding-bottom:0px; padding-top:0px; width:124px'><strong>     DIMENSION `x`=`y`</strong></td><td style='text-align:left; padding-bottom:0px; padding-top:0px; padding-top:10px; '><hr/></td><tr>\n",
       "<tr><td style='padding-right:5px; padding-bottom:0px; padding-top:0px; width:124px'><font color='green'>         size</font> </td><td style='text-align:left; padding-bottom:0px; padding-top:0px; border:.5px solid lightgray;  '> 3</td><tr>\n",
       "<tr><td style='padding-right:5px; padding-bottom:0px; padding-top:0px; width:124px'><font color='green'>        title</font> </td><td style='text-align:left; padding-bottom:0px; padding-top:0px; border:.5px solid lightgray;  '> <untitled></td><tr>\n",
       "<tr><td style='padding-right:5px; padding-bottom:0px; padding-top:0px; width:124px'><font color='green'>  coordinates</font> </td><td style='text-align:left; padding-bottom:0px; padding-top:0px; border:.5px solid lightgray;  '> <div><font color='blue'>[       0        1        2]</font></div></td><tr>\n",
       "</table>"
      ],
      "text/plain": [
       "NDDataset: [float64] unitless (shape: (y:3, x:3))"
      ]
     },
     "execution_count": 52,
     "metadata": {},
     "output_type": "execute_result"
    }
   ],
   "source": [
    "coordx = Coord.arange(3)\n",
    "nd.set_coordset(x=coordx, y=\"x\")\n",
    "nd"
   ]
  },
  {
   "cell_type": "markdown",
   "id": "e2e22d55",
   "metadata": {},
   "source": [
    "## Setting coordinates using `set_coordset`"
   ]
  },
  {
   "cell_type": "markdown",
   "id": "49c29e46",
   "metadata": {},
   "source": [
    "Let's create 3 `Coord` objects to be used as coordinates for the 3 dimensions of the\n",
    "previous d3D dataset."
   ]
  },
  {
   "cell_type": "code",
   "execution_count": 53,
   "id": "d3f2f3ca",
   "metadata": {
    "execution": {
     "iopub.execute_input": "2025-01-17T01:20:35.575257Z",
     "iopub.status.busy": "2025-01-17T01:20:35.574920Z",
     "iopub.status.idle": "2025-01-17T01:20:35.580788Z",
     "shell.execute_reply": "2025-01-17T01:20:35.580186Z"
    }
   },
   "outputs": [],
   "source": [
    "d3D.dims = [\"t\", \"v\", \"u\"]\n",
    "s0, s1, s2 = d3D.shape\n",
    "coord0 = Coord.linspace(10.0, 100.0, s0, units=\"m\", title=\"distance\")\n",
    "coord1 = Coord.linspace(20.0, 25.0, s1, units=\"K\", title=\"temperature\")\n",
    "coord2 = Coord.linspace(0.0, 1000.0, s2, units=\"hour\", title=\"elapsed time\")"
   ]
  },
  {
   "cell_type": "markdown",
   "id": "574f3508",
   "metadata": {},
   "source": [
    "### Syntax 1"
   ]
  },
  {
   "cell_type": "code",
   "execution_count": 54,
   "id": "0ea5721d",
   "metadata": {
    "execution": {
     "iopub.execute_input": "2025-01-17T01:20:35.582896Z",
     "iopub.status.busy": "2025-01-17T01:20:35.582526Z",
     "iopub.status.idle": "2025-01-17T01:20:35.590857Z",
     "shell.execute_reply": "2025-01-17T01:20:35.590375Z"
    }
   },
   "outputs": [
    {
     "data": {
      "text/html": [
       "<table style='background:transparent'>\n",
       "<tr><td style='padding-right:5px; padding-bottom:0px; padding-top:0px; width:124px'><font color='green'>         name</font> </td><td style='text-align:left; padding-bottom:0px; padding-top:0px; border:.5px solid lightgray;  '> 3D_dataset</td><tr>\n",
       "<tr><td style='padding-right:5px; padding-bottom:0px; padding-top:0px; width:124px'><font color='green'>       author</font> </td><td style='text-align:left; padding-bottom:0px; padding-top:0px; border:.5px solid lightgray;  '> Someone</td><tr>\n",
       "<tr><td style='padding-right:5px; padding-bottom:0px; padding-top:0px; width:124px'><font color='green'>      created</font> </td><td style='text-align:left; padding-bottom:0px; padding-top:0px; border:.5px solid lightgray;  '> 2025-01-17 01:20:35+00:00</td><tr>\n",
       "<tr><td style='padding-right:5px; padding-bottom:0px; padding-top:0px; width:124px'><font color='green'>  description</font> </td><td style='text-align:left; padding-bottom:0px; padding-top:0px; border:.5px solid lightgray;  '> <div>a single statement creation example</div></td><tr>\n",
       "<tr><td style='padding-right:5px; padding-bottom:0px; padding-top:0px; width:124px'><font color='green'>      history</font> </td><td style='text-align:left; padding-bottom:0px; padding-top:0px; border:.5px solid lightgray;  '> <div>2025-01-17 01:20:35+00:00> Created from scratch</div></td><tr>\n",
       "<tr><td style='padding-right:5px; padding-bottom:0px; padding-top:0px; width:124px'><strong>          DATA </strong></td><td style='text-align:left; padding-bottom:0px; padding-top:0px; padding-top:10px; '><hr/></td><tr>\n",
       "<tr><td style='padding-right:5px; padding-bottom:0px; padding-top:0px; width:124px'><font color='green'>        title</font> </td><td style='text-align:left; padding-bottom:0px; padding-top:0px; border:.5px solid lightgray;  '> Energy</td><tr>\n",
       "<tr><td style='padding-right:5px; padding-bottom:0px; padding-top:0px; width:124px'><font color='green'>       values</font> </td><td style='text-align:left; padding-bottom:0px; padding-top:0px; border:.5px solid lightgray;  '> <div><font color='blue'>         [[[  0.7117   0.2063 ...  0.05432   0.1795]<br/>           [  0.2235   0.2738 ...   0.2891   0.4889]<br/>           [  0.8667   0.8823 ...   0.8557   0.7069]<br/>           [   0.525   0.8061 ...   0.1801   0.1454]]<br/><br/>          [[  0.9515   0.8091 ...  0.07042  0.06208]<br/>           [  0.8369   0.7351 ...   0.4393   0.6143]<br/>           [   0.289  0.07534 ...   0.4904   0.1735]<br/>           [ 0.03189   0.6254 ...   0.1632   0.7867]]]</font></div></td><tr>\n",
       "<tr><td style='padding-right:5px; padding-bottom:0px; padding-top:0px; width:124px'><font color='green'>        shape</font> </td><td style='text-align:left; padding-bottom:0px; padding-top:0px; border:.5px solid lightgray;  '> (t:2, v:4, u:6)</td><tr>\n",
       "<tr><td style='padding-right:5px; padding-bottom:0px; padding-top:0px; width:124px'><strong>     DIMENSION `t`</strong></td><td style='text-align:left; padding-bottom:0px; padding-top:0px; padding-top:10px; '><hr/></td><tr>\n",
       "<tr><td style='padding-right:5px; padding-bottom:0px; padding-top:0px; width:124px'><font color='green'>         size</font> </td><td style='text-align:left; padding-bottom:0px; padding-top:0px; border:.5px solid lightgray;  '> 2</td><tr>\n",
       "<tr><td style='padding-right:5px; padding-bottom:0px; padding-top:0px; width:124px'><font color='green'>        title</font> </td><td style='text-align:left; padding-bottom:0px; padding-top:0px; border:.5px solid lightgray;  '> distance</td><tr>\n",
       "<tr><td style='padding-right:5px; padding-bottom:0px; padding-top:0px; width:124px'><font color='green'>  coordinates</font> </td><td style='text-align:left; padding-bottom:0px; padding-top:0px; border:.5px solid lightgray;  '> <div><font color='blue'>[      10      100] m</font></div></td><tr>\n",
       "<tr><td style='padding-right:5px; padding-bottom:0px; padding-top:0px; width:124px'><strong>     DIMENSION `u`</strong></td><td style='text-align:left; padding-bottom:0px; padding-top:0px; padding-top:10px; '><hr/></td><tr>\n",
       "<tr><td style='padding-right:5px; padding-bottom:0px; padding-top:0px; width:124px'><font color='green'>         size</font> </td><td style='text-align:left; padding-bottom:0px; padding-top:0px; border:.5px solid lightgray;  '> 6</td><tr>\n",
       "<tr><td style='padding-right:5px; padding-bottom:0px; padding-top:0px; width:124px'><font color='green'>        title</font> </td><td style='text-align:left; padding-bottom:0px; padding-top:0px; border:.5px solid lightgray;  '> elapsed time</td><tr>\n",
       "<tr><td style='padding-right:5px; padding-bottom:0px; padding-top:0px; width:124px'><font color='green'>  coordinates</font> </td><td style='text-align:left; padding-bottom:0px; padding-top:0px; border:.5px solid lightgray;  '> <div><font color='blue'>[       0      200      400      600      800     1000] h</font></div></td><tr>\n",
       "<tr><td style='padding-right:5px; padding-bottom:0px; padding-top:0px; width:124px'><strong>     DIMENSION `v`</strong></td><td style='text-align:left; padding-bottom:0px; padding-top:0px; padding-top:10px; '><hr/></td><tr>\n",
       "<tr><td style='padding-right:5px; padding-bottom:0px; padding-top:0px; width:124px'><font color='green'>         size</font> </td><td style='text-align:left; padding-bottom:0px; padding-top:0px; border:.5px solid lightgray;  '> 4</td><tr>\n",
       "<tr><td style='padding-right:5px; padding-bottom:0px; padding-top:0px; width:124px'><font color='green'>        title</font> </td><td style='text-align:left; padding-bottom:0px; padding-top:0px; border:.5px solid lightgray;  '> temperature</td><tr>\n",
       "<tr><td style='padding-right:5px; padding-bottom:0px; padding-top:0px; width:124px'><font color='green'>  coordinates</font> </td><td style='text-align:left; padding-bottom:0px; padding-top:0px; border:.5px solid lightgray;  '> <div><font color='blue'>[      20    21.67    23.33       25] K</font></div></td><tr>\n",
       "</table>"
      ],
      "text/plain": [
       "NDDataset: [float64] unitless (shape: (t:2, v:4, u:6))"
      ]
     },
     "execution_count": 54,
     "metadata": {},
     "output_type": "execute_result"
    }
   ],
   "source": [
    "d3D.set_coordset(u=coord2, v=coord1, t=coord0)\n",
    "d3D"
   ]
  },
  {
   "cell_type": "markdown",
   "id": "6be05a45",
   "metadata": {},
   "source": [
    "### Syntax 2"
   ]
  },
  {
   "cell_type": "code",
   "execution_count": 55,
   "id": "8a25f92f",
   "metadata": {
    "execution": {
     "iopub.execute_input": "2025-01-17T01:20:35.593052Z",
     "iopub.status.busy": "2025-01-17T01:20:35.592714Z",
     "iopub.status.idle": "2025-01-17T01:20:35.601112Z",
     "shell.execute_reply": "2025-01-17T01:20:35.600553Z"
    }
   },
   "outputs": [
    {
     "data": {
      "text/html": [
       "<table style='background:transparent'>\n",
       "<tr><td style='padding-right:5px; padding-bottom:0px; padding-top:0px; width:124px'><font color='green'>         name</font> </td><td style='text-align:left; padding-bottom:0px; padding-top:0px; border:.5px solid lightgray;  '> 3D_dataset</td><tr>\n",
       "<tr><td style='padding-right:5px; padding-bottom:0px; padding-top:0px; width:124px'><font color='green'>       author</font> </td><td style='text-align:left; padding-bottom:0px; padding-top:0px; border:.5px solid lightgray;  '> Someone</td><tr>\n",
       "<tr><td style='padding-right:5px; padding-bottom:0px; padding-top:0px; width:124px'><font color='green'>      created</font> </td><td style='text-align:left; padding-bottom:0px; padding-top:0px; border:.5px solid lightgray;  '> 2025-01-17 01:20:35+00:00</td><tr>\n",
       "<tr><td style='padding-right:5px; padding-bottom:0px; padding-top:0px; width:124px'><font color='green'>  description</font> </td><td style='text-align:left; padding-bottom:0px; padding-top:0px; border:.5px solid lightgray;  '> <div>a single statement creation example</div></td><tr>\n",
       "<tr><td style='padding-right:5px; padding-bottom:0px; padding-top:0px; width:124px'><font color='green'>      history</font> </td><td style='text-align:left; padding-bottom:0px; padding-top:0px; border:.5px solid lightgray;  '> <div>2025-01-17 01:20:35+00:00> Created from scratch</div></td><tr>\n",
       "<tr><td style='padding-right:5px; padding-bottom:0px; padding-top:0px; width:124px'><strong>          DATA </strong></td><td style='text-align:left; padding-bottom:0px; padding-top:0px; padding-top:10px; '><hr/></td><tr>\n",
       "<tr><td style='padding-right:5px; padding-bottom:0px; padding-top:0px; width:124px'><font color='green'>        title</font> </td><td style='text-align:left; padding-bottom:0px; padding-top:0px; border:.5px solid lightgray;  '> Energy</td><tr>\n",
       "<tr><td style='padding-right:5px; padding-bottom:0px; padding-top:0px; width:124px'><font color='green'>       values</font> </td><td style='text-align:left; padding-bottom:0px; padding-top:0px; border:.5px solid lightgray;  '> <div><font color='blue'>         [[[  0.7117   0.2063 ...  0.05432   0.1795]<br/>           [  0.2235   0.2738 ...   0.2891   0.4889]<br/>           [  0.8667   0.8823 ...   0.8557   0.7069]<br/>           [   0.525   0.8061 ...   0.1801   0.1454]]<br/><br/>          [[  0.9515   0.8091 ...  0.07042  0.06208]<br/>           [  0.8369   0.7351 ...   0.4393   0.6143]<br/>           [   0.289  0.07534 ...   0.4904   0.1735]<br/>           [ 0.03189   0.6254 ...   0.1632   0.7867]]]</font></div></td><tr>\n",
       "<tr><td style='padding-right:5px; padding-bottom:0px; padding-top:0px; width:124px'><font color='green'>        shape</font> </td><td style='text-align:left; padding-bottom:0px; padding-top:0px; border:.5px solid lightgray;  '> (t:2, v:4, u:6)</td><tr>\n",
       "<tr><td style='padding-right:5px; padding-bottom:0px; padding-top:0px; width:124px'><strong>     DIMENSION `t`</strong></td><td style='text-align:left; padding-bottom:0px; padding-top:0px; padding-top:10px; '><hr/></td><tr>\n",
       "<tr><td style='padding-right:5px; padding-bottom:0px; padding-top:0px; width:124px'><font color='green'>         size</font> </td><td style='text-align:left; padding-bottom:0px; padding-top:0px; border:.5px solid lightgray;  '> 2</td><tr>\n",
       "<tr><td style='padding-right:5px; padding-bottom:0px; padding-top:0px; width:124px'><font color='green'>        title</font> </td><td style='text-align:left; padding-bottom:0px; padding-top:0px; border:.5px solid lightgray;  '> distance</td><tr>\n",
       "<tr><td style='padding-right:5px; padding-bottom:0px; padding-top:0px; width:124px'><font color='green'>  coordinates</font> </td><td style='text-align:left; padding-bottom:0px; padding-top:0px; border:.5px solid lightgray;  '> <div><font color='blue'>[      10      100] m</font></div></td><tr>\n",
       "<tr><td style='padding-right:5px; padding-bottom:0px; padding-top:0px; width:124px'><strong>     DIMENSION `u`</strong></td><td style='text-align:left; padding-bottom:0px; padding-top:0px; padding-top:10px; '><hr/></td><tr>\n",
       "<tr><td style='padding-right:5px; padding-bottom:0px; padding-top:0px; width:124px'><font color='green'>         size</font> </td><td style='text-align:left; padding-bottom:0px; padding-top:0px; border:.5px solid lightgray;  '> 6</td><tr>\n",
       "<tr><td style='padding-right:5px; padding-bottom:0px; padding-top:0px; width:124px'><font color='green'>        title</font> </td><td style='text-align:left; padding-bottom:0px; padding-top:0px; border:.5px solid lightgray;  '> elapsed time</td><tr>\n",
       "<tr><td style='padding-right:5px; padding-bottom:0px; padding-top:0px; width:124px'><font color='green'>  coordinates</font> </td><td style='text-align:left; padding-bottom:0px; padding-top:0px; border:.5px solid lightgray;  '> <div><font color='blue'>[       0      200      400      600      800     1000] h</font></div></td><tr>\n",
       "<tr><td style='padding-right:5px; padding-bottom:0px; padding-top:0px; width:124px'><strong>     DIMENSION `v`</strong></td><td style='text-align:left; padding-bottom:0px; padding-top:0px; padding-top:10px; '><hr/></td><tr>\n",
       "<tr><td style='padding-right:5px; padding-bottom:0px; padding-top:0px; width:124px'><font color='green'>         size</font> </td><td style='text-align:left; padding-bottom:0px; padding-top:0px; border:.5px solid lightgray;  '> 4</td><tr>\n",
       "<tr><td style='padding-right:5px; padding-bottom:0px; padding-top:0px; width:124px'><font color='green'>        title</font> </td><td style='text-align:left; padding-bottom:0px; padding-top:0px; border:.5px solid lightgray;  '> temperature</td><tr>\n",
       "<tr><td style='padding-right:5px; padding-bottom:0px; padding-top:0px; width:124px'><font color='green'>  coordinates</font> </td><td style='text-align:left; padding-bottom:0px; padding-top:0px; border:.5px solid lightgray;  '> <div><font color='blue'>[      20    21.67    23.33       25] K</font></div></td><tr>\n",
       "</table>"
      ],
      "text/plain": [
       "NDDataset: [float64] unitless (shape: (t:2, v:4, u:6))"
      ]
     },
     "execution_count": 55,
     "metadata": {},
     "output_type": "execute_result"
    }
   ],
   "source": [
    "d3D.set_coordset({\"u\": coord2, \"v\": coord1, \"t\": coord0})\n",
    "d3D"
   ]
  },
  {
   "cell_type": "markdown",
   "id": "f436931b",
   "metadata": {},
   "source": [
    "## Adding several coordinates to a single dimension\n",
    "We can add several coordinates to the same dimension"
   ]
  },
  {
   "cell_type": "code",
   "execution_count": 56,
   "id": "c9ebf48a",
   "metadata": {
    "execution": {
     "iopub.execute_input": "2025-01-17T01:20:35.603145Z",
     "iopub.status.busy": "2025-01-17T01:20:35.602818Z",
     "iopub.status.idle": "2025-01-17T01:20:35.606211Z",
     "shell.execute_reply": "2025-01-17T01:20:35.605654Z"
    }
   },
   "outputs": [],
   "source": [
    "coord1b = Coord([1, 2, 3, 4], units=\"millitesla\", title=\"magnetic field\")"
   ]
  },
  {
   "cell_type": "code",
   "execution_count": 57,
   "id": "eefef10a",
   "metadata": {
    "execution": {
     "iopub.execute_input": "2025-01-17T01:20:35.608489Z",
     "iopub.status.busy": "2025-01-17T01:20:35.608091Z",
     "iopub.status.idle": "2025-01-17T01:20:35.623655Z",
     "shell.execute_reply": "2025-01-17T01:20:35.623150Z"
    }
   },
   "outputs": [
    {
     "data": {
      "text/html": [
       "<table style='background:transparent'>\n",
       "<tr><td style='padding-right:5px; padding-bottom:0px; padding-top:0px; width:124px'><font color='green'>         name</font> </td><td style='text-align:left; padding-bottom:0px; padding-top:0px; border:.5px solid lightgray;  '> 3D_dataset</td><tr>\n",
       "<tr><td style='padding-right:5px; padding-bottom:0px; padding-top:0px; width:124px'><font color='green'>       author</font> </td><td style='text-align:left; padding-bottom:0px; padding-top:0px; border:.5px solid lightgray;  '> Someone</td><tr>\n",
       "<tr><td style='padding-right:5px; padding-bottom:0px; padding-top:0px; width:124px'><font color='green'>      created</font> </td><td style='text-align:left; padding-bottom:0px; padding-top:0px; border:.5px solid lightgray;  '> 2025-01-17 01:20:35+00:00</td><tr>\n",
       "<tr><td style='padding-right:5px; padding-bottom:0px; padding-top:0px; width:124px'><font color='green'>  description</font> </td><td style='text-align:left; padding-bottom:0px; padding-top:0px; border:.5px solid lightgray;  '> <div>a single statement creation example</div></td><tr>\n",
       "<tr><td style='padding-right:5px; padding-bottom:0px; padding-top:0px; width:124px'><font color='green'>      history</font> </td><td style='text-align:left; padding-bottom:0px; padding-top:0px; border:.5px solid lightgray;  '> <div>2025-01-17 01:20:35+00:00> Created from scratch</div></td><tr>\n",
       "<tr><td style='padding-right:5px; padding-bottom:0px; padding-top:0px; width:124px'><strong>          DATA </strong></td><td style='text-align:left; padding-bottom:0px; padding-top:0px; padding-top:10px; '><hr/></td><tr>\n",
       "<tr><td style='padding-right:5px; padding-bottom:0px; padding-top:0px; width:124px'><font color='green'>        title</font> </td><td style='text-align:left; padding-bottom:0px; padding-top:0px; border:.5px solid lightgray;  '> Energy</td><tr>\n",
       "<tr><td style='padding-right:5px; padding-bottom:0px; padding-top:0px; width:124px'><font color='green'>       values</font> </td><td style='text-align:left; padding-bottom:0px; padding-top:0px; border:.5px solid lightgray;  '> <div><font color='blue'>         [[[  0.7117   0.2063 ...  0.05432   0.1795]<br/>           [  0.2235   0.2738 ...   0.2891   0.4889]<br/>           [  0.8667   0.8823 ...   0.8557   0.7069]<br/>           [   0.525   0.8061 ...   0.1801   0.1454]]<br/><br/>          [[  0.9515   0.8091 ...  0.07042  0.06208]<br/>           [  0.8369   0.7351 ...   0.4393   0.6143]<br/>           [   0.289  0.07534 ...   0.4904   0.1735]<br/>           [ 0.03189   0.6254 ...   0.1632   0.7867]]]</font></div></td><tr>\n",
       "<tr><td style='padding-right:5px; padding-bottom:0px; padding-top:0px; width:124px'><font color='green'>        shape</font> </td><td style='text-align:left; padding-bottom:0px; padding-top:0px; border:.5px solid lightgray;  '> (t:2, v:4, u:6)</td><tr>\n",
       "<tr><td style='padding-right:5px; padding-bottom:0px; padding-top:0px; width:124px'><strong>     DIMENSION `t`</strong></td><td style='text-align:left; padding-bottom:0px; padding-top:0px; padding-top:10px; '><hr/></td><tr>\n",
       "<tr><td style='padding-right:5px; padding-bottom:0px; padding-top:0px; width:124px'><font color='green'>         size</font> </td><td style='text-align:left; padding-bottom:0px; padding-top:0px; border:.5px solid lightgray;  '> 2</td><tr>\n",
       "<tr><td style='padding-right:5px; padding-bottom:0px; padding-top:0px; width:124px'><font color='green'>        title</font> </td><td style='text-align:left; padding-bottom:0px; padding-top:0px; border:.5px solid lightgray;  '> distance</td><tr>\n",
       "<tr><td style='padding-right:5px; padding-bottom:0px; padding-top:0px; width:124px'><font color='green'>  coordinates</font> </td><td style='text-align:left; padding-bottom:0px; padding-top:0px; border:.5px solid lightgray;  '> <div><font color='blue'>[      10      100] m</font></div></td><tr>\n",
       "<tr><td style='padding-right:5px; padding-bottom:0px; padding-top:0px; width:124px'><strong>     DIMENSION `u`</strong></td><td style='text-align:left; padding-bottom:0px; padding-top:0px; padding-top:10px; '><hr/></td><tr>\n",
       "<tr><td style='padding-right:5px; padding-bottom:0px; padding-top:0px; width:124px'><font color='green'>         size</font> </td><td style='text-align:left; padding-bottom:0px; padding-top:0px; border:.5px solid lightgray;  '> 6</td><tr>\n",
       "<tr><td style='padding-right:5px; padding-bottom:0px; padding-top:0px; width:124px'><font color='green'>        title</font> </td><td style='text-align:left; padding-bottom:0px; padding-top:0px; border:.5px solid lightgray;  '> elapsed time</td><tr>\n",
       "<tr><td style='padding-right:5px; padding-bottom:0px; padding-top:0px; width:124px'><font color='green'>  coordinates</font> </td><td style='text-align:left; padding-bottom:0px; padding-top:0px; border:.5px solid lightgray;  '> <div><font color='blue'>[       0      200      400      600      800     1000] h</font></div></td><tr>\n",
       "<tr><td style='padding-right:5px; padding-bottom:0px; padding-top:0px; width:124px'><strong>     DIMENSION `v`</strong></td><td style='text-align:left; padding-bottom:0px; padding-top:0px; padding-top:10px; '><hr/></td><tr>\n",
       "<tr><td style='padding-right:5px; padding-bottom:0px; padding-top:0px; width:124px'><font color='green'>         size</font> </td><td style='text-align:left; padding-bottom:0px; padding-top:0px; border:.5px solid lightgray;  '> 4</td><tr>\n",
       "<tr><td style='padding-right:5px; padding-bottom:0px; padding-top:0px; width:124px'><strong>          (_1)</strong></td><td style='text-align:left; padding-bottom:0px; padding-top:0px; padding-top:10px; '><hr/></td><tr>\n",
       "<tr><td style='padding-right:5px; padding-bottom:0px; padding-top:0px; width:124px'><font color='green'>        title</font> </td><td style='text-align:left; padding-bottom:0px; padding-top:0px; border:.5px solid lightgray;  '> magnetic field</td><tr>\n",
       "<tr><td style='padding-right:5px; padding-bottom:0px; padding-top:0px; width:124px'><font color='green'>  coordinates</font> </td><td style='text-align:left; padding-bottom:0px; padding-top:0px; border:.5px solid lightgray;  '> <div><font color='blue'>[       1        2        3        4] mT</font></div></td><tr>\n",
       "<tr><td style='padding-right:5px; padding-bottom:0px; padding-top:0px; width:124px'><strong>          (_2)</strong></td><td style='text-align:left; padding-bottom:0px; padding-top:0px; padding-top:10px; '><hr/></td><tr>\n",
       "<tr><td style='padding-right:5px; padding-bottom:0px; padding-top:0px; width:124px'><font color='green'>        title</font> </td><td style='text-align:left; padding-bottom:0px; padding-top:0px; border:.5px solid lightgray;  '> temperature</td><tr>\n",
       "<tr><td style='padding-right:5px; padding-bottom:0px; padding-top:0px; width:124px'><font color='green'>  coordinates</font> </td><td style='text-align:left; padding-bottom:0px; padding-top:0px; border:.5px solid lightgray;  '> <div><font color='blue'>[      20    21.67    23.33       25] K</font></div></td><tr>\n",
       "</table>"
      ],
      "text/plain": [
       "NDDataset: [float64] unitless (shape: (t:2, v:4, u:6))"
      ]
     },
     "execution_count": 57,
     "metadata": {},
     "output_type": "execute_result"
    }
   ],
   "source": [
    "d3D.set_coordset(u=coord2, v=[coord1, coord1b], t=coord0)\n",
    "d3D"
   ]
  },
  {
   "cell_type": "markdown",
   "id": "abafa419",
   "metadata": {},
   "source": [
    "We can retrieve the various coordinates for a single dimension easily:"
   ]
  },
  {
   "cell_type": "code",
   "execution_count": 58,
   "id": "c72afc09",
   "metadata": {
    "execution": {
     "iopub.execute_input": "2025-01-17T01:20:35.625905Z",
     "iopub.status.busy": "2025-01-17T01:20:35.625489Z",
     "iopub.status.idle": "2025-01-17T01:20:35.629863Z",
     "shell.execute_reply": "2025-01-17T01:20:35.629315Z"
    }
   },
   "outputs": [
    {
     "data": {
      "text/html": [
       "<table style='background:transparent'>\n",
       "<tr><td style='padding-right:5px; padding-bottom:0px; padding-top:0px; width:124px'><font color='green'>         size</font> </td><td style='text-align:left; padding-bottom:0px; padding-top:0px; border:.5px solid lightgray;  '> 4</td><tr>\n",
       "<tr><td style='padding-right:5px; padding-bottom:0px; padding-top:0px; width:124px'><font color='green'>        title</font> </td><td style='text-align:left; padding-bottom:0px; padding-top:0px; border:.5px solid lightgray;  '> magnetic field</td><tr>\n",
       "<tr><td style='padding-right:5px; padding-bottom:0px; padding-top:0px; width:124px'><font color='green'>  coordinates</font> </td><td style='text-align:left; padding-bottom:0px; padding-top:0px; border:.5px solid lightgray;  '> <div><font color='blue'>[       1        2        3        4] mT</font></div></td><tr>\n",
       "</table>"
      ],
      "text/plain": [
       "Coord: [float64] mT (size: 4)"
      ]
     },
     "execution_count": 58,
     "metadata": {},
     "output_type": "execute_result"
    }
   ],
   "source": [
    "d3D.v_1"
   ]
  },
  {
   "cell_type": "markdown",
   "id": "16914322",
   "metadata": {},
   "source": [
    "## Summary of the coordinate setting syntax\n",
    "Some additional information about coordinate setting syntax"
   ]
  },
  {
   "cell_type": "markdown",
   "id": "3a081609",
   "metadata": {},
   "source": [
    "**A.** First syntax (probably the safer because the name of the dimension is\n",
    "specified, so this is less prone to\n",
    "errors!)"
   ]
  },
  {
   "cell_type": "code",
   "execution_count": 59,
   "id": "7b724437",
   "metadata": {
    "execution": {
     "iopub.execute_input": "2025-01-17T01:20:35.631871Z",
     "iopub.status.busy": "2025-01-17T01:20:35.631690Z",
     "iopub.status.idle": "2025-01-17T01:20:35.655653Z",
     "shell.execute_reply": "2025-01-17T01:20:35.655083Z"
    }
   },
   "outputs": [
    {
     "data": {
      "text/html": [
       "<table style='background:transparent'>\n",
       "<tr><td style='padding-right:5px; padding-bottom:0px; padding-top:0px; width:124px'><font color='green'>         name</font> </td><td style='text-align:left; padding-bottom:0px; padding-top:0px; border:.5px solid lightgray;  '> 3D_dataset</td><tr>\n",
       "<tr><td style='padding-right:5px; padding-bottom:0px; padding-top:0px; width:124px'><font color='green'>       author</font> </td><td style='text-align:left; padding-bottom:0px; padding-top:0px; border:.5px solid lightgray;  '> Someone</td><tr>\n",
       "<tr><td style='padding-right:5px; padding-bottom:0px; padding-top:0px; width:124px'><font color='green'>      created</font> </td><td style='text-align:left; padding-bottom:0px; padding-top:0px; border:.5px solid lightgray;  '> 2025-01-17 01:20:35+00:00</td><tr>\n",
       "<tr><td style='padding-right:5px; padding-bottom:0px; padding-top:0px; width:124px'><font color='green'>  description</font> </td><td style='text-align:left; padding-bottom:0px; padding-top:0px; border:.5px solid lightgray;  '> <div>a single statement creation example</div></td><tr>\n",
       "<tr><td style='padding-right:5px; padding-bottom:0px; padding-top:0px; width:124px'><font color='green'>      history</font> </td><td style='text-align:left; padding-bottom:0px; padding-top:0px; border:.5px solid lightgray;  '> <div>2025-01-17 01:20:35+00:00> Created from scratch</div></td><tr>\n",
       "<tr><td style='padding-right:5px; padding-bottom:0px; padding-top:0px; width:124px'><strong>          DATA </strong></td><td style='text-align:left; padding-bottom:0px; padding-top:0px; padding-top:10px; '><hr/></td><tr>\n",
       "<tr><td style='padding-right:5px; padding-bottom:0px; padding-top:0px; width:124px'><font color='green'>        title</font> </td><td style='text-align:left; padding-bottom:0px; padding-top:0px; border:.5px solid lightgray;  '> Energy</td><tr>\n",
       "<tr><td style='padding-right:5px; padding-bottom:0px; padding-top:0px; width:124px'><font color='green'>       values</font> </td><td style='text-align:left; padding-bottom:0px; padding-top:0px; border:.5px solid lightgray;  '> <div><font color='blue'>         [[[  0.7117   0.2063 ...  0.05432   0.1795]<br/>           [  0.2235   0.2738 ...   0.2891   0.4889]<br/>           [  0.8667   0.8823 ...   0.8557   0.7069]<br/>           [   0.525   0.8061 ...   0.1801   0.1454]]<br/><br/>          [[  0.9515   0.8091 ...  0.07042  0.06208]<br/>           [  0.8369   0.7351 ...   0.4393   0.6143]<br/>           [   0.289  0.07534 ...   0.4904   0.1735]<br/>           [ 0.03189   0.6254 ...   0.1632   0.7867]]]</font></div></td><tr>\n",
       "<tr><td style='padding-right:5px; padding-bottom:0px; padding-top:0px; width:124px'><font color='green'>        shape</font> </td><td style='text-align:left; padding-bottom:0px; padding-top:0px; border:.5px solid lightgray;  '> (t:2, v:4, u:6)</td><tr>\n",
       "<tr><td style='padding-right:5px; padding-bottom:0px; padding-top:0px; width:124px'><strong>     DIMENSION `t`</strong></td><td style='text-align:left; padding-bottom:0px; padding-top:0px; padding-top:10px; '><hr/></td><tr>\n",
       "<tr><td style='padding-right:5px; padding-bottom:0px; padding-top:0px; width:124px'><font color='green'>         size</font> </td><td style='text-align:left; padding-bottom:0px; padding-top:0px; border:.5px solid lightgray;  '> 2</td><tr>\n",
       "<tr><td style='padding-right:5px; padding-bottom:0px; padding-top:0px; width:124px'><font color='green'>        title</font> </td><td style='text-align:left; padding-bottom:0px; padding-top:0px; border:.5px solid lightgray;  '> distance</td><tr>\n",
       "<tr><td style='padding-right:5px; padding-bottom:0px; padding-top:0px; width:124px'><font color='green'>  coordinates</font> </td><td style='text-align:left; padding-bottom:0px; padding-top:0px; border:.5px solid lightgray;  '> <div><font color='blue'>[      10      100] m</font></div></td><tr>\n",
       "<tr><td style='padding-right:5px; padding-bottom:0px; padding-top:0px; width:124px'><strong>     DIMENSION `u`</strong></td><td style='text-align:left; padding-bottom:0px; padding-top:0px; padding-top:10px; '><hr/></td><tr>\n",
       "<tr><td style='padding-right:5px; padding-bottom:0px; padding-top:0px; width:124px'><font color='green'>         size</font> </td><td style='text-align:left; padding-bottom:0px; padding-top:0px; border:.5px solid lightgray;  '> 6</td><tr>\n",
       "<tr><td style='padding-right:5px; padding-bottom:0px; padding-top:0px; width:124px'><font color='green'>        title</font> </td><td style='text-align:left; padding-bottom:0px; padding-top:0px; border:.5px solid lightgray;  '> elapsed time</td><tr>\n",
       "<tr><td style='padding-right:5px; padding-bottom:0px; padding-top:0px; width:124px'><font color='green'>  coordinates</font> </td><td style='text-align:left; padding-bottom:0px; padding-top:0px; border:.5px solid lightgray;  '> <div><font color='blue'>[       0      200      400      600      800     1000] h</font></div></td><tr>\n",
       "<tr><td style='padding-right:5px; padding-bottom:0px; padding-top:0px; width:124px'><strong>     DIMENSION `v`</strong></td><td style='text-align:left; padding-bottom:0px; padding-top:0px; padding-top:10px; '><hr/></td><tr>\n",
       "<tr><td style='padding-right:5px; padding-bottom:0px; padding-top:0px; width:124px'><font color='green'>         size</font> </td><td style='text-align:left; padding-bottom:0px; padding-top:0px; border:.5px solid lightgray;  '> 4</td><tr>\n",
       "<tr><td style='padding-right:5px; padding-bottom:0px; padding-top:0px; width:124px'><strong>          (_1)</strong></td><td style='text-align:left; padding-bottom:0px; padding-top:0px; padding-top:10px; '><hr/></td><tr>\n",
       "<tr><td style='padding-right:5px; padding-bottom:0px; padding-top:0px; width:124px'><font color='green'>        title</font> </td><td style='text-align:left; padding-bottom:0px; padding-top:0px; border:.5px solid lightgray;  '> magnetic field</td><tr>\n",
       "<tr><td style='padding-right:5px; padding-bottom:0px; padding-top:0px; width:124px'><font color='green'>  coordinates</font> </td><td style='text-align:left; padding-bottom:0px; padding-top:0px; border:.5px solid lightgray;  '> <div><font color='blue'>[       1        2        3        4] mT</font></div></td><tr>\n",
       "<tr><td style='padding-right:5px; padding-bottom:0px; padding-top:0px; width:124px'><strong>          (_2)</strong></td><td style='text-align:left; padding-bottom:0px; padding-top:0px; padding-top:10px; '><hr/></td><tr>\n",
       "<tr><td style='padding-right:5px; padding-bottom:0px; padding-top:0px; width:124px'><font color='green'>        title</font> </td><td style='text-align:left; padding-bottom:0px; padding-top:0px; border:.5px solid lightgray;  '> temperature</td><tr>\n",
       "<tr><td style='padding-right:5px; padding-bottom:0px; padding-top:0px; width:124px'><font color='green'>  coordinates</font> </td><td style='text-align:left; padding-bottom:0px; padding-top:0px; border:.5px solid lightgray;  '> <div><font color='blue'>[      20    21.67    23.33       25] K</font></div></td><tr>\n",
       "</table>"
      ],
      "text/plain": [
       "NDDataset: [float64] unitless (shape: (t:2, v:4, u:6))"
      ]
     },
     "execution_count": 59,
     "metadata": {},
     "output_type": "execute_result"
    }
   ],
   "source": [
    "d3D.set_coordset(u=coord2, v=[coord1, coord1b], t=coord0)\n",
    "# or equivalent\n",
    "d3D.set_coordset(u=coord2, v=CoordSet(coord1, coord1b), t=coord0)\n",
    "d3D"
   ]
  },
  {
   "cell_type": "markdown",
   "id": "50c1dcf9",
   "metadata": {},
   "source": [
    "**B.** Second syntax assuming the coordinates are given in the order of the\n",
    "dimensions.\n",
    "\n",
    "Remember that we can check this order using the `dims` attribute of a NDDataset"
   ]
  },
  {
   "cell_type": "code",
   "execution_count": 60,
   "id": "1a043105",
   "metadata": {
    "execution": {
     "iopub.execute_input": "2025-01-17T01:20:35.657896Z",
     "iopub.status.busy": "2025-01-17T01:20:35.657471Z",
     "iopub.status.idle": "2025-01-17T01:20:35.661135Z",
     "shell.execute_reply": "2025-01-17T01:20:35.660600Z"
    }
   },
   "outputs": [
    {
     "data": {
      "text/plain": [
       "['t', 'v', 'u']"
      ]
     },
     "execution_count": 60,
     "metadata": {},
     "output_type": "execute_result"
    }
   ],
   "source": [
    "d3D.dims"
   ]
  },
  {
   "cell_type": "code",
   "execution_count": 61,
   "id": "95c102d8",
   "metadata": {
    "execution": {
     "iopub.execute_input": "2025-01-17T01:20:35.663080Z",
     "iopub.status.busy": "2025-01-17T01:20:35.662914Z",
     "iopub.status.idle": "2025-01-17T01:20:35.689729Z",
     "shell.execute_reply": "2025-01-17T01:20:35.689227Z"
    }
   },
   "outputs": [
    {
     "data": {
      "text/html": [
       "<table style='background:transparent'>\n",
       "<tr><td style='padding-right:5px; padding-bottom:0px; padding-top:0px; width:124px'><font color='green'>         name</font> </td><td style='text-align:left; padding-bottom:0px; padding-top:0px; border:.5px solid lightgray;  '> 3D_dataset</td><tr>\n",
       "<tr><td style='padding-right:5px; padding-bottom:0px; padding-top:0px; width:124px'><font color='green'>       author</font> </td><td style='text-align:left; padding-bottom:0px; padding-top:0px; border:.5px solid lightgray;  '> Someone</td><tr>\n",
       "<tr><td style='padding-right:5px; padding-bottom:0px; padding-top:0px; width:124px'><font color='green'>      created</font> </td><td style='text-align:left; padding-bottom:0px; padding-top:0px; border:.5px solid lightgray;  '> 2025-01-17 01:20:35+00:00</td><tr>\n",
       "<tr><td style='padding-right:5px; padding-bottom:0px; padding-top:0px; width:124px'><font color='green'>  description</font> </td><td style='text-align:left; padding-bottom:0px; padding-top:0px; border:.5px solid lightgray;  '> <div>a single statement creation example</div></td><tr>\n",
       "<tr><td style='padding-right:5px; padding-bottom:0px; padding-top:0px; width:124px'><font color='green'>      history</font> </td><td style='text-align:left; padding-bottom:0px; padding-top:0px; border:.5px solid lightgray;  '> <div>2025-01-17 01:20:35+00:00> Created from scratch</div></td><tr>\n",
       "<tr><td style='padding-right:5px; padding-bottom:0px; padding-top:0px; width:124px'><strong>          DATA </strong></td><td style='text-align:left; padding-bottom:0px; padding-top:0px; padding-top:10px; '><hr/></td><tr>\n",
       "<tr><td style='padding-right:5px; padding-bottom:0px; padding-top:0px; width:124px'><font color='green'>        title</font> </td><td style='text-align:left; padding-bottom:0px; padding-top:0px; border:.5px solid lightgray;  '> Energy</td><tr>\n",
       "<tr><td style='padding-right:5px; padding-bottom:0px; padding-top:0px; width:124px'><font color='green'>       values</font> </td><td style='text-align:left; padding-bottom:0px; padding-top:0px; border:.5px solid lightgray;  '> <div><font color='blue'>         [[[  0.7117   0.2063 ...  0.05432   0.1795]<br/>           [  0.2235   0.2738 ...   0.2891   0.4889]<br/>           [  0.8667   0.8823 ...   0.8557   0.7069]<br/>           [   0.525   0.8061 ...   0.1801   0.1454]]<br/><br/>          [[  0.9515   0.8091 ...  0.07042  0.06208]<br/>           [  0.8369   0.7351 ...   0.4393   0.6143]<br/>           [   0.289  0.07534 ...   0.4904   0.1735]<br/>           [ 0.03189   0.6254 ...   0.1632   0.7867]]]</font></div></td><tr>\n",
       "<tr><td style='padding-right:5px; padding-bottom:0px; padding-top:0px; width:124px'><font color='green'>        shape</font> </td><td style='text-align:left; padding-bottom:0px; padding-top:0px; border:.5px solid lightgray;  '> (t:2, v:4, u:6)</td><tr>\n",
       "<tr><td style='padding-right:5px; padding-bottom:0px; padding-top:0px; width:124px'><strong>     DIMENSION `t`</strong></td><td style='text-align:left; padding-bottom:0px; padding-top:0px; padding-top:10px; '><hr/></td><tr>\n",
       "<tr><td style='padding-right:5px; padding-bottom:0px; padding-top:0px; width:124px'><font color='green'>         size</font> </td><td style='text-align:left; padding-bottom:0px; padding-top:0px; border:.5px solid lightgray;  '> 2</td><tr>\n",
       "<tr><td style='padding-right:5px; padding-bottom:0px; padding-top:0px; width:124px'><font color='green'>        title</font> </td><td style='text-align:left; padding-bottom:0px; padding-top:0px; border:.5px solid lightgray;  '> distance</td><tr>\n",
       "<tr><td style='padding-right:5px; padding-bottom:0px; padding-top:0px; width:124px'><font color='green'>  coordinates</font> </td><td style='text-align:left; padding-bottom:0px; padding-top:0px; border:.5px solid lightgray;  '> <div><font color='blue'>[      10      100] m</font></div></td><tr>\n",
       "<tr><td style='padding-right:5px; padding-bottom:0px; padding-top:0px; width:124px'><strong>     DIMENSION `u`</strong></td><td style='text-align:left; padding-bottom:0px; padding-top:0px; padding-top:10px; '><hr/></td><tr>\n",
       "<tr><td style='padding-right:5px; padding-bottom:0px; padding-top:0px; width:124px'><font color='green'>         size</font> </td><td style='text-align:left; padding-bottom:0px; padding-top:0px; border:.5px solid lightgray;  '> 6</td><tr>\n",
       "<tr><td style='padding-right:5px; padding-bottom:0px; padding-top:0px; width:124px'><font color='green'>        title</font> </td><td style='text-align:left; padding-bottom:0px; padding-top:0px; border:.5px solid lightgray;  '> elapsed time</td><tr>\n",
       "<tr><td style='padding-right:5px; padding-bottom:0px; padding-top:0px; width:124px'><font color='green'>  coordinates</font> </td><td style='text-align:left; padding-bottom:0px; padding-top:0px; border:.5px solid lightgray;  '> <div><font color='blue'>[       0      200      400      600      800     1000] h</font></div></td><tr>\n",
       "<tr><td style='padding-right:5px; padding-bottom:0px; padding-top:0px; width:124px'><strong>     DIMENSION `v`</strong></td><td style='text-align:left; padding-bottom:0px; padding-top:0px; padding-top:10px; '><hr/></td><tr>\n",
       "<tr><td style='padding-right:5px; padding-bottom:0px; padding-top:0px; width:124px'><font color='green'>         size</font> </td><td style='text-align:left; padding-bottom:0px; padding-top:0px; border:.5px solid lightgray;  '> 4</td><tr>\n",
       "<tr><td style='padding-right:5px; padding-bottom:0px; padding-top:0px; width:124px'><strong>          (_1)</strong></td><td style='text-align:left; padding-bottom:0px; padding-top:0px; padding-top:10px; '><hr/></td><tr>\n",
       "<tr><td style='padding-right:5px; padding-bottom:0px; padding-top:0px; width:124px'><font color='green'>        title</font> </td><td style='text-align:left; padding-bottom:0px; padding-top:0px; border:.5px solid lightgray;  '> magnetic field</td><tr>\n",
       "<tr><td style='padding-right:5px; padding-bottom:0px; padding-top:0px; width:124px'><font color='green'>  coordinates</font> </td><td style='text-align:left; padding-bottom:0px; padding-top:0px; border:.5px solid lightgray;  '> <div><font color='blue'>[       1        2        3        4] mT</font></div></td><tr>\n",
       "<tr><td style='padding-right:5px; padding-bottom:0px; padding-top:0px; width:124px'><strong>          (_2)</strong></td><td style='text-align:left; padding-bottom:0px; padding-top:0px; padding-top:10px; '><hr/></td><tr>\n",
       "<tr><td style='padding-right:5px; padding-bottom:0px; padding-top:0px; width:124px'><font color='green'>        title</font> </td><td style='text-align:left; padding-bottom:0px; padding-top:0px; border:.5px solid lightgray;  '> temperature</td><tr>\n",
       "<tr><td style='padding-right:5px; padding-bottom:0px; padding-top:0px; width:124px'><font color='green'>  coordinates</font> </td><td style='text-align:left; padding-bottom:0px; padding-top:0px; border:.5px solid lightgray;  '> <div><font color='blue'>[      20    21.67    23.33       25] K</font></div></td><tr>\n",
       "</table>"
      ],
      "text/plain": [
       "NDDataset: [float64] unitless (shape: (t:2, v:4, u:6))"
      ]
     },
     "execution_count": 61,
     "metadata": {},
     "output_type": "execute_result"
    }
   ],
   "source": [
    "d3D.set_coordset((coord0, [coord1, coord1b], coord2))\n",
    "# or equivalent\n",
    "d3D.set_coordset(coord0, CoordSet(coord1, coord1b), coord2)\n",
    "d3D"
   ]
  },
  {
   "cell_type": "markdown",
   "id": "b0a722d4",
   "metadata": {},
   "source": [
    "**C.** Third syntax (from a dictionary)"
   ]
  },
  {
   "cell_type": "code",
   "execution_count": 62,
   "id": "389d4d77",
   "metadata": {
    "execution": {
     "iopub.execute_input": "2025-01-17T01:20:35.691704Z",
     "iopub.status.busy": "2025-01-17T01:20:35.691529Z",
     "iopub.status.idle": "2025-01-17T01:20:35.703843Z",
     "shell.execute_reply": "2025-01-17T01:20:35.703249Z"
    }
   },
   "outputs": [
    {
     "data": {
      "text/html": [
       "<table style='background:transparent'>\n",
       "<tr><td style='padding-right:5px; padding-bottom:0px; padding-top:0px; width:124px'><font color='green'>         name</font> </td><td style='text-align:left; padding-bottom:0px; padding-top:0px; border:.5px solid lightgray;  '> 3D_dataset</td><tr>\n",
       "<tr><td style='padding-right:5px; padding-bottom:0px; padding-top:0px; width:124px'><font color='green'>       author</font> </td><td style='text-align:left; padding-bottom:0px; padding-top:0px; border:.5px solid lightgray;  '> Someone</td><tr>\n",
       "<tr><td style='padding-right:5px; padding-bottom:0px; padding-top:0px; width:124px'><font color='green'>      created</font> </td><td style='text-align:left; padding-bottom:0px; padding-top:0px; border:.5px solid lightgray;  '> 2025-01-17 01:20:35+00:00</td><tr>\n",
       "<tr><td style='padding-right:5px; padding-bottom:0px; padding-top:0px; width:124px'><font color='green'>  description</font> </td><td style='text-align:left; padding-bottom:0px; padding-top:0px; border:.5px solid lightgray;  '> <div>a single statement creation example</div></td><tr>\n",
       "<tr><td style='padding-right:5px; padding-bottom:0px; padding-top:0px; width:124px'><font color='green'>      history</font> </td><td style='text-align:left; padding-bottom:0px; padding-top:0px; border:.5px solid lightgray;  '> <div>2025-01-17 01:20:35+00:00> Created from scratch</div></td><tr>\n",
       "<tr><td style='padding-right:5px; padding-bottom:0px; padding-top:0px; width:124px'><strong>          DATA </strong></td><td style='text-align:left; padding-bottom:0px; padding-top:0px; padding-top:10px; '><hr/></td><tr>\n",
       "<tr><td style='padding-right:5px; padding-bottom:0px; padding-top:0px; width:124px'><font color='green'>        title</font> </td><td style='text-align:left; padding-bottom:0px; padding-top:0px; border:.5px solid lightgray;  '> Energy</td><tr>\n",
       "<tr><td style='padding-right:5px; padding-bottom:0px; padding-top:0px; width:124px'><font color='green'>       values</font> </td><td style='text-align:left; padding-bottom:0px; padding-top:0px; border:.5px solid lightgray;  '> <div><font color='blue'>         [[[  0.7117   0.2063 ...  0.05432   0.1795]<br/>           [  0.2235   0.2738 ...   0.2891   0.4889]<br/>           [  0.8667   0.8823 ...   0.8557   0.7069]<br/>           [   0.525   0.8061 ...   0.1801   0.1454]]<br/><br/>          [[  0.9515   0.8091 ...  0.07042  0.06208]<br/>           [  0.8369   0.7351 ...   0.4393   0.6143]<br/>           [   0.289  0.07534 ...   0.4904   0.1735]<br/>           [ 0.03189   0.6254 ...   0.1632   0.7867]]]</font></div></td><tr>\n",
       "<tr><td style='padding-right:5px; padding-bottom:0px; padding-top:0px; width:124px'><font color='green'>        shape</font> </td><td style='text-align:left; padding-bottom:0px; padding-top:0px; border:.5px solid lightgray;  '> (t:2, v:4, u:6)</td><tr>\n",
       "<tr><td style='padding-right:5px; padding-bottom:0px; padding-top:0px; width:124px'><strong>     DIMENSION `t`</strong></td><td style='text-align:left; padding-bottom:0px; padding-top:0px; padding-top:10px; '><hr/></td><tr>\n",
       "<tr><td style='padding-right:5px; padding-bottom:0px; padding-top:0px; width:124px'><font color='green'>         size</font> </td><td style='text-align:left; padding-bottom:0px; padding-top:0px; border:.5px solid lightgray;  '> 2</td><tr>\n",
       "<tr><td style='padding-right:5px; padding-bottom:0px; padding-top:0px; width:124px'><font color='green'>        title</font> </td><td style='text-align:left; padding-bottom:0px; padding-top:0px; border:.5px solid lightgray;  '> distance</td><tr>\n",
       "<tr><td style='padding-right:5px; padding-bottom:0px; padding-top:0px; width:124px'><font color='green'>  coordinates</font> </td><td style='text-align:left; padding-bottom:0px; padding-top:0px; border:.5px solid lightgray;  '> <div><font color='blue'>[      10      100] m</font></div></td><tr>\n",
       "<tr><td style='padding-right:5px; padding-bottom:0px; padding-top:0px; width:124px'><strong>     DIMENSION `u`</strong></td><td style='text-align:left; padding-bottom:0px; padding-top:0px; padding-top:10px; '><hr/></td><tr>\n",
       "<tr><td style='padding-right:5px; padding-bottom:0px; padding-top:0px; width:124px'><font color='green'>         size</font> </td><td style='text-align:left; padding-bottom:0px; padding-top:0px; border:.5px solid lightgray;  '> 6</td><tr>\n",
       "<tr><td style='padding-right:5px; padding-bottom:0px; padding-top:0px; width:124px'><font color='green'>        title</font> </td><td style='text-align:left; padding-bottom:0px; padding-top:0px; border:.5px solid lightgray;  '> elapsed time</td><tr>\n",
       "<tr><td style='padding-right:5px; padding-bottom:0px; padding-top:0px; width:124px'><font color='green'>  coordinates</font> </td><td style='text-align:left; padding-bottom:0px; padding-top:0px; border:.5px solid lightgray;  '> <div><font color='blue'>[       0      200      400      600      800     1000] h</font></div></td><tr>\n",
       "<tr><td style='padding-right:5px; padding-bottom:0px; padding-top:0px; width:124px'><strong>     DIMENSION `v`</strong></td><td style='text-align:left; padding-bottom:0px; padding-top:0px; padding-top:10px; '><hr/></td><tr>\n",
       "<tr><td style='padding-right:5px; padding-bottom:0px; padding-top:0px; width:124px'><font color='green'>         size</font> </td><td style='text-align:left; padding-bottom:0px; padding-top:0px; border:.5px solid lightgray;  '> 4</td><tr>\n",
       "<tr><td style='padding-right:5px; padding-bottom:0px; padding-top:0px; width:124px'><strong>          (_1)</strong></td><td style='text-align:left; padding-bottom:0px; padding-top:0px; padding-top:10px; '><hr/></td><tr>\n",
       "<tr><td style='padding-right:5px; padding-bottom:0px; padding-top:0px; width:124px'><font color='green'>        title</font> </td><td style='text-align:left; padding-bottom:0px; padding-top:0px; border:.5px solid lightgray;  '> magnetic field</td><tr>\n",
       "<tr><td style='padding-right:5px; padding-bottom:0px; padding-top:0px; width:124px'><font color='green'>  coordinates</font> </td><td style='text-align:left; padding-bottom:0px; padding-top:0px; border:.5px solid lightgray;  '> <div><font color='blue'>[       1        2        3        4] mT</font></div></td><tr>\n",
       "<tr><td style='padding-right:5px; padding-bottom:0px; padding-top:0px; width:124px'><strong>          (_2)</strong></td><td style='text-align:left; padding-bottom:0px; padding-top:0px; padding-top:10px; '><hr/></td><tr>\n",
       "<tr><td style='padding-right:5px; padding-bottom:0px; padding-top:0px; width:124px'><font color='green'>        title</font> </td><td style='text-align:left; padding-bottom:0px; padding-top:0px; border:.5px solid lightgray;  '> temperature</td><tr>\n",
       "<tr><td style='padding-right:5px; padding-bottom:0px; padding-top:0px; width:124px'><font color='green'>  coordinates</font> </td><td style='text-align:left; padding-bottom:0px; padding-top:0px; border:.5px solid lightgray;  '> <div><font color='blue'>[      20    21.67    23.33       25] K</font></div></td><tr>\n",
       "</table>"
      ],
      "text/plain": [
       "NDDataset: [float64] unitless (shape: (t:2, v:4, u:6))"
      ]
     },
     "execution_count": 62,
     "metadata": {},
     "output_type": "execute_result"
    }
   ],
   "source": [
    "d3D.set_coordset({\"t\": coord0, \"u\": coord2, \"v\": [coord1, coord1b]})\n",
    "d3D"
   ]
  },
  {
   "cell_type": "markdown",
   "id": "fb2bf7a0",
   "metadata": {},
   "source": [
    "**D.** It is also possible to use directly the `CoordSet` property"
   ]
  },
  {
   "cell_type": "code",
   "execution_count": 63,
   "id": "8966e7c9",
   "metadata": {
    "execution": {
     "iopub.execute_input": "2025-01-17T01:20:35.705906Z",
     "iopub.status.busy": "2025-01-17T01:20:35.705614Z",
     "iopub.status.idle": "2025-01-17T01:20:35.721288Z",
     "shell.execute_reply": "2025-01-17T01:20:35.720817Z"
    }
   },
   "outputs": [
    {
     "data": {
      "text/html": [
       "<table style='background:transparent'>\n",
       "<tr><td style='padding-right:5px; padding-bottom:0px; padding-top:0px; width:124px'><font color='green'>         name</font> </td><td style='text-align:left; padding-bottom:0px; padding-top:0px; border:.5px solid lightgray;  '> 3D_dataset</td><tr>\n",
       "<tr><td style='padding-right:5px; padding-bottom:0px; padding-top:0px; width:124px'><font color='green'>       author</font> </td><td style='text-align:left; padding-bottom:0px; padding-top:0px; border:.5px solid lightgray;  '> Someone</td><tr>\n",
       "<tr><td style='padding-right:5px; padding-bottom:0px; padding-top:0px; width:124px'><font color='green'>      created</font> </td><td style='text-align:left; padding-bottom:0px; padding-top:0px; border:.5px solid lightgray;  '> 2025-01-17 01:20:35+00:00</td><tr>\n",
       "<tr><td style='padding-right:5px; padding-bottom:0px; padding-top:0px; width:124px'><font color='green'>  description</font> </td><td style='text-align:left; padding-bottom:0px; padding-top:0px; border:.5px solid lightgray;  '> <div>a single statement creation example</div></td><tr>\n",
       "<tr><td style='padding-right:5px; padding-bottom:0px; padding-top:0px; width:124px'><font color='green'>      history</font> </td><td style='text-align:left; padding-bottom:0px; padding-top:0px; border:.5px solid lightgray;  '> <div>2025-01-17 01:20:35+00:00> Created from scratch</div></td><tr>\n",
       "<tr><td style='padding-right:5px; padding-bottom:0px; padding-top:0px; width:124px'><strong>          DATA </strong></td><td style='text-align:left; padding-bottom:0px; padding-top:0px; padding-top:10px; '><hr/></td><tr>\n",
       "<tr><td style='padding-right:5px; padding-bottom:0px; padding-top:0px; width:124px'><font color='green'>        title</font> </td><td style='text-align:left; padding-bottom:0px; padding-top:0px; border:.5px solid lightgray;  '> Energy</td><tr>\n",
       "<tr><td style='padding-right:5px; padding-bottom:0px; padding-top:0px; width:124px'><font color='green'>       values</font> </td><td style='text-align:left; padding-bottom:0px; padding-top:0px; border:.5px solid lightgray;  '> <div><font color='blue'>         [[[  0.7117   0.2063 ...  0.05432   0.1795]<br/>           [  0.2235   0.2738 ...   0.2891   0.4889]<br/>           [  0.8667   0.8823 ...   0.8557   0.7069]<br/>           [   0.525   0.8061 ...   0.1801   0.1454]]<br/><br/>          [[  0.9515   0.8091 ...  0.07042  0.06208]<br/>           [  0.8369   0.7351 ...   0.4393   0.6143]<br/>           [   0.289  0.07534 ...   0.4904   0.1735]<br/>           [ 0.03189   0.6254 ...   0.1632   0.7867]]]</font></div></td><tr>\n",
       "<tr><td style='padding-right:5px; padding-bottom:0px; padding-top:0px; width:124px'><font color='green'>        shape</font> </td><td style='text-align:left; padding-bottom:0px; padding-top:0px; border:.5px solid lightgray;  '> (t:2, v:4, u:6)</td><tr>\n",
       "<tr><td style='padding-right:5px; padding-bottom:0px; padding-top:0px; width:124px'><strong>     DIMENSION `t`</strong></td><td style='text-align:left; padding-bottom:0px; padding-top:0px; padding-top:10px; '><hr/></td><tr>\n",
       "<tr><td style='padding-right:5px; padding-bottom:0px; padding-top:0px; width:124px'><font color='green'>         size</font> </td><td style='text-align:left; padding-bottom:0px; padding-top:0px; border:.5px solid lightgray;  '> 2</td><tr>\n",
       "<tr><td style='padding-right:5px; padding-bottom:0px; padding-top:0px; width:124px'><font color='green'>        title</font> </td><td style='text-align:left; padding-bottom:0px; padding-top:0px; border:.5px solid lightgray;  '> distance</td><tr>\n",
       "<tr><td style='padding-right:5px; padding-bottom:0px; padding-top:0px; width:124px'><font color='green'>  coordinates</font> </td><td style='text-align:left; padding-bottom:0px; padding-top:0px; border:.5px solid lightgray;  '> <div><font color='blue'>[      10      100] m</font></div></td><tr>\n",
       "<tr><td style='padding-right:5px; padding-bottom:0px; padding-top:0px; width:124px'><strong>     DIMENSION `u`</strong></td><td style='text-align:left; padding-bottom:0px; padding-top:0px; padding-top:10px; '><hr/></td><tr>\n",
       "<tr><td style='padding-right:5px; padding-bottom:0px; padding-top:0px; width:124px'><font color='green'>         size</font> </td><td style='text-align:left; padding-bottom:0px; padding-top:0px; border:.5px solid lightgray;  '> 6</td><tr>\n",
       "<tr><td style='padding-right:5px; padding-bottom:0px; padding-top:0px; width:124px'><font color='green'>        title</font> </td><td style='text-align:left; padding-bottom:0px; padding-top:0px; border:.5px solid lightgray;  '> elapsed time</td><tr>\n",
       "<tr><td style='padding-right:5px; padding-bottom:0px; padding-top:0px; width:124px'><font color='green'>  coordinates</font> </td><td style='text-align:left; padding-bottom:0px; padding-top:0px; border:.5px solid lightgray;  '> <div><font color='blue'>[       0      200      400      600      800     1000] h</font></div></td><tr>\n",
       "<tr><td style='padding-right:5px; padding-bottom:0px; padding-top:0px; width:124px'><strong>     DIMENSION `v`</strong></td><td style='text-align:left; padding-bottom:0px; padding-top:0px; padding-top:10px; '><hr/></td><tr>\n",
       "<tr><td style='padding-right:5px; padding-bottom:0px; padding-top:0px; width:124px'><font color='green'>         size</font> </td><td style='text-align:left; padding-bottom:0px; padding-top:0px; border:.5px solid lightgray;  '> 4</td><tr>\n",
       "<tr><td style='padding-right:5px; padding-bottom:0px; padding-top:0px; width:124px'><strong>          (_1)</strong></td><td style='text-align:left; padding-bottom:0px; padding-top:0px; padding-top:10px; '><hr/></td><tr>\n",
       "<tr><td style='padding-right:5px; padding-bottom:0px; padding-top:0px; width:124px'><font color='green'>        title</font> </td><td style='text-align:left; padding-bottom:0px; padding-top:0px; border:.5px solid lightgray;  '> temperature</td><tr>\n",
       "<tr><td style='padding-right:5px; padding-bottom:0px; padding-top:0px; width:124px'><font color='green'>  coordinates</font> </td><td style='text-align:left; padding-bottom:0px; padding-top:0px; border:.5px solid lightgray;  '> <div><font color='blue'>[      20    21.67    23.33       25] K</font></div></td><tr>\n",
       "<tr><td style='padding-right:5px; padding-bottom:0px; padding-top:0px; width:124px'><strong>          (_2)</strong></td><td style='text-align:left; padding-bottom:0px; padding-top:0px; padding-top:10px; '><hr/></td><tr>\n",
       "<tr><td style='padding-right:5px; padding-bottom:0px; padding-top:0px; width:124px'><font color='green'>        title</font> </td><td style='text-align:left; padding-bottom:0px; padding-top:0px; border:.5px solid lightgray;  '> magnetic field</td><tr>\n",
       "<tr><td style='padding-right:5px; padding-bottom:0px; padding-top:0px; width:124px'><font color='green'>  coordinates</font> </td><td style='text-align:left; padding-bottom:0px; padding-top:0px; border:.5px solid lightgray;  '> <div><font color='blue'>[       1        2        3        4] mT</font></div></td><tr>\n",
       "</table>"
      ],
      "text/plain": [
       "NDDataset: [float64] unitless (shape: (t:2, v:4, u:6))"
      ]
     },
     "execution_count": 63,
     "metadata": {},
     "output_type": "execute_result"
    }
   ],
   "source": [
    "d3D.coordset = coord0, [coord1, coord1b], coord2\n",
    "d3D"
   ]
  },
  {
   "cell_type": "code",
   "execution_count": 64,
   "id": "975bc074",
   "metadata": {
    "execution": {
     "iopub.execute_input": "2025-01-17T01:20:35.723366Z",
     "iopub.status.busy": "2025-01-17T01:20:35.723016Z",
     "iopub.status.idle": "2025-01-17T01:20:35.735877Z",
     "shell.execute_reply": "2025-01-17T01:20:35.735331Z"
    }
   },
   "outputs": [
    {
     "data": {
      "text/html": [
       "<table style='background:transparent'>\n",
       "<tr><td style='padding-right:5px; padding-bottom:0px; padding-top:0px; width:124px'><font color='green'>         name</font> </td><td style='text-align:left; padding-bottom:0px; padding-top:0px; border:.5px solid lightgray;  '> 3D_dataset</td><tr>\n",
       "<tr><td style='padding-right:5px; padding-bottom:0px; padding-top:0px; width:124px'><font color='green'>       author</font> </td><td style='text-align:left; padding-bottom:0px; padding-top:0px; border:.5px solid lightgray;  '> Someone</td><tr>\n",
       "<tr><td style='padding-right:5px; padding-bottom:0px; padding-top:0px; width:124px'><font color='green'>      created</font> </td><td style='text-align:left; padding-bottom:0px; padding-top:0px; border:.5px solid lightgray;  '> 2025-01-17 01:20:35+00:00</td><tr>\n",
       "<tr><td style='padding-right:5px; padding-bottom:0px; padding-top:0px; width:124px'><font color='green'>  description</font> </td><td style='text-align:left; padding-bottom:0px; padding-top:0px; border:.5px solid lightgray;  '> <div>a single statement creation example</div></td><tr>\n",
       "<tr><td style='padding-right:5px; padding-bottom:0px; padding-top:0px; width:124px'><font color='green'>      history</font> </td><td style='text-align:left; padding-bottom:0px; padding-top:0px; border:.5px solid lightgray;  '> <div>2025-01-17 01:20:35+00:00> Created from scratch</div></td><tr>\n",
       "<tr><td style='padding-right:5px; padding-bottom:0px; padding-top:0px; width:124px'><strong>          DATA </strong></td><td style='text-align:left; padding-bottom:0px; padding-top:0px; padding-top:10px; '><hr/></td><tr>\n",
       "<tr><td style='padding-right:5px; padding-bottom:0px; padding-top:0px; width:124px'><font color='green'>        title</font> </td><td style='text-align:left; padding-bottom:0px; padding-top:0px; border:.5px solid lightgray;  '> Energy</td><tr>\n",
       "<tr><td style='padding-right:5px; padding-bottom:0px; padding-top:0px; width:124px'><font color='green'>       values</font> </td><td style='text-align:left; padding-bottom:0px; padding-top:0px; border:.5px solid lightgray;  '> <div><font color='blue'>         [[[  0.7117   0.2063 ...  0.05432   0.1795]<br/>           [  0.2235   0.2738 ...   0.2891   0.4889]<br/>           [  0.8667   0.8823 ...   0.8557   0.7069]<br/>           [   0.525   0.8061 ...   0.1801   0.1454]]<br/><br/>          [[  0.9515   0.8091 ...  0.07042  0.06208]<br/>           [  0.8369   0.7351 ...   0.4393   0.6143]<br/>           [   0.289  0.07534 ...   0.4904   0.1735]<br/>           [ 0.03189   0.6254 ...   0.1632   0.7867]]]</font></div></td><tr>\n",
       "<tr><td style='padding-right:5px; padding-bottom:0px; padding-top:0px; width:124px'><font color='green'>        shape</font> </td><td style='text-align:left; padding-bottom:0px; padding-top:0px; border:.5px solid lightgray;  '> (t:2, v:4, u:6)</td><tr>\n",
       "<tr><td style='padding-right:5px; padding-bottom:0px; padding-top:0px; width:124px'><strong>     DIMENSION `t`</strong></td><td style='text-align:left; padding-bottom:0px; padding-top:0px; padding-top:10px; '><hr/></td><tr>\n",
       "<tr><td style='padding-right:5px; padding-bottom:0px; padding-top:0px; width:124px'><font color='green'>         size</font> </td><td style='text-align:left; padding-bottom:0px; padding-top:0px; border:.5px solid lightgray;  '> 2</td><tr>\n",
       "<tr><td style='padding-right:5px; padding-bottom:0px; padding-top:0px; width:124px'><font color='green'>        title</font> </td><td style='text-align:left; padding-bottom:0px; padding-top:0px; border:.5px solid lightgray;  '> distance</td><tr>\n",
       "<tr><td style='padding-right:5px; padding-bottom:0px; padding-top:0px; width:124px'><font color='green'>  coordinates</font> </td><td style='text-align:left; padding-bottom:0px; padding-top:0px; border:.5px solid lightgray;  '> <div><font color='blue'>[      10      100] m</font></div></td><tr>\n",
       "<tr><td style='padding-right:5px; padding-bottom:0px; padding-top:0px; width:124px'><strong>     DIMENSION `u`</strong></td><td style='text-align:left; padding-bottom:0px; padding-top:0px; padding-top:10px; '><hr/></td><tr>\n",
       "<tr><td style='padding-right:5px; padding-bottom:0px; padding-top:0px; width:124px'><font color='green'>         size</font> </td><td style='text-align:left; padding-bottom:0px; padding-top:0px; border:.5px solid lightgray;  '> 6</td><tr>\n",
       "<tr><td style='padding-right:5px; padding-bottom:0px; padding-top:0px; width:124px'><font color='green'>        title</font> </td><td style='text-align:left; padding-bottom:0px; padding-top:0px; border:.5px solid lightgray;  '> elapsed time</td><tr>\n",
       "<tr><td style='padding-right:5px; padding-bottom:0px; padding-top:0px; width:124px'><font color='green'>  coordinates</font> </td><td style='text-align:left; padding-bottom:0px; padding-top:0px; border:.5px solid lightgray;  '> <div><font color='blue'>[       0      200      400      600      800     1000] h</font></div></td><tr>\n",
       "<tr><td style='padding-right:5px; padding-bottom:0px; padding-top:0px; width:124px'><strong>     DIMENSION `v`</strong></td><td style='text-align:left; padding-bottom:0px; padding-top:0px; padding-top:10px; '><hr/></td><tr>\n",
       "<tr><td style='padding-right:5px; padding-bottom:0px; padding-top:0px; width:124px'><font color='green'>         size</font> </td><td style='text-align:left; padding-bottom:0px; padding-top:0px; border:.5px solid lightgray;  '> 4</td><tr>\n",
       "<tr><td style='padding-right:5px; padding-bottom:0px; padding-top:0px; width:124px'><strong>          (_1)</strong></td><td style='text-align:left; padding-bottom:0px; padding-top:0px; padding-top:10px; '><hr/></td><tr>\n",
       "<tr><td style='padding-right:5px; padding-bottom:0px; padding-top:0px; width:124px'><font color='green'>        title</font> </td><td style='text-align:left; padding-bottom:0px; padding-top:0px; border:.5px solid lightgray;  '> magnetic field</td><tr>\n",
       "<tr><td style='padding-right:5px; padding-bottom:0px; padding-top:0px; width:124px'><font color='green'>  coordinates</font> </td><td style='text-align:left; padding-bottom:0px; padding-top:0px; border:.5px solid lightgray;  '> <div><font color='blue'>[       1        2        3        4] mT</font></div></td><tr>\n",
       "<tr><td style='padding-right:5px; padding-bottom:0px; padding-top:0px; width:124px'><strong>          (_2)</strong></td><td style='text-align:left; padding-bottom:0px; padding-top:0px; padding-top:10px; '><hr/></td><tr>\n",
       "<tr><td style='padding-right:5px; padding-bottom:0px; padding-top:0px; width:124px'><font color='green'>        title</font> </td><td style='text-align:left; padding-bottom:0px; padding-top:0px; border:.5px solid lightgray;  '> temperature</td><tr>\n",
       "<tr><td style='padding-right:5px; padding-bottom:0px; padding-top:0px; width:124px'><font color='green'>  coordinates</font> </td><td style='text-align:left; padding-bottom:0px; padding-top:0px; border:.5px solid lightgray;  '> <div><font color='blue'>[      20    21.67    23.33       25] K</font></div></td><tr>\n",
       "</table>"
      ],
      "text/plain": [
       "NDDataset: [float64] unitless (shape: (t:2, v:4, u:6))"
      ]
     },
     "execution_count": 64,
     "metadata": {},
     "output_type": "execute_result"
    }
   ],
   "source": [
    "d3D.coordset = {\"t\": coord0, \"u\": coord2, \"v\": [coord1, coord1b]}\n",
    "d3D"
   ]
  },
  {
   "cell_type": "code",
   "execution_count": 65,
   "id": "352a73b6",
   "metadata": {
    "execution": {
     "iopub.execute_input": "2025-01-17T01:20:35.737868Z",
     "iopub.status.busy": "2025-01-17T01:20:35.737542Z",
     "iopub.status.idle": "2025-01-17T01:20:35.754142Z",
     "shell.execute_reply": "2025-01-17T01:20:35.753671Z"
    }
   },
   "outputs": [
    {
     "data": {
      "text/html": [
       "<table style='background:transparent'>\n",
       "<tr><td style='padding-right:5px; padding-bottom:0px; padding-top:0px; width:124px'><font color='green'>         name</font> </td><td style='text-align:left; padding-bottom:0px; padding-top:0px; border:.5px solid lightgray;  '> 3D_dataset</td><tr>\n",
       "<tr><td style='padding-right:5px; padding-bottom:0px; padding-top:0px; width:124px'><font color='green'>       author</font> </td><td style='text-align:left; padding-bottom:0px; padding-top:0px; border:.5px solid lightgray;  '> Someone</td><tr>\n",
       "<tr><td style='padding-right:5px; padding-bottom:0px; padding-top:0px; width:124px'><font color='green'>      created</font> </td><td style='text-align:left; padding-bottom:0px; padding-top:0px; border:.5px solid lightgray;  '> 2025-01-17 01:20:35+00:00</td><tr>\n",
       "<tr><td style='padding-right:5px; padding-bottom:0px; padding-top:0px; width:124px'><font color='green'>  description</font> </td><td style='text-align:left; padding-bottom:0px; padding-top:0px; border:.5px solid lightgray;  '> <div>a single statement creation example</div></td><tr>\n",
       "<tr><td style='padding-right:5px; padding-bottom:0px; padding-top:0px; width:124px'><font color='green'>      history</font> </td><td style='text-align:left; padding-bottom:0px; padding-top:0px; border:.5px solid lightgray;  '> <div>2025-01-17 01:20:35+00:00> Created from scratch</div></td><tr>\n",
       "<tr><td style='padding-right:5px; padding-bottom:0px; padding-top:0px; width:124px'><strong>          DATA </strong></td><td style='text-align:left; padding-bottom:0px; padding-top:0px; padding-top:10px; '><hr/></td><tr>\n",
       "<tr><td style='padding-right:5px; padding-bottom:0px; padding-top:0px; width:124px'><font color='green'>        title</font> </td><td style='text-align:left; padding-bottom:0px; padding-top:0px; border:.5px solid lightgray;  '> Energy</td><tr>\n",
       "<tr><td style='padding-right:5px; padding-bottom:0px; padding-top:0px; width:124px'><font color='green'>       values</font> </td><td style='text-align:left; padding-bottom:0px; padding-top:0px; border:.5px solid lightgray;  '> <div><font color='blue'>         [[[  0.7117   0.2063 ...  0.05432   0.1795]<br/>           [  0.2235   0.2738 ...   0.2891   0.4889]<br/>           [  0.8667   0.8823 ...   0.8557   0.7069]<br/>           [   0.525   0.8061 ...   0.1801   0.1454]]<br/><br/>          [[  0.9515   0.8091 ...  0.07042  0.06208]<br/>           [  0.8369   0.7351 ...   0.4393   0.6143]<br/>           [   0.289  0.07534 ...   0.4904   0.1735]<br/>           [ 0.03189   0.6254 ...   0.1632   0.7867]]]</font></div></td><tr>\n",
       "<tr><td style='padding-right:5px; padding-bottom:0px; padding-top:0px; width:124px'><font color='green'>        shape</font> </td><td style='text-align:left; padding-bottom:0px; padding-top:0px; border:.5px solid lightgray;  '> (t:2, v:4, u:6)</td><tr>\n",
       "<tr><td style='padding-right:5px; padding-bottom:0px; padding-top:0px; width:124px'><strong>     DIMENSION `t`</strong></td><td style='text-align:left; padding-bottom:0px; padding-top:0px; padding-top:10px; '><hr/></td><tr>\n",
       "<tr><td style='padding-right:5px; padding-bottom:0px; padding-top:0px; width:124px'><font color='green'>         size</font> </td><td style='text-align:left; padding-bottom:0px; padding-top:0px; border:.5px solid lightgray;  '> 2</td><tr>\n",
       "<tr><td style='padding-right:5px; padding-bottom:0px; padding-top:0px; width:124px'><font color='green'>        title</font> </td><td style='text-align:left; padding-bottom:0px; padding-top:0px; border:.5px solid lightgray;  '> distance</td><tr>\n",
       "<tr><td style='padding-right:5px; padding-bottom:0px; padding-top:0px; width:124px'><font color='green'>  coordinates</font> </td><td style='text-align:left; padding-bottom:0px; padding-top:0px; border:.5px solid lightgray;  '> <div><font color='blue'>[      10      100] m</font></div></td><tr>\n",
       "<tr><td style='padding-right:5px; padding-bottom:0px; padding-top:0px; width:124px'><strong>     DIMENSION `u`</strong></td><td style='text-align:left; padding-bottom:0px; padding-top:0px; padding-top:10px; '><hr/></td><tr>\n",
       "<tr><td style='padding-right:5px; padding-bottom:0px; padding-top:0px; width:124px'><font color='green'>         size</font> </td><td style='text-align:left; padding-bottom:0px; padding-top:0px; border:.5px solid lightgray;  '> 6</td><tr>\n",
       "<tr><td style='padding-right:5px; padding-bottom:0px; padding-top:0px; width:124px'><font color='green'>        title</font> </td><td style='text-align:left; padding-bottom:0px; padding-top:0px; border:.5px solid lightgray;  '> elapsed time</td><tr>\n",
       "<tr><td style='padding-right:5px; padding-bottom:0px; padding-top:0px; width:124px'><font color='green'>  coordinates</font> </td><td style='text-align:left; padding-bottom:0px; padding-top:0px; border:.5px solid lightgray;  '> <div><font color='blue'>[       0      200      400      600      800     1000] h</font></div></td><tr>\n",
       "<tr><td style='padding-right:5px; padding-bottom:0px; padding-top:0px; width:124px'><strong>     DIMENSION `v`</strong></td><td style='text-align:left; padding-bottom:0px; padding-top:0px; padding-top:10px; '><hr/></td><tr>\n",
       "<tr><td style='padding-right:5px; padding-bottom:0px; padding-top:0px; width:124px'><font color='green'>         size</font> </td><td style='text-align:left; padding-bottom:0px; padding-top:0px; border:.5px solid lightgray;  '> 4</td><tr>\n",
       "<tr><td style='padding-right:5px; padding-bottom:0px; padding-top:0px; width:124px'><strong>          (_1)</strong></td><td style='text-align:left; padding-bottom:0px; padding-top:0px; padding-top:10px; '><hr/></td><tr>\n",
       "<tr><td style='padding-right:5px; padding-bottom:0px; padding-top:0px; width:124px'><font color='green'>        title</font> </td><td style='text-align:left; padding-bottom:0px; padding-top:0px; border:.5px solid lightgray;  '> magnetic field</td><tr>\n",
       "<tr><td style='padding-right:5px; padding-bottom:0px; padding-top:0px; width:124px'><font color='green'>  coordinates</font> </td><td style='text-align:left; padding-bottom:0px; padding-top:0px; border:.5px solid lightgray;  '> <div><font color='blue'>[       1        2        3        4] mT</font></div></td><tr>\n",
       "<tr><td style='padding-right:5px; padding-bottom:0px; padding-top:0px; width:124px'><strong>          (_2)</strong></td><td style='text-align:left; padding-bottom:0px; padding-top:0px; padding-top:10px; '><hr/></td><tr>\n",
       "<tr><td style='padding-right:5px; padding-bottom:0px; padding-top:0px; width:124px'><font color='green'>        title</font> </td><td style='text-align:left; padding-bottom:0px; padding-top:0px; border:.5px solid lightgray;  '> temperature</td><tr>\n",
       "<tr><td style='padding-right:5px; padding-bottom:0px; padding-top:0px; width:124px'><font color='green'>  coordinates</font> </td><td style='text-align:left; padding-bottom:0px; padding-top:0px; border:.5px solid lightgray;  '> <div><font color='blue'>[      20    21.67    23.33       25] K</font></div></td><tr>\n",
       "</table>"
      ],
      "text/plain": [
       "NDDataset: [float64] unitless (shape: (t:2, v:4, u:6))"
      ]
     },
     "execution_count": 65,
     "metadata": {},
     "output_type": "execute_result"
    }
   ],
   "source": [
    "d3D.coordset = CoordSet(t=coord0, u=coord2, v=[coord1, coord1b])\n",
    "d3D"
   ]
  },
  {
   "cell_type": "markdown",
   "id": "e0035667",
   "metadata": {},
   "source": [
    "<div class='alert alert-warning'>\n",
    "<b>WARNING</b>\n",
    "\n",
    "Do not use list for setting multiples coordinates! use tuples\n",
    "</div>"
   ]
  },
  {
   "cell_type": "markdown",
   "id": "43ef9e07",
   "metadata": {},
   "source": [
    "This raise an error (list have another signification: it's used to set a \"same dim\"\n",
    "CoordSet see example A or B)"
   ]
  },
  {
   "cell_type": "code",
   "execution_count": 66,
   "id": "95acd357",
   "metadata": {
    "execution": {
     "iopub.execute_input": "2025-01-17T01:20:35.756411Z",
     "iopub.status.busy": "2025-01-17T01:20:35.755942Z",
     "iopub.status.idle": "2025-01-17T01:20:35.766895Z",
     "shell.execute_reply": "2025-01-17T01:20:35.766353Z"
    }
   },
   "outputs": [
    {
     "name": "stderr",
     "output_type": "stream",
     "text": [
      " ERROR | ValueError: Coordinates must be of the same size for a dimension with multiple coordinates\n"
     ]
    }
   ],
   "source": [
    "try:\n",
    "    d3D.coordset = [coord0, coord1, coord2]\n",
    "except ValueError:\n",
    "    scp.error_(\n",
    "        ValueError,\n",
    "        \"Coordinates must be of the same size for a dimension with multiple coordinates\",\n",
    "    )"
   ]
  },
  {
   "cell_type": "markdown",
   "id": "12989329",
   "metadata": {},
   "source": [
    "This works : it uses a tuple `()` , not a list `[]`"
   ]
  },
  {
   "cell_type": "code",
   "execution_count": 67,
   "id": "8c733e67",
   "metadata": {
    "execution": {
     "iopub.execute_input": "2025-01-17T01:20:35.769168Z",
     "iopub.status.busy": "2025-01-17T01:20:35.768839Z",
     "iopub.status.idle": "2025-01-17T01:20:35.778503Z",
     "shell.execute_reply": "2025-01-17T01:20:35.777925Z"
    }
   },
   "outputs": [
    {
     "data": {
      "text/html": [
       "<table style='background:transparent'>\n",
       "<tr><td style='padding-right:5px; padding-bottom:0px; padding-top:0px; width:124px'><font color='green'>         name</font> </td><td style='text-align:left; padding-bottom:0px; padding-top:0px; border:.5px solid lightgray;  '> 3D_dataset</td><tr>\n",
       "<tr><td style='padding-right:5px; padding-bottom:0px; padding-top:0px; width:124px'><font color='green'>       author</font> </td><td style='text-align:left; padding-bottom:0px; padding-top:0px; border:.5px solid lightgray;  '> Someone</td><tr>\n",
       "<tr><td style='padding-right:5px; padding-bottom:0px; padding-top:0px; width:124px'><font color='green'>      created</font> </td><td style='text-align:left; padding-bottom:0px; padding-top:0px; border:.5px solid lightgray;  '> 2025-01-17 01:20:35+00:00</td><tr>\n",
       "<tr><td style='padding-right:5px; padding-bottom:0px; padding-top:0px; width:124px'><font color='green'>  description</font> </td><td style='text-align:left; padding-bottom:0px; padding-top:0px; border:.5px solid lightgray;  '> <div>a single statement creation example</div></td><tr>\n",
       "<tr><td style='padding-right:5px; padding-bottom:0px; padding-top:0px; width:124px'><font color='green'>      history</font> </td><td style='text-align:left; padding-bottom:0px; padding-top:0px; border:.5px solid lightgray;  '> <div>2025-01-17 01:20:35+00:00> Created from scratch</div></td><tr>\n",
       "<tr><td style='padding-right:5px; padding-bottom:0px; padding-top:0px; width:124px'><strong>          DATA </strong></td><td style='text-align:left; padding-bottom:0px; padding-top:0px; padding-top:10px; '><hr/></td><tr>\n",
       "<tr><td style='padding-right:5px; padding-bottom:0px; padding-top:0px; width:124px'><font color='green'>        title</font> </td><td style='text-align:left; padding-bottom:0px; padding-top:0px; border:.5px solid lightgray;  '> Energy</td><tr>\n",
       "<tr><td style='padding-right:5px; padding-bottom:0px; padding-top:0px; width:124px'><font color='green'>       values</font> </td><td style='text-align:left; padding-bottom:0px; padding-top:0px; border:.5px solid lightgray;  '> <div><font color='blue'>         [[[  0.7117   0.2063 ...  0.05432   0.1795]<br/>           [  0.2235   0.2738 ...   0.2891   0.4889]<br/>           [  0.8667   0.8823 ...   0.8557   0.7069]<br/>           [   0.525   0.8061 ...   0.1801   0.1454]]<br/><br/>          [[  0.9515   0.8091 ...  0.07042  0.06208]<br/>           [  0.8369   0.7351 ...   0.4393   0.6143]<br/>           [   0.289  0.07534 ...   0.4904   0.1735]<br/>           [ 0.03189   0.6254 ...   0.1632   0.7867]]]</font></div></td><tr>\n",
       "<tr><td style='padding-right:5px; padding-bottom:0px; padding-top:0px; width:124px'><font color='green'>        shape</font> </td><td style='text-align:left; padding-bottom:0px; padding-top:0px; border:.5px solid lightgray;  '> (t:2, v:4, u:6)</td><tr>\n",
       "<tr><td style='padding-right:5px; padding-bottom:0px; padding-top:0px; width:124px'><strong>     DIMENSION `t`</strong></td><td style='text-align:left; padding-bottom:0px; padding-top:0px; padding-top:10px; '><hr/></td><tr>\n",
       "<tr><td style='padding-right:5px; padding-bottom:0px; padding-top:0px; width:124px'><font color='green'>         size</font> </td><td style='text-align:left; padding-bottom:0px; padding-top:0px; border:.5px solid lightgray;  '> 2</td><tr>\n",
       "<tr><td style='padding-right:5px; padding-bottom:0px; padding-top:0px; width:124px'><font color='green'>        title</font> </td><td style='text-align:left; padding-bottom:0px; padding-top:0px; border:.5px solid lightgray;  '> distance</td><tr>\n",
       "<tr><td style='padding-right:5px; padding-bottom:0px; padding-top:0px; width:124px'><font color='green'>  coordinates</font> </td><td style='text-align:left; padding-bottom:0px; padding-top:0px; border:.5px solid lightgray;  '> <div><font color='blue'>[      10      100] m</font></div></td><tr>\n",
       "<tr><td style='padding-right:5px; padding-bottom:0px; padding-top:0px; width:124px'><strong>     DIMENSION `u`</strong></td><td style='text-align:left; padding-bottom:0px; padding-top:0px; padding-top:10px; '><hr/></td><tr>\n",
       "<tr><td style='padding-right:5px; padding-bottom:0px; padding-top:0px; width:124px'><font color='green'>         size</font> </td><td style='text-align:left; padding-bottom:0px; padding-top:0px; border:.5px solid lightgray;  '> 6</td><tr>\n",
       "<tr><td style='padding-right:5px; padding-bottom:0px; padding-top:0px; width:124px'><font color='green'>        title</font> </td><td style='text-align:left; padding-bottom:0px; padding-top:0px; border:.5px solid lightgray;  '> elapsed time</td><tr>\n",
       "<tr><td style='padding-right:5px; padding-bottom:0px; padding-top:0px; width:124px'><font color='green'>  coordinates</font> </td><td style='text-align:left; padding-bottom:0px; padding-top:0px; border:.5px solid lightgray;  '> <div><font color='blue'>[       0      200      400      600      800     1000] h</font></div></td><tr>\n",
       "<tr><td style='padding-right:5px; padding-bottom:0px; padding-top:0px; width:124px'><strong>     DIMENSION `v`</strong></td><td style='text-align:left; padding-bottom:0px; padding-top:0px; padding-top:10px; '><hr/></td><tr>\n",
       "<tr><td style='padding-right:5px; padding-bottom:0px; padding-top:0px; width:124px'><font color='green'>         size</font> </td><td style='text-align:left; padding-bottom:0px; padding-top:0px; border:.5px solid lightgray;  '> 4</td><tr>\n",
       "<tr><td style='padding-right:5px; padding-bottom:0px; padding-top:0px; width:124px'><font color='green'>        title</font> </td><td style='text-align:left; padding-bottom:0px; padding-top:0px; border:.5px solid lightgray;  '> temperature</td><tr>\n",
       "<tr><td style='padding-right:5px; padding-bottom:0px; padding-top:0px; width:124px'><font color='green'>  coordinates</font> </td><td style='text-align:left; padding-bottom:0px; padding-top:0px; border:.5px solid lightgray;  '> <div><font color='blue'>[      20    21.67    23.33       25] K</font></div></td><tr>\n",
       "</table>"
      ],
      "text/plain": [
       "NDDataset: [float64] unitless (shape: (t:2, v:4, u:6))"
      ]
     },
     "execution_count": 67,
     "metadata": {},
     "output_type": "execute_result"
    }
   ],
   "source": [
    "d3D.coordset = (\n",
    "    coord0,\n",
    "    coord1,\n",
    "    coord2,\n",
    ")  # equivalent to d3D.coordset = coord0, coord1, coord2\n",
    "d3D"
   ]
  },
  {
   "cell_type": "markdown",
   "id": "b48a5cd7",
   "metadata": {},
   "source": [
    "**E.** Setting the coordinates individually"
   ]
  },
  {
   "cell_type": "markdown",
   "id": "9aa6e5d6",
   "metadata": {},
   "source": [
    "Either a single coordinate"
   ]
  },
  {
   "cell_type": "code",
   "execution_count": 68,
   "id": "ec33bac1",
   "metadata": {
    "execution": {
     "iopub.execute_input": "2025-01-17T01:20:35.780568Z",
     "iopub.status.busy": "2025-01-17T01:20:35.780214Z",
     "iopub.status.idle": "2025-01-17T01:20:35.787294Z",
     "shell.execute_reply": "2025-01-17T01:20:35.786717Z"
    },
    "lines_to_next_cell": 0
   },
   "outputs": [
    {
     "data": {
      "text/html": [
       "<table style='background:transparent'>\n",
       "<tr><td style='padding-right:5px; padding-bottom:0px; padding-top:0px; width:124px'><font color='green'>         name</font> </td><td style='text-align:left; padding-bottom:0px; padding-top:0px; border:.5px solid lightgray;  '> 3D_dataset</td><tr>\n",
       "<tr><td style='padding-right:5px; padding-bottom:0px; padding-top:0px; width:124px'><font color='green'>       author</font> </td><td style='text-align:left; padding-bottom:0px; padding-top:0px; border:.5px solid lightgray;  '> Someone</td><tr>\n",
       "<tr><td style='padding-right:5px; padding-bottom:0px; padding-top:0px; width:124px'><font color='green'>      created</font> </td><td style='text-align:left; padding-bottom:0px; padding-top:0px; border:.5px solid lightgray;  '> 2025-01-17 01:20:35+00:00</td><tr>\n",
       "<tr><td style='padding-right:5px; padding-bottom:0px; padding-top:0px; width:124px'><font color='green'>  description</font> </td><td style='text-align:left; padding-bottom:0px; padding-top:0px; border:.5px solid lightgray;  '> <div>a single statement creation example</div></td><tr>\n",
       "<tr><td style='padding-right:5px; padding-bottom:0px; padding-top:0px; width:124px'><font color='green'>      history</font> </td><td style='text-align:left; padding-bottom:0px; padding-top:0px; border:.5px solid lightgray;  '> <div>2025-01-17 01:20:35+00:00> Created from scratch</div></td><tr>\n",
       "<tr><td style='padding-right:5px; padding-bottom:0px; padding-top:0px; width:124px'><strong>          DATA </strong></td><td style='text-align:left; padding-bottom:0px; padding-top:0px; padding-top:10px; '><hr/></td><tr>\n",
       "<tr><td style='padding-right:5px; padding-bottom:0px; padding-top:0px; width:124px'><font color='green'>        title</font> </td><td style='text-align:left; padding-bottom:0px; padding-top:0px; border:.5px solid lightgray;  '> Energy</td><tr>\n",
       "<tr><td style='padding-right:5px; padding-bottom:0px; padding-top:0px; width:124px'><font color='green'>       values</font> </td><td style='text-align:left; padding-bottom:0px; padding-top:0px; border:.5px solid lightgray;  '> <div><font color='blue'>         [[[  0.7117   0.2063 ...  0.05432   0.1795]<br/>           [  0.2235   0.2738 ...   0.2891   0.4889]<br/>           [  0.8667   0.8823 ...   0.8557   0.7069]<br/>           [   0.525   0.8061 ...   0.1801   0.1454]]<br/><br/>          [[  0.9515   0.8091 ...  0.07042  0.06208]<br/>           [  0.8369   0.7351 ...   0.4393   0.6143]<br/>           [   0.289  0.07534 ...   0.4904   0.1735]<br/>           [ 0.03189   0.6254 ...   0.1632   0.7867]]]</font></div></td><tr>\n",
       "<tr><td style='padding-right:5px; padding-bottom:0px; padding-top:0px; width:124px'><font color='green'>        shape</font> </td><td style='text-align:left; padding-bottom:0px; padding-top:0px; border:.5px solid lightgray;  '> (t:2, v:4, u:6)</td><tr>\n",
       "<tr><td style='padding-right:5px; padding-bottom:0px; padding-top:0px; width:124px'><strong>     DIMENSION `t`</strong></td><td style='text-align:left; padding-bottom:0px; padding-top:0px; padding-top:10px; '><hr/></td><tr>\n",
       "<tr><td style='padding-right:5px; padding-bottom:0px; padding-top:0px; width:124px'><font color='green'>         size</font> </td><td style='text-align:left; padding-bottom:0px; padding-top:0px; border:.5px solid lightgray;  '> 2</td><tr>\n",
       "<tr><td style='padding-right:5px; padding-bottom:0px; padding-top:0px; width:124px'><font color='green'>        title</font> </td><td style='text-align:left; padding-bottom:0px; padding-top:0px; border:.5px solid lightgray;  '> distance</td><tr>\n",
       "<tr><td style='padding-right:5px; padding-bottom:0px; padding-top:0px; width:124px'><font color='green'>  coordinates</font> </td><td style='text-align:left; padding-bottom:0px; padding-top:0px; border:.5px solid lightgray;  '> <div><font color='blue'>[      10      100] m</font></div></td><tr>\n",
       "<tr><td style='padding-right:5px; padding-bottom:0px; padding-top:0px; width:124px'><strong>     DIMENSION `u`</strong></td><td style='text-align:left; padding-bottom:0px; padding-top:0px; padding-top:10px; '><hr/></td><tr>\n",
       "<tr><td style='padding-right:5px; padding-bottom:0px; padding-top:0px; width:124px'><font color='green'>         size</font> </td><td style='text-align:left; padding-bottom:0px; padding-top:0px; border:.5px solid lightgray;  '> 6</td><tr>\n",
       "<tr><td style='padding-right:5px; padding-bottom:0px; padding-top:0px; width:124px'><font color='green'>        title</font> </td><td style='text-align:left; padding-bottom:0px; padding-top:0px; border:.5px solid lightgray;  '> elapsed time</td><tr>\n",
       "<tr><td style='padding-right:5px; padding-bottom:0px; padding-top:0px; width:124px'><font color='green'>  coordinates</font> </td><td style='text-align:left; padding-bottom:0px; padding-top:0px; border:.5px solid lightgray;  '> <div><font color='blue'>[       0      200      400      600      800     1000] h</font></div></td><tr>\n",
       "<tr><td style='padding-right:5px; padding-bottom:0px; padding-top:0px; width:124px'><strong>     DIMENSION `v`</strong></td><td style='text-align:left; padding-bottom:0px; padding-top:0px; padding-top:10px; '><hr/></td><tr>\n",
       "<tr><td style='padding-right:5px; padding-bottom:0px; padding-top:0px; width:124px'><font color='green'>         size</font> </td><td style='text-align:left; padding-bottom:0px; padding-top:0px; border:.5px solid lightgray;  '> 4</td><tr>\n",
       "<tr><td style='padding-right:5px; padding-bottom:0px; padding-top:0px; width:124px'><font color='green'>        title</font> </td><td style='text-align:left; padding-bottom:0px; padding-top:0px; border:.5px solid lightgray;  '> temperature</td><tr>\n",
       "<tr><td style='padding-right:5px; padding-bottom:0px; padding-top:0px; width:124px'><font color='green'>  coordinates</font> </td><td style='text-align:left; padding-bottom:0px; padding-top:0px; border:.5px solid lightgray;  '> <div><font color='blue'>[      20    21.67    23.33       25] K</font></div></td><tr>\n",
       "</table>"
      ],
      "text/plain": [
       "NDDataset: [float64] unitless (shape: (t:2, v:4, u:6))"
      ]
     },
     "execution_count": 68,
     "metadata": {},
     "output_type": "execute_result"
    }
   ],
   "source": [
    "d3D.u = coord2\n",
    "d3D"
   ]
  },
  {
   "cell_type": "markdown",
   "id": "34e3330a",
   "metadata": {},
   "source": [
    "or multiple coordinates for a single dimension"
   ]
  },
  {
   "cell_type": "code",
   "execution_count": 69,
   "id": "fb9dcf5d",
   "metadata": {
    "execution": {
     "iopub.execute_input": "2025-01-17T01:20:35.789167Z",
     "iopub.status.busy": "2025-01-17T01:20:35.788998Z",
     "iopub.status.idle": "2025-01-17T01:20:35.804831Z",
     "shell.execute_reply": "2025-01-17T01:20:35.804365Z"
    },
    "lines_to_next_cell": 0
   },
   "outputs": [
    {
     "data": {
      "text/html": [
       "<table style='background:transparent'>\n",
       "<tr><td style='padding-right:5px; padding-bottom:0px; padding-top:0px; width:124px'><font color='green'>         name</font> </td><td style='text-align:left; padding-bottom:0px; padding-top:0px; border:.5px solid lightgray;  '> 3D_dataset</td><tr>\n",
       "<tr><td style='padding-right:5px; padding-bottom:0px; padding-top:0px; width:124px'><font color='green'>       author</font> </td><td style='text-align:left; padding-bottom:0px; padding-top:0px; border:.5px solid lightgray;  '> Someone</td><tr>\n",
       "<tr><td style='padding-right:5px; padding-bottom:0px; padding-top:0px; width:124px'><font color='green'>      created</font> </td><td style='text-align:left; padding-bottom:0px; padding-top:0px; border:.5px solid lightgray;  '> 2025-01-17 01:20:35+00:00</td><tr>\n",
       "<tr><td style='padding-right:5px; padding-bottom:0px; padding-top:0px; width:124px'><font color='green'>  description</font> </td><td style='text-align:left; padding-bottom:0px; padding-top:0px; border:.5px solid lightgray;  '> <div>a single statement creation example</div></td><tr>\n",
       "<tr><td style='padding-right:5px; padding-bottom:0px; padding-top:0px; width:124px'><font color='green'>      history</font> </td><td style='text-align:left; padding-bottom:0px; padding-top:0px; border:.5px solid lightgray;  '> <div>2025-01-17 01:20:35+00:00> Created from scratch</div></td><tr>\n",
       "<tr><td style='padding-right:5px; padding-bottom:0px; padding-top:0px; width:124px'><strong>          DATA </strong></td><td style='text-align:left; padding-bottom:0px; padding-top:0px; padding-top:10px; '><hr/></td><tr>\n",
       "<tr><td style='padding-right:5px; padding-bottom:0px; padding-top:0px; width:124px'><font color='green'>        title</font> </td><td style='text-align:left; padding-bottom:0px; padding-top:0px; border:.5px solid lightgray;  '> Energy</td><tr>\n",
       "<tr><td style='padding-right:5px; padding-bottom:0px; padding-top:0px; width:124px'><font color='green'>       values</font> </td><td style='text-align:left; padding-bottom:0px; padding-top:0px; border:.5px solid lightgray;  '> <div><font color='blue'>         [[[  0.7117   0.2063 ...  0.05432   0.1795]<br/>           [  0.2235   0.2738 ...   0.2891   0.4889]<br/>           [  0.8667   0.8823 ...   0.8557   0.7069]<br/>           [   0.525   0.8061 ...   0.1801   0.1454]]<br/><br/>          [[  0.9515   0.8091 ...  0.07042  0.06208]<br/>           [  0.8369   0.7351 ...   0.4393   0.6143]<br/>           [   0.289  0.07534 ...   0.4904   0.1735]<br/>           [ 0.03189   0.6254 ...   0.1632   0.7867]]]</font></div></td><tr>\n",
       "<tr><td style='padding-right:5px; padding-bottom:0px; padding-top:0px; width:124px'><font color='green'>        shape</font> </td><td style='text-align:left; padding-bottom:0px; padding-top:0px; border:.5px solid lightgray;  '> (t:2, v:4, u:6)</td><tr>\n",
       "<tr><td style='padding-right:5px; padding-bottom:0px; padding-top:0px; width:124px'><strong>     DIMENSION `t`</strong></td><td style='text-align:left; padding-bottom:0px; padding-top:0px; padding-top:10px; '><hr/></td><tr>\n",
       "<tr><td style='padding-right:5px; padding-bottom:0px; padding-top:0px; width:124px'><font color='green'>         size</font> </td><td style='text-align:left; padding-bottom:0px; padding-top:0px; border:.5px solid lightgray;  '> 2</td><tr>\n",
       "<tr><td style='padding-right:5px; padding-bottom:0px; padding-top:0px; width:124px'><font color='green'>        title</font> </td><td style='text-align:left; padding-bottom:0px; padding-top:0px; border:.5px solid lightgray;  '> distance</td><tr>\n",
       "<tr><td style='padding-right:5px; padding-bottom:0px; padding-top:0px; width:124px'><font color='green'>  coordinates</font> </td><td style='text-align:left; padding-bottom:0px; padding-top:0px; border:.5px solid lightgray;  '> <div><font color='blue'>[      10      100] m</font></div></td><tr>\n",
       "<tr><td style='padding-right:5px; padding-bottom:0px; padding-top:0px; width:124px'><strong>     DIMENSION `u`</strong></td><td style='text-align:left; padding-bottom:0px; padding-top:0px; padding-top:10px; '><hr/></td><tr>\n",
       "<tr><td style='padding-right:5px; padding-bottom:0px; padding-top:0px; width:124px'><font color='green'>         size</font> </td><td style='text-align:left; padding-bottom:0px; padding-top:0px; border:.5px solid lightgray;  '> 6</td><tr>\n",
       "<tr><td style='padding-right:5px; padding-bottom:0px; padding-top:0px; width:124px'><font color='green'>        title</font> </td><td style='text-align:left; padding-bottom:0px; padding-top:0px; border:.5px solid lightgray;  '> elapsed time</td><tr>\n",
       "<tr><td style='padding-right:5px; padding-bottom:0px; padding-top:0px; width:124px'><font color='green'>  coordinates</font> </td><td style='text-align:left; padding-bottom:0px; padding-top:0px; border:.5px solid lightgray;  '> <div><font color='blue'>[       0      200      400      600      800     1000] h</font></div></td><tr>\n",
       "<tr><td style='padding-right:5px; padding-bottom:0px; padding-top:0px; width:124px'><strong>     DIMENSION `v`</strong></td><td style='text-align:left; padding-bottom:0px; padding-top:0px; padding-top:10px; '><hr/></td><tr>\n",
       "<tr><td style='padding-right:5px; padding-bottom:0px; padding-top:0px; width:124px'><font color='green'>         size</font> </td><td style='text-align:left; padding-bottom:0px; padding-top:0px; border:.5px solid lightgray;  '> 4</td><tr>\n",
       "<tr><td style='padding-right:5px; padding-bottom:0px; padding-top:0px; width:124px'><strong>          (_1)</strong></td><td style='text-align:left; padding-bottom:0px; padding-top:0px; padding-top:10px; '><hr/></td><tr>\n",
       "<tr><td style='padding-right:5px; padding-bottom:0px; padding-top:0px; width:124px'><font color='green'>        title</font> </td><td style='text-align:left; padding-bottom:0px; padding-top:0px; border:.5px solid lightgray;  '> temperature</td><tr>\n",
       "<tr><td style='padding-right:5px; padding-bottom:0px; padding-top:0px; width:124px'><font color='green'>  coordinates</font> </td><td style='text-align:left; padding-bottom:0px; padding-top:0px; border:.5px solid lightgray;  '> <div><font color='blue'>[      20    21.67    23.33       25] K</font></div></td><tr>\n",
       "<tr><td style='padding-right:5px; padding-bottom:0px; padding-top:0px; width:124px'><strong>          (_2)</strong></td><td style='text-align:left; padding-bottom:0px; padding-top:0px; padding-top:10px; '><hr/></td><tr>\n",
       "<tr><td style='padding-right:5px; padding-bottom:0px; padding-top:0px; width:124px'><font color='green'>        title</font> </td><td style='text-align:left; padding-bottom:0px; padding-top:0px; border:.5px solid lightgray;  '> magnetic field</td><tr>\n",
       "<tr><td style='padding-right:5px; padding-bottom:0px; padding-top:0px; width:124px'><font color='green'>  coordinates</font> </td><td style='text-align:left; padding-bottom:0px; padding-top:0px; border:.5px solid lightgray;  '> <div><font color='blue'>[       1        2        3        4] mT</font></div></td><tr>\n",
       "</table>"
      ],
      "text/plain": [
       "NDDataset: [float64] unitless (shape: (t:2, v:4, u:6))"
      ]
     },
     "execution_count": 69,
     "metadata": {},
     "output_type": "execute_result"
    }
   ],
   "source": [
    "d3D.v = [coord1, coord1b]\n",
    "d3D"
   ]
  },
  {
   "cell_type": "markdown",
   "id": "47139e6e",
   "metadata": {},
   "source": [
    "or using a CoordSet object."
   ]
  },
  {
   "cell_type": "code",
   "execution_count": 70,
   "id": "8aa60d36",
   "metadata": {
    "execution": {
     "iopub.execute_input": "2025-01-17T01:20:35.806798Z",
     "iopub.status.busy": "2025-01-17T01:20:35.806627Z",
     "iopub.status.idle": "2025-01-17T01:20:35.824905Z",
     "shell.execute_reply": "2025-01-17T01:20:35.824339Z"
    }
   },
   "outputs": [
    {
     "data": {
      "text/html": [
       "<table style='background:transparent'>\n",
       "<tr><td style='padding-right:5px; padding-bottom:0px; padding-top:0px; width:124px'><font color='green'>         name</font> </td><td style='text-align:left; padding-bottom:0px; padding-top:0px; border:.5px solid lightgray;  '> 3D_dataset</td><tr>\n",
       "<tr><td style='padding-right:5px; padding-bottom:0px; padding-top:0px; width:124px'><font color='green'>       author</font> </td><td style='text-align:left; padding-bottom:0px; padding-top:0px; border:.5px solid lightgray;  '> Someone</td><tr>\n",
       "<tr><td style='padding-right:5px; padding-bottom:0px; padding-top:0px; width:124px'><font color='green'>      created</font> </td><td style='text-align:left; padding-bottom:0px; padding-top:0px; border:.5px solid lightgray;  '> 2025-01-17 01:20:35+00:00</td><tr>\n",
       "<tr><td style='padding-right:5px; padding-bottom:0px; padding-top:0px; width:124px'><font color='green'>  description</font> </td><td style='text-align:left; padding-bottom:0px; padding-top:0px; border:.5px solid lightgray;  '> <div>a single statement creation example</div></td><tr>\n",
       "<tr><td style='padding-right:5px; padding-bottom:0px; padding-top:0px; width:124px'><font color='green'>      history</font> </td><td style='text-align:left; padding-bottom:0px; padding-top:0px; border:.5px solid lightgray;  '> <div>2025-01-17 01:20:35+00:00> Created from scratch</div></td><tr>\n",
       "<tr><td style='padding-right:5px; padding-bottom:0px; padding-top:0px; width:124px'><strong>          DATA </strong></td><td style='text-align:left; padding-bottom:0px; padding-top:0px; padding-top:10px; '><hr/></td><tr>\n",
       "<tr><td style='padding-right:5px; padding-bottom:0px; padding-top:0px; width:124px'><font color='green'>        title</font> </td><td style='text-align:left; padding-bottom:0px; padding-top:0px; border:.5px solid lightgray;  '> Energy</td><tr>\n",
       "<tr><td style='padding-right:5px; padding-bottom:0px; padding-top:0px; width:124px'><font color='green'>       values</font> </td><td style='text-align:left; padding-bottom:0px; padding-top:0px; border:.5px solid lightgray;  '> <div><font color='blue'>         [[[  0.7117   0.2063 ...  0.05432   0.1795]<br/>           [  0.2235   0.2738 ...   0.2891   0.4889]<br/>           [  0.8667   0.8823 ...   0.8557   0.7069]<br/>           [   0.525   0.8061 ...   0.1801   0.1454]]<br/><br/>          [[  0.9515   0.8091 ...  0.07042  0.06208]<br/>           [  0.8369   0.7351 ...   0.4393   0.6143]<br/>           [   0.289  0.07534 ...   0.4904   0.1735]<br/>           [ 0.03189   0.6254 ...   0.1632   0.7867]]]</font></div></td><tr>\n",
       "<tr><td style='padding-right:5px; padding-bottom:0px; padding-top:0px; width:124px'><font color='green'>        shape</font> </td><td style='text-align:left; padding-bottom:0px; padding-top:0px; border:.5px solid lightgray;  '> (t:2, v:4, u:6)</td><tr>\n",
       "<tr><td style='padding-right:5px; padding-bottom:0px; padding-top:0px; width:124px'><strong>     DIMENSION `t`</strong></td><td style='text-align:left; padding-bottom:0px; padding-top:0px; padding-top:10px; '><hr/></td><tr>\n",
       "<tr><td style='padding-right:5px; padding-bottom:0px; padding-top:0px; width:124px'><font color='green'>         size</font> </td><td style='text-align:left; padding-bottom:0px; padding-top:0px; border:.5px solid lightgray;  '> 2</td><tr>\n",
       "<tr><td style='padding-right:5px; padding-bottom:0px; padding-top:0px; width:124px'><font color='green'>        title</font> </td><td style='text-align:left; padding-bottom:0px; padding-top:0px; border:.5px solid lightgray;  '> distance</td><tr>\n",
       "<tr><td style='padding-right:5px; padding-bottom:0px; padding-top:0px; width:124px'><font color='green'>  coordinates</font> </td><td style='text-align:left; padding-bottom:0px; padding-top:0px; border:.5px solid lightgray;  '> <div><font color='blue'>[      10      100] m</font></div></td><tr>\n",
       "<tr><td style='padding-right:5px; padding-bottom:0px; padding-top:0px; width:124px'><strong>     DIMENSION `u`</strong></td><td style='text-align:left; padding-bottom:0px; padding-top:0px; padding-top:10px; '><hr/></td><tr>\n",
       "<tr><td style='padding-right:5px; padding-bottom:0px; padding-top:0px; width:124px'><font color='green'>         size</font> </td><td style='text-align:left; padding-bottom:0px; padding-top:0px; border:.5px solid lightgray;  '> 6</td><tr>\n",
       "<tr><td style='padding-right:5px; padding-bottom:0px; padding-top:0px; width:124px'><font color='green'>        title</font> </td><td style='text-align:left; padding-bottom:0px; padding-top:0px; border:.5px solid lightgray;  '> elapsed time</td><tr>\n",
       "<tr><td style='padding-right:5px; padding-bottom:0px; padding-top:0px; width:124px'><font color='green'>  coordinates</font> </td><td style='text-align:left; padding-bottom:0px; padding-top:0px; border:.5px solid lightgray;  '> <div><font color='blue'>[       0      200      400      600      800     1000] h</font></div></td><tr>\n",
       "<tr><td style='padding-right:5px; padding-bottom:0px; padding-top:0px; width:124px'><strong>     DIMENSION `v`</strong></td><td style='text-align:left; padding-bottom:0px; padding-top:0px; padding-top:10px; '><hr/></td><tr>\n",
       "<tr><td style='padding-right:5px; padding-bottom:0px; padding-top:0px; width:124px'><font color='green'>         size</font> </td><td style='text-align:left; padding-bottom:0px; padding-top:0px; border:.5px solid lightgray;  '> 4</td><tr>\n",
       "<tr><td style='padding-right:5px; padding-bottom:0px; padding-top:0px; width:124px'><strong>          (_1)</strong></td><td style='text-align:left; padding-bottom:0px; padding-top:0px; padding-top:10px; '><hr/></td><tr>\n",
       "<tr><td style='padding-right:5px; padding-bottom:0px; padding-top:0px; width:124px'><font color='green'>        title</font> </td><td style='text-align:left; padding-bottom:0px; padding-top:0px; border:.5px solid lightgray;  '> magnetic field</td><tr>\n",
       "<tr><td style='padding-right:5px; padding-bottom:0px; padding-top:0px; width:124px'><font color='green'>  coordinates</font> </td><td style='text-align:left; padding-bottom:0px; padding-top:0px; border:.5px solid lightgray;  '> <div><font color='blue'>[       1        2        3        4] mT</font></div></td><tr>\n",
       "<tr><td style='padding-right:5px; padding-bottom:0px; padding-top:0px; width:124px'><strong>          (_2)</strong></td><td style='text-align:left; padding-bottom:0px; padding-top:0px; padding-top:10px; '><hr/></td><tr>\n",
       "<tr><td style='padding-right:5px; padding-bottom:0px; padding-top:0px; width:124px'><font color='green'>        title</font> </td><td style='text-align:left; padding-bottom:0px; padding-top:0px; border:.5px solid lightgray;  '> temperature</td><tr>\n",
       "<tr><td style='padding-right:5px; padding-bottom:0px; padding-top:0px; width:124px'><font color='green'>  coordinates</font> </td><td style='text-align:left; padding-bottom:0px; padding-top:0px; border:.5px solid lightgray;  '> <div><font color='blue'>[      20    21.67    23.33       25] K</font></div></td><tr>\n",
       "</table>"
      ],
      "text/plain": [
       "NDDataset: [float64] unitless (shape: (t:2, v:4, u:6))"
      ]
     },
     "execution_count": 70,
     "metadata": {},
     "output_type": "execute_result"
    }
   ],
   "source": [
    "d3D.v = CoordSet(coord1, coord1b)\n",
    "d3D"
   ]
  },
  {
   "cell_type": "markdown",
   "id": "98061a48",
   "metadata": {},
   "source": [
    "# Methods to create NDDataset\n",
    "\n",
    "There are many ways to create `NDDataset` objects.\n",
    "\n",
    "Let's first create 2 coordinate objects, for which we can define `labels` and `units`!\n",
    "Note the use of the function\n",
    "`linspace`to generate the data."
   ]
  },
  {
   "cell_type": "code",
   "execution_count": 71,
   "id": "390525bd",
   "metadata": {
    "execution": {
     "iopub.execute_input": "2025-01-17T01:20:35.827081Z",
     "iopub.status.busy": "2025-01-17T01:20:35.826749Z",
     "iopub.status.idle": "2025-01-17T01:20:35.830479Z",
     "shell.execute_reply": "2025-01-17T01:20:35.829982Z"
    }
   },
   "outputs": [],
   "source": [
    "c0 = Coord.linspace(\n",
    "    start=4000.0, stop=1000.0, num=5, labels=None, units=\"cm^-1\", title=\"wavenumber\"\n",
    ")"
   ]
  },
  {
   "cell_type": "code",
   "execution_count": 72,
   "id": "8e1ccd72",
   "metadata": {
    "execution": {
     "iopub.execute_input": "2025-01-17T01:20:35.832421Z",
     "iopub.status.busy": "2025-01-17T01:20:35.832224Z",
     "iopub.status.idle": "2025-01-17T01:20:35.835715Z",
     "shell.execute_reply": "2025-01-17T01:20:35.835227Z"
    }
   },
   "outputs": [],
   "source": [
    "c1 = Coord.linspace(\n",
    "    10.0, 40.0, 3, labels=[\"Cold\", \"RT\", \"Hot\"], units=\"K\", title=\"temperature\"\n",
    ")"
   ]
  },
  {
   "cell_type": "markdown",
   "id": "7348e809",
   "metadata": {},
   "source": [
    "The full coordset will be the following"
   ]
  },
  {
   "cell_type": "code",
   "execution_count": 73,
   "id": "78a9a2cf",
   "metadata": {
    "execution": {
     "iopub.execute_input": "2025-01-17T01:20:35.837997Z",
     "iopub.status.busy": "2025-01-17T01:20:35.837517Z",
     "iopub.status.idle": "2025-01-17T01:20:35.844860Z",
     "shell.execute_reply": "2025-01-17T01:20:35.844424Z"
    }
   },
   "outputs": [
    {
     "data": {
      "text/html": [
       "<table style='background:transparent'>\n",
       "<tr><td style='padding-right:5px; padding-bottom:0px; padding-top:0px; width:124px'><strong>     DIMENSION `x`</strong></td><td style='text-align:left; padding-bottom:0px; padding-top:0px; padding-top:10px; '><hr/></td><tr>\n",
       "<tr><td style='padding-right:5px; padding-bottom:0px; padding-top:0px; width:124px'><font color='green'>         size</font> </td><td style='text-align:left; padding-bottom:0px; padding-top:0px; border:.5px solid lightgray;  '> 3</td><tr>\n",
       "<tr><td style='padding-right:5px; padding-bottom:0px; padding-top:0px; width:124px'><font color='green'>        title</font> </td><td style='text-align:left; padding-bottom:0px; padding-top:0px; border:.5px solid lightgray;  '> temperature</td><tr>\n",
       "<tr><td style='padding-right:5px; padding-bottom:0px; padding-top:0px; width:124px'><font color='green'>  coordinates</font> </td><td style='text-align:left; padding-bottom:0px; padding-top:0px; border:.5px solid lightgray;  '> <div><font color='blue'>[      10       25       40] K</font></div></td><tr>\n",
       "<tr><td style='padding-right:5px; padding-bottom:0px; padding-top:0px; width:124px'><font color='green'>       labels</font> </td><td style='text-align:left; padding-bottom:0px; padding-top:0px; border:.5px solid lightgray;  '> <div><font color='darkcyan'>[  Cold   RT   Hot]</font></div> </td><tr>\n",
       "<tr><td style='padding-right:5px; padding-bottom:0px; padding-top:0px; width:124px'><strong>     DIMENSION `y`</strong></td><td style='text-align:left; padding-bottom:0px; padding-top:0px; padding-top:10px; '><hr/></td><tr>\n",
       "<tr><td style='padding-right:5px; padding-bottom:0px; padding-top:0px; width:124px'><font color='green'>         size</font> </td><td style='text-align:left; padding-bottom:0px; padding-top:0px; border:.5px solid lightgray;  '> 5</td><tr>\n",
       "<tr><td style='padding-right:5px; padding-bottom:0px; padding-top:0px; width:124px'><font color='green'>        title</font> </td><td style='text-align:left; padding-bottom:0px; padding-top:0px; border:.5px solid lightgray;  '> wavenumber</td><tr>\n",
       "<tr><td style='padding-right:5px; padding-bottom:0px; padding-top:0px; width:124px'><font color='green'>  coordinates</font> </td><td style='text-align:left; padding-bottom:0px; padding-top:0px; border:.5px solid lightgray;  '> <div><font color='blue'>[    4000     3250     2500     1750     1000] cm⁻¹</font></div></td><tr>\n",
       "</table>"
      ],
      "text/plain": [
       "CoordSet: [x:temperature, y:wavenumber]"
      ]
     },
     "execution_count": 73,
     "metadata": {},
     "output_type": "execute_result"
    }
   ],
   "source": [
    "cs = CoordSet(c0, c1)\n",
    "cs"
   ]
  },
  {
   "cell_type": "markdown",
   "id": "6ed9a57d",
   "metadata": {},
   "source": [
    "Now we will generate the full dataset, using a `fromfunction` method.\n",
    "All needed information are passed as\n",
    "parameter of the NDDataset instance constructor."
   ]
  },
  {
   "cell_type": "markdown",
   "id": "2efe2f02",
   "metadata": {},
   "source": [
    "## Create a dataset from a function"
   ]
  },
  {
   "cell_type": "code",
   "execution_count": 74,
   "id": "6fdc9a44",
   "metadata": {
    "execution": {
     "iopub.execute_input": "2025-01-17T01:20:35.846838Z",
     "iopub.status.busy": "2025-01-17T01:20:35.846660Z",
     "iopub.status.idle": "2025-01-17T01:20:35.849398Z",
     "shell.execute_reply": "2025-01-17T01:20:35.848807Z"
    }
   },
   "outputs": [],
   "source": [
    "def func(x, y, extra):\n",
    "    return x * y / extra"
   ]
  },
  {
   "cell_type": "code",
   "execution_count": 75,
   "id": "0ed56410",
   "metadata": {
    "execution": {
     "iopub.execute_input": "2025-01-17T01:20:35.851401Z",
     "iopub.status.busy": "2025-01-17T01:20:35.851207Z",
     "iopub.status.idle": "2025-01-17T01:20:35.863516Z",
     "shell.execute_reply": "2025-01-17T01:20:35.862976Z"
    }
   },
   "outputs": [
    {
     "data": {
      "text/html": [
       "<table style='background:transparent'>\n",
       "<tr><td style='padding-right:5px; padding-bottom:0px; padding-top:0px; width:124px'><font color='green'>         name</font> </td><td style='text-align:left; padding-bottom:0px; padding-top:0px; border:.5px solid lightgray;  '> mydataset</td><tr>\n",
       "<tr><td style='padding-right:5px; padding-bottom:0px; padding-top:0px; width:124px'><font color='green'>       author</font> </td><td style='text-align:left; padding-bottom:0px; padding-top:0px; border:.5px solid lightgray;  '> Blake & Mortimer</td><tr>\n",
       "<tr><td style='padding-right:5px; padding-bottom:0px; padding-top:0px; width:124px'><font color='green'>      created</font> </td><td style='text-align:left; padding-bottom:0px; padding-top:0px; border:.5px solid lightgray;  '> 2025-01-17 01:20:35+00:00</td><tr>\n",
       "<tr><td style='padding-right:5px; padding-bottom:0px; padding-top:0px; width:124px'><font color='green'>  description</font> </td><td style='text-align:left; padding-bottom:0px; padding-top:0px; border:.5px solid lightgray;  '> <div>Dataset example created for this tutorial.<br/>               It's a 2-D dataset</div></td><tr>\n",
       "<tr><td style='padding-right:5px; padding-bottom:0px; padding-top:0px; width:124px'><font color='green'>      history</font> </td><td style='text-align:left; padding-bottom:0px; padding-top:0px; border:.5px solid lightgray;  '> <div>2025-01-17 01:20:35+00:00> Created using method : fromfunction</div></td><tr>\n",
       "<tr><td style='padding-right:5px; padding-bottom:0px; padding-top:0px; width:124px'><strong>          DATA </strong></td><td style='text-align:left; padding-bottom:0px; padding-top:0px; padding-top:10px; '><hr/></td><tr>\n",
       "<tr><td style='padding-right:5px; padding-bottom:0px; padding-top:0px; width:124px'><font color='green'>        title</font> </td><td style='text-align:left; padding-bottom:0px; padding-top:0px; border:.5px solid lightgray;  '> absorbance</td><tr>\n",
       "<tr><td style='padding-right:5px; padding-bottom:0px; padding-top:0px; width:124px'><font color='green'>       values</font> </td><td style='text-align:left; padding-bottom:0px; padding-top:0px; border:.5px solid lightgray;  '> <div><font color='blue'>         [[     400     1000     1600]<br/>          [     325    812.5     1300]<br/>          ...<br/>          [     175    437.5      700]<br/>          [     100      250      400]] K</font></div></td><tr>\n",
       "<tr><td style='padding-right:5px; padding-bottom:0px; padding-top:0px; width:124px'><font color='green'>        shape</font> </td><td style='text-align:left; padding-bottom:0px; padding-top:0px; border:.5px solid lightgray;  '> (y:5, x:3)</td><tr>\n",
       "<tr><td style='padding-right:5px; padding-bottom:0px; padding-top:0px; width:124px'><strong>     DIMENSION `x`</strong></td><td style='text-align:left; padding-bottom:0px; padding-top:0px; padding-top:10px; '><hr/></td><tr>\n",
       "<tr><td style='padding-right:5px; padding-bottom:0px; padding-top:0px; width:124px'><font color='green'>         size</font> </td><td style='text-align:left; padding-bottom:0px; padding-top:0px; border:.5px solid lightgray;  '> 3</td><tr>\n",
       "<tr><td style='padding-right:5px; padding-bottom:0px; padding-top:0px; width:124px'><font color='green'>        title</font> </td><td style='text-align:left; padding-bottom:0px; padding-top:0px; border:.5px solid lightgray;  '> temperature</td><tr>\n",
       "<tr><td style='padding-right:5px; padding-bottom:0px; padding-top:0px; width:124px'><font color='green'>  coordinates</font> </td><td style='text-align:left; padding-bottom:0px; padding-top:0px; border:.5px solid lightgray;  '> <div><font color='blue'>[      10       25       40] K</font></div></td><tr>\n",
       "<tr><td style='padding-right:5px; padding-bottom:0px; padding-top:0px; width:124px'><font color='green'>       labels</font> </td><td style='text-align:left; padding-bottom:0px; padding-top:0px; border:.5px solid lightgray;  '> <div><font color='darkcyan'>[  Cold   RT   Hot]</font></div> </td><tr>\n",
       "<tr><td style='padding-right:5px; padding-bottom:0px; padding-top:0px; width:124px'><strong>     DIMENSION `y`</strong></td><td style='text-align:left; padding-bottom:0px; padding-top:0px; padding-top:10px; '><hr/></td><tr>\n",
       "<tr><td style='padding-right:5px; padding-bottom:0px; padding-top:0px; width:124px'><font color='green'>         size</font> </td><td style='text-align:left; padding-bottom:0px; padding-top:0px; border:.5px solid lightgray;  '> 5</td><tr>\n",
       "<tr><td style='padding-right:5px; padding-bottom:0px; padding-top:0px; width:124px'><font color='green'>        title</font> </td><td style='text-align:left; padding-bottom:0px; padding-top:0px; border:.5px solid lightgray;  '> wavenumber</td><tr>\n",
       "<tr><td style='padding-right:5px; padding-bottom:0px; padding-top:0px; width:124px'><font color='green'>  coordinates</font> </td><td style='text-align:left; padding-bottom:0px; padding-top:0px; border:.5px solid lightgray;  '> <div><font color='blue'>[    4000     3250     2500     1750     1000] cm⁻¹</font></div></td><tr>\n",
       "</table>"
      ],
      "text/plain": [
       "NDDataset: [float64] K (shape: (y:5, x:3))"
      ]
     },
     "execution_count": 75,
     "metadata": {},
     "output_type": "execute_result"
    }
   ],
   "source": [
    "ds = NDDataset.fromfunction(\n",
    "    func,\n",
    "    extra=100 * ur.cm**-1,  # extra arguments passed to the function\n",
    "    coordset=cs,\n",
    "    name=\"mydataset\",\n",
    "    title=\"absorbance\",\n",
    "    units=None,\n",
    ")  # when None, units will be determined from the function results\n",
    "\n",
    "ds.description = \"\"\"Dataset example created for this tutorial.\n",
    "It's a 2-D dataset\"\"\"\n",
    "\n",
    "ds.author = \"Blake & Mortimer\"\n",
    "ds"
   ]
  },
  {
   "cell_type": "markdown",
   "id": "816d4e70",
   "metadata": {},
   "source": [
    "## Using numpy-like constructors of NDDatasets"
   ]
  },
  {
   "cell_type": "code",
   "execution_count": 76,
   "id": "ac0c2fbb",
   "metadata": {
    "execution": {
     "iopub.execute_input": "2025-01-17T01:20:35.865627Z",
     "iopub.status.busy": "2025-01-17T01:20:35.865347Z",
     "iopub.status.idle": "2025-01-17T01:20:35.870361Z",
     "shell.execute_reply": "2025-01-17T01:20:35.869789Z"
    }
   },
   "outputs": [],
   "source": [
    "dz = NDDataset.zeros(\n",
    "    (5, 3), coordset=cs, units=\"meters\", title=\"Datasets with only zeros\"\n",
    ")"
   ]
  },
  {
   "cell_type": "code",
   "execution_count": 77,
   "id": "6fec57e3",
   "metadata": {
    "execution": {
     "iopub.execute_input": "2025-01-17T01:20:35.872466Z",
     "iopub.status.busy": "2025-01-17T01:20:35.872044Z",
     "iopub.status.idle": "2025-01-17T01:20:35.877062Z",
     "shell.execute_reply": "2025-01-17T01:20:35.876559Z"
    }
   },
   "outputs": [],
   "source": [
    "do = NDDataset.ones(\n",
    "    (5, 3), coordset=cs, units=\"kilograms\", title=\"Datasets with only ones\"\n",
    ")"
   ]
  },
  {
   "cell_type": "code",
   "execution_count": 78,
   "id": "d2f4b597",
   "metadata": {
    "execution": {
     "iopub.execute_input": "2025-01-17T01:20:35.878980Z",
     "iopub.status.busy": "2025-01-17T01:20:35.878799Z",
     "iopub.status.idle": "2025-01-17T01:20:35.886733Z",
     "shell.execute_reply": "2025-01-17T01:20:35.886164Z"
    }
   },
   "outputs": [
    {
     "data": {
      "text/html": [
       "<table style='background:transparent'>\n",
       "<tr><td style='padding-right:5px; padding-bottom:0px; padding-top:0px; width:124px'><font color='green'>         name</font> </td><td style='text-align:left; padding-bottom:0px; padding-top:0px; border:.5px solid lightgray;  '> NDDataset_4102184a</td><tr>\n",
       "<tr><td style='padding-right:5px; padding-bottom:0px; padding-top:0px; width:124px'><font color='green'>       author</font> </td><td style='text-align:left; padding-bottom:0px; padding-top:0px; border:.5px solid lightgray;  '> runner@fv-az1770-418</td><tr>\n",
       "<tr><td style='padding-right:5px; padding-bottom:0px; padding-top:0px; width:124px'><font color='green'>      created</font> </td><td style='text-align:left; padding-bottom:0px; padding-top:0px; border:.5px solid lightgray;  '> 2025-01-17 01:20:35+00:00</td><tr>\n",
       "<tr><td style='padding-right:5px; padding-bottom:0px; padding-top:0px; width:124px'><font color='green'>      history</font> </td><td style='text-align:left; padding-bottom:0px; padding-top:0px; border:.5px solid lightgray;  '> <div>2025-01-17 01:20:35+00:00> Created using method : full</div></td><tr>\n",
       "<tr><td style='padding-right:5px; padding-bottom:0px; padding-top:0px; width:124px'><strong>          DATA </strong></td><td style='text-align:left; padding-bottom:0px; padding-top:0px; padding-top:10px; '><hr/></td><tr>\n",
       "<tr><td style='padding-right:5px; padding-bottom:0px; padding-top:0px; width:124px'><font color='green'>        title</font> </td><td style='text-align:left; padding-bottom:0px; padding-top:0px; border:.5px solid lightgray;  '> with only float=1.25</td><tr>\n",
       "<tr><td style='padding-right:5px; padding-bottom:0px; padding-top:0px; width:124px'><font color='green'>       values</font> </td><td style='text-align:left; padding-bottom:0px; padding-top:0px; border:.5px solid lightgray;  '> <div><font color='blue'>         [[    1.25     1.25     1.25]<br/>          [    1.25     1.25     1.25]<br/>          ...<br/>          [    1.25     1.25     1.25]<br/>          [    1.25     1.25     1.25]] rad</font></div></td><tr>\n",
       "<tr><td style='padding-right:5px; padding-bottom:0px; padding-top:0px; width:124px'><font color='green'>        shape</font> </td><td style='text-align:left; padding-bottom:0px; padding-top:0px; border:.5px solid lightgray;  '> (y:5, x:3)</td><tr>\n",
       "<tr><td style='padding-right:5px; padding-bottom:0px; padding-top:0px; width:124px'><strong>     DIMENSION `x`</strong></td><td style='text-align:left; padding-bottom:0px; padding-top:0px; padding-top:10px; '><hr/></td><tr>\n",
       "<tr><td style='padding-right:5px; padding-bottom:0px; padding-top:0px; width:124px'><font color='green'>         size</font> </td><td style='text-align:left; padding-bottom:0px; padding-top:0px; border:.5px solid lightgray;  '> 3</td><tr>\n",
       "<tr><td style='padding-right:5px; padding-bottom:0px; padding-top:0px; width:124px'><font color='green'>        title</font> </td><td style='text-align:left; padding-bottom:0px; padding-top:0px; border:.5px solid lightgray;  '> temperature</td><tr>\n",
       "<tr><td style='padding-right:5px; padding-bottom:0px; padding-top:0px; width:124px'><font color='green'>  coordinates</font> </td><td style='text-align:left; padding-bottom:0px; padding-top:0px; border:.5px solid lightgray;  '> <div><font color='blue'>[      10       25       40] K</font></div></td><tr>\n",
       "<tr><td style='padding-right:5px; padding-bottom:0px; padding-top:0px; width:124px'><font color='green'>       labels</font> </td><td style='text-align:left; padding-bottom:0px; padding-top:0px; border:.5px solid lightgray;  '> <div><font color='darkcyan'>[  Cold   RT   Hot]</font></div> </td><tr>\n",
       "<tr><td style='padding-right:5px; padding-bottom:0px; padding-top:0px; width:124px'><strong>     DIMENSION `y`</strong></td><td style='text-align:left; padding-bottom:0px; padding-top:0px; padding-top:10px; '><hr/></td><tr>\n",
       "<tr><td style='padding-right:5px; padding-bottom:0px; padding-top:0px; width:124px'><font color='green'>         size</font> </td><td style='text-align:left; padding-bottom:0px; padding-top:0px; border:.5px solid lightgray;  '> 5</td><tr>\n",
       "<tr><td style='padding-right:5px; padding-bottom:0px; padding-top:0px; width:124px'><font color='green'>        title</font> </td><td style='text-align:left; padding-bottom:0px; padding-top:0px; border:.5px solid lightgray;  '> wavenumber</td><tr>\n",
       "<tr><td style='padding-right:5px; padding-bottom:0px; padding-top:0px; width:124px'><font color='green'>  coordinates</font> </td><td style='text-align:left; padding-bottom:0px; padding-top:0px; border:.5px solid lightgray;  '> <div><font color='blue'>[    4000     3250     2500     1750     1000] cm⁻¹</font></div></td><tr>\n",
       "</table>"
      ],
      "text/plain": [
       "NDDataset: [float64] rad (shape: (y:5, x:3))"
      ]
     },
     "execution_count": 78,
     "metadata": {},
     "output_type": "execute_result"
    }
   ],
   "source": [
    "df = NDDataset.full(\n",
    "    (5, 3), fill_value=1.25, coordset=cs, units=\"radians\", title=\"with only float=1.25\"\n",
    ")\n",
    "df"
   ]
  },
  {
   "cell_type": "markdown",
   "id": "dfb378da",
   "metadata": {},
   "source": [
    "As with numpy, it is also possible to take another dataset as a template:"
   ]
  },
  {
   "cell_type": "code",
   "execution_count": 79,
   "id": "03f572fb",
   "metadata": {
    "execution": {
     "iopub.execute_input": "2025-01-17T01:20:35.888702Z",
     "iopub.status.busy": "2025-01-17T01:20:35.888536Z",
     "iopub.status.idle": "2025-01-17T01:20:35.911082Z",
     "shell.execute_reply": "2025-01-17T01:20:35.910521Z"
    }
   },
   "outputs": [
    {
     "data": {
      "text/html": [
       "<table style='background:transparent'>\n",
       "<tr><td style='padding-right:5px; padding-bottom:0px; padding-top:0px; width:124px'><font color='green'>         name</font> </td><td style='text-align:left; padding-bottom:0px; padding-top:0px; border:.5px solid lightgray;  '> 3D_dataset</td><tr>\n",
       "<tr><td style='padding-right:5px; padding-bottom:0px; padding-top:0px; width:124px'><font color='green'>       author</font> </td><td style='text-align:left; padding-bottom:0px; padding-top:0px; border:.5px solid lightgray;  '> runner@fv-az1770-418</td><tr>\n",
       "<tr><td style='padding-right:5px; padding-bottom:0px; padding-top:0px; width:124px'><font color='green'>      created</font> </td><td style='text-align:left; padding-bottom:0px; padding-top:0px; border:.5px solid lightgray;  '> 2025-01-17 01:20:35+00:00</td><tr>\n",
       "<tr><td style='padding-right:5px; padding-bottom:0px; padding-top:0px; width:124px'><font color='green'>      history</font> </td><td style='text-align:left; padding-bottom:0px; padding-top:0px; border:.5px solid lightgray;  '> <div>2025-01-17 01:20:35+00:00> Created from scratch<br/>               2025-01-17 01:20:35+00:00> Created using method : full_like</div></td><tr>\n",
       "<tr><td style='padding-right:5px; padding-bottom:0px; padding-top:0px; width:124px'><strong>          DATA </strong></td><td style='text-align:left; padding-bottom:0px; padding-top:0px; padding-top:10px; '><hr/></td><tr>\n",
       "<tr><td style='padding-right:5px; padding-bottom:0px; padding-top:0px; width:124px'><font color='green'>        title</font> </td><td style='text-align:left; padding-bottom:0px; padding-top:0px; border:.5px solid lightgray;  '> Energy</td><tr>\n",
       "<tr><td style='padding-right:5px; padding-bottom:0px; padding-top:0px; width:124px'><font color='green'>       values</font> </td><td style='text-align:left; padding-bottom:0px; padding-top:0px; border:.5px solid lightgray;  '> <div><font color='blue'>         [[[       2        2 ...        2        2]<br/>           [       2        2 ...        2        2]<br/>           [       2        2 ...        2        2]<br/>           [       2        2 ...        2        2]]<br/><br/>          [[       2        2 ...        2        2]<br/>           [       2        2 ...        2        2]<br/>           [       2        2 ...        2        2]<br/>           [       2        2 ...        2        2]]]</font></div></td><tr>\n",
       "<tr><td style='padding-right:5px; padding-bottom:0px; padding-top:0px; width:124px'><font color='green'>        shape</font> </td><td style='text-align:left; padding-bottom:0px; padding-top:0px; border:.5px solid lightgray;  '> (t:2, v:4, u:6)</td><tr>\n",
       "<tr><td style='padding-right:5px; padding-bottom:0px; padding-top:0px; width:124px'><strong>     DIMENSION `t`</strong></td><td style='text-align:left; padding-bottom:0px; padding-top:0px; padding-top:10px; '><hr/></td><tr>\n",
       "<tr><td style='padding-right:5px; padding-bottom:0px; padding-top:0px; width:124px'><font color='green'>         size</font> </td><td style='text-align:left; padding-bottom:0px; padding-top:0px; border:.5px solid lightgray;  '> 2</td><tr>\n",
       "<tr><td style='padding-right:5px; padding-bottom:0px; padding-top:0px; width:124px'><font color='green'>        title</font> </td><td style='text-align:left; padding-bottom:0px; padding-top:0px; border:.5px solid lightgray;  '> distance</td><tr>\n",
       "<tr><td style='padding-right:5px; padding-bottom:0px; padding-top:0px; width:124px'><font color='green'>  coordinates</font> </td><td style='text-align:left; padding-bottom:0px; padding-top:0px; border:.5px solid lightgray;  '> <div><font color='blue'>[      10      100] m</font></div></td><tr>\n",
       "<tr><td style='padding-right:5px; padding-bottom:0px; padding-top:0px; width:124px'><strong>     DIMENSION `u`</strong></td><td style='text-align:left; padding-bottom:0px; padding-top:0px; padding-top:10px; '><hr/></td><tr>\n",
       "<tr><td style='padding-right:5px; padding-bottom:0px; padding-top:0px; width:124px'><font color='green'>         size</font> </td><td style='text-align:left; padding-bottom:0px; padding-top:0px; border:.5px solid lightgray;  '> 6</td><tr>\n",
       "<tr><td style='padding-right:5px; padding-bottom:0px; padding-top:0px; width:124px'><font color='green'>        title</font> </td><td style='text-align:left; padding-bottom:0px; padding-top:0px; border:.5px solid lightgray;  '> elapsed time</td><tr>\n",
       "<tr><td style='padding-right:5px; padding-bottom:0px; padding-top:0px; width:124px'><font color='green'>  coordinates</font> </td><td style='text-align:left; padding-bottom:0px; padding-top:0px; border:.5px solid lightgray;  '> <div><font color='blue'>[       0      200      400      600      800     1000] h</font></div></td><tr>\n",
       "<tr><td style='padding-right:5px; padding-bottom:0px; padding-top:0px; width:124px'><strong>     DIMENSION `v`</strong></td><td style='text-align:left; padding-bottom:0px; padding-top:0px; padding-top:10px; '><hr/></td><tr>\n",
       "<tr><td style='padding-right:5px; padding-bottom:0px; padding-top:0px; width:124px'><font color='green'>         size</font> </td><td style='text-align:left; padding-bottom:0px; padding-top:0px; border:.5px solid lightgray;  '> 4</td><tr>\n",
       "<tr><td style='padding-right:5px; padding-bottom:0px; padding-top:0px; width:124px'><strong>          (_1)</strong></td><td style='text-align:left; padding-bottom:0px; padding-top:0px; padding-top:10px; '><hr/></td><tr>\n",
       "<tr><td style='padding-right:5px; padding-bottom:0px; padding-top:0px; width:124px'><font color='green'>        title</font> </td><td style='text-align:left; padding-bottom:0px; padding-top:0px; border:.5px solid lightgray;  '> magnetic field</td><tr>\n",
       "<tr><td style='padding-right:5px; padding-bottom:0px; padding-top:0px; width:124px'><font color='green'>  coordinates</font> </td><td style='text-align:left; padding-bottom:0px; padding-top:0px; border:.5px solid lightgray;  '> <div><font color='blue'>[       1        2        3        4] mT</font></div></td><tr>\n",
       "<tr><td style='padding-right:5px; padding-bottom:0px; padding-top:0px; width:124px'><strong>          (_2)</strong></td><td style='text-align:left; padding-bottom:0px; padding-top:0px; padding-top:10px; '><hr/></td><tr>\n",
       "<tr><td style='padding-right:5px; padding-bottom:0px; padding-top:0px; width:124px'><font color='green'>        title</font> </td><td style='text-align:left; padding-bottom:0px; padding-top:0px; border:.5px solid lightgray;  '> temperature</td><tr>\n",
       "<tr><td style='padding-right:5px; padding-bottom:0px; padding-top:0px; width:124px'><font color='green'>  coordinates</font> </td><td style='text-align:left; padding-bottom:0px; padding-top:0px; border:.5px solid lightgray;  '> <div><font color='blue'>[      20    21.67    23.33       25] K</font></div></td><tr>\n",
       "</table>"
      ],
      "text/plain": [
       "NDDataset: [float64] unitless (shape: (t:2, v:4, u:6))"
      ]
     },
     "execution_count": 79,
     "metadata": {},
     "output_type": "execute_result"
    }
   ],
   "source": [
    "df = NDDataset.full_like(d3D, dtype=\"int\", fill_value=2)\n",
    "df"
   ]
  },
  {
   "cell_type": "code",
   "execution_count": 80,
   "id": "d5468637",
   "metadata": {
    "execution": {
     "iopub.execute_input": "2025-01-17T01:20:35.913213Z",
     "iopub.status.busy": "2025-01-17T01:20:35.912883Z",
     "iopub.status.idle": "2025-01-17T01:20:35.918232Z",
     "shell.execute_reply": "2025-01-17T01:20:35.917692Z"
    }
   },
   "outputs": [
    {
     "data": {
      "text/html": [
       "<table style='background:transparent'>\n",
       "<tr><td style='padding-right:5px; padding-bottom:0px; padding-top:0px; width:124px'><font color='green'>         name</font> </td><td style='text-align:left; padding-bottom:0px; padding-top:0px; border:.5px solid lightgray;  '> NDDataset_410718fe</td><tr>\n",
       "<tr><td style='padding-right:5px; padding-bottom:0px; padding-top:0px; width:124px'><font color='green'>       author</font> </td><td style='text-align:left; padding-bottom:0px; padding-top:0px; border:.5px solid lightgray;  '> runner@fv-az1770-418</td><tr>\n",
       "<tr><td style='padding-right:5px; padding-bottom:0px; padding-top:0px; width:124px'><font color='green'>      created</font> </td><td style='text-align:left; padding-bottom:0px; padding-top:0px; border:.5px solid lightgray;  '> 2025-01-17 01:20:35+00:00</td><tr>\n",
       "<tr><td style='padding-right:5px; padding-bottom:0px; padding-top:0px; width:124px'><font color='green'>      history</font> </td><td style='text-align:left; padding-bottom:0px; padding-top:0px; border:.5px solid lightgray;  '> <div>2025-01-17 01:20:35+00:00> Created using method : diag</div></td><tr>\n",
       "<tr><td style='padding-right:5px; padding-bottom:0px; padding-top:0px; width:124px'><strong>          DATA </strong></td><td style='text-align:left; padding-bottom:0px; padding-top:0px; padding-top:10px; '><hr/></td><tr>\n",
       "<tr><td style='padding-right:5px; padding-bottom:0px; padding-top:0px; width:124px'><font color='green'>        title</font> </td><td style='text-align:left; padding-bottom:0px; padding-top:0px; border:.5px solid lightgray;  '> <untitled></td><tr>\n",
       "<tr><td style='padding-right:5px; padding-bottom:0px; padding-top:0px; width:124px'><font color='green'>       values</font> </td><td style='text-align:left; padding-bottom:0px; padding-top:0px; border:.5px solid lightgray;  '> <div><font color='blue'>         [[       3        0        0]<br/>          [       0        3        0]<br/>          [       0        0      2.5]]</font></div></td><tr>\n",
       "<tr><td style='padding-right:5px; padding-bottom:0px; padding-top:0px; width:124px'><font color='green'>        shape</font> </td><td style='text-align:left; padding-bottom:0px; padding-top:0px; border:.5px solid lightgray;  '> (y:3, x:3)</td><tr>\n",
       "</table>"
      ],
      "text/plain": [
       "NDDataset: [float64] unitless (shape: (y:3, x:3))"
      ]
     },
     "execution_count": 80,
     "metadata": {},
     "output_type": "execute_result"
    }
   ],
   "source": [
    "nd = NDDataset.diag((3, 3, 2.5))\n",
    "nd"
   ]
  },
  {
   "cell_type": "markdown",
   "id": "840ada4b",
   "metadata": {},
   "source": [
    "## Copying existing NDDataset\n",
    "\n",
    "To copy an existing dataset, this is as simple as:"
   ]
  },
  {
   "cell_type": "code",
   "execution_count": 81,
   "id": "d2c27fab",
   "metadata": {
    "execution": {
     "iopub.execute_input": "2025-01-17T01:20:35.920256Z",
     "iopub.status.busy": "2025-01-17T01:20:35.919932Z",
     "iopub.status.idle": "2025-01-17T01:20:35.938804Z",
     "shell.execute_reply": "2025-01-17T01:20:35.938184Z"
    }
   },
   "outputs": [],
   "source": [
    "d3D_copy = d3D.copy()"
   ]
  },
  {
   "cell_type": "markdown",
   "id": "79bb723f",
   "metadata": {},
   "source": [
    "or alternatively:"
   ]
  },
  {
   "cell_type": "code",
   "execution_count": 82,
   "id": "16f4c50d",
   "metadata": {
    "execution": {
     "iopub.execute_input": "2025-01-17T01:20:35.941104Z",
     "iopub.status.busy": "2025-01-17T01:20:35.940684Z",
     "iopub.status.idle": "2025-01-17T01:20:35.991616Z",
     "shell.execute_reply": "2025-01-17T01:20:35.990953Z"
    }
   },
   "outputs": [],
   "source": [
    "d3D_copy = d3D[:]"
   ]
  },
  {
   "cell_type": "markdown",
   "id": "91027ead",
   "metadata": {},
   "source": [
    "Finally, it is also possible to initialize a dataset using an existing one:"
   ]
  },
  {
   "cell_type": "code",
   "execution_count": 83,
   "id": "1b79eef2",
   "metadata": {
    "execution": {
     "iopub.execute_input": "2025-01-17T01:20:35.994238Z",
     "iopub.status.busy": "2025-01-17T01:20:35.993816Z",
     "iopub.status.idle": "2025-01-17T01:20:36.001807Z",
     "shell.execute_reply": "2025-01-17T01:20:36.001340Z"
    }
   },
   "outputs": [
    {
     "data": {
      "text/html": [
       "<table style='background:transparent'>\n",
       "<tr><td style='padding-right:5px; padding-bottom:0px; padding-top:0px; width:124px'><font color='green'>         name</font> </td><td style='text-align:left; padding-bottom:0px; padding-top:0px; border:.5px solid lightgray;  '> duplicate of 3D_dataset</td><tr>\n",
       "<tr><td style='padding-right:5px; padding-bottom:0px; padding-top:0px; width:124px'><font color='green'>       author</font> </td><td style='text-align:left; padding-bottom:0px; padding-top:0px; border:.5px solid lightgray;  '> runner@fv-az1770-418</td><tr>\n",
       "<tr><td style='padding-right:5px; padding-bottom:0px; padding-top:0px; width:124px'><font color='green'>      created</font> </td><td style='text-align:left; padding-bottom:0px; padding-top:0px; border:.5px solid lightgray;  '> 2025-01-17 01:20:35+00:00</td><tr>\n",
       "<tr><td style='padding-right:5px; padding-bottom:0px; padding-top:0px; width:124px'><font color='green'>      history</font> </td><td style='text-align:left; padding-bottom:0px; padding-top:0px; border:.5px solid lightgray;  '> <div>2025-01-17 01:20:35+00:00> Created from scratch</div></td><tr>\n",
       "<tr><td style='padding-right:5px; padding-bottom:0px; padding-top:0px; width:124px'><strong>          DATA </strong></td><td style='text-align:left; padding-bottom:0px; padding-top:0px; padding-top:10px; '><hr/></td><tr>\n",
       "<tr><td style='padding-right:5px; padding-bottom:0px; padding-top:0px; width:124px'><font color='green'>        title</font> </td><td style='text-align:left; padding-bottom:0px; padding-top:0px; border:.5px solid lightgray;  '> Energy</td><tr>\n",
       "<tr><td style='padding-right:5px; padding-bottom:0px; padding-top:0px; width:124px'><font color='green'>       values</font> </td><td style='text-align:left; padding-bottom:0px; padding-top:0px; border:.5px solid lightgray;  '> <div><font color='blue'>         [[[  0.7117   0.2063 ...  0.05432   0.1795]<br/>           [  0.2235   0.2738 ...   0.2891   0.4889]<br/>           [  0.8667   0.8823 ...   0.8557   0.7069]<br/>           [   0.525   0.8061 ...   0.1801   0.1454]]<br/><br/>          [[  0.9515   0.8091 ...  0.07042  0.06208]<br/>           [  0.8369   0.7351 ...   0.4393   0.6143]<br/>           [   0.289  0.07534 ...   0.4904   0.1735]<br/>           [ 0.03189   0.6254 ...   0.1632   0.7867]]] a.u.</font></div></td><tr>\n",
       "<tr><td style='padding-right:5px; padding-bottom:0px; padding-top:0px; width:124px'><font color='green'>        shape</font> </td><td style='text-align:left; padding-bottom:0px; padding-top:0px; border:.5px solid lightgray;  '> (t:2, v:4, u:6)</td><tr>\n",
       "<tr><td style='padding-right:5px; padding-bottom:0px; padding-top:0px; width:124px'><strong>     DIMENSION `t`</strong></td><td style='text-align:left; padding-bottom:0px; padding-top:0px; padding-top:10px; '><hr/></td><tr>\n",
       "<tr><td style='padding-right:5px; padding-bottom:0px; padding-top:0px; width:124px'><font color='green'>         size</font> </td><td style='text-align:left; padding-bottom:0px; padding-top:0px; border:.5px solid lightgray;  '> 2</td><tr>\n",
       "<tr><td style='padding-right:5px; padding-bottom:0px; padding-top:0px; width:124px'><font color='green'>        title</font> </td><td style='text-align:left; padding-bottom:0px; padding-top:0px; border:.5px solid lightgray;  '> distance</td><tr>\n",
       "<tr><td style='padding-right:5px; padding-bottom:0px; padding-top:0px; width:124px'><font color='green'>  coordinates</font> </td><td style='text-align:left; padding-bottom:0px; padding-top:0px; border:.5px solid lightgray;  '> <div><font color='blue'>[      10      100] m</font></div></td><tr>\n",
       "<tr><td style='padding-right:5px; padding-bottom:0px; padding-top:0px; width:124px'><strong>     DIMENSION `u`</strong></td><td style='text-align:left; padding-bottom:0px; padding-top:0px; padding-top:10px; '><hr/></td><tr>\n",
       "<tr><td style='padding-right:5px; padding-bottom:0px; padding-top:0px; width:124px'><font color='green'>         size</font> </td><td style='text-align:left; padding-bottom:0px; padding-top:0px; border:.5px solid lightgray;  '> 6</td><tr>\n",
       "<tr><td style='padding-right:5px; padding-bottom:0px; padding-top:0px; width:124px'><font color='green'>        title</font> </td><td style='text-align:left; padding-bottom:0px; padding-top:0px; border:.5px solid lightgray;  '> elapsed time</td><tr>\n",
       "<tr><td style='padding-right:5px; padding-bottom:0px; padding-top:0px; width:124px'><font color='green'>  coordinates</font> </td><td style='text-align:left; padding-bottom:0px; padding-top:0px; border:.5px solid lightgray;  '> <div><font color='blue'>[       0      200      400      600      800     1000] h</font></div></td><tr>\n",
       "<tr><td style='padding-right:5px; padding-bottom:0px; padding-top:0px; width:124px'><strong>     DIMENSION `v`</strong></td><td style='text-align:left; padding-bottom:0px; padding-top:0px; padding-top:10px; '><hr/></td><tr>\n",
       "<tr><td style='padding-right:5px; padding-bottom:0px; padding-top:0px; width:124px'><font color='green'>         size</font> </td><td style='text-align:left; padding-bottom:0px; padding-top:0px; border:.5px solid lightgray;  '> 4</td><tr>\n",
       "<tr><td style='padding-right:5px; padding-bottom:0px; padding-top:0px; width:124px'><strong>          (_1)</strong></td><td style='text-align:left; padding-bottom:0px; padding-top:0px; padding-top:10px; '><hr/></td><tr>\n",
       "<tr><td style='padding-right:5px; padding-bottom:0px; padding-top:0px; width:124px'><font color='green'>        title</font> </td><td style='text-align:left; padding-bottom:0px; padding-top:0px; border:.5px solid lightgray;  '> magnetic field</td><tr>\n",
       "<tr><td style='padding-right:5px; padding-bottom:0px; padding-top:0px; width:124px'><font color='green'>  coordinates</font> </td><td style='text-align:left; padding-bottom:0px; padding-top:0px; border:.5px solid lightgray;  '> <div><font color='blue'>[       1        2        3        4] mT</font></div></td><tr>\n",
       "<tr><td style='padding-right:5px; padding-bottom:0px; padding-top:0px; width:124px'><strong>          (_2)</strong></td><td style='text-align:left; padding-bottom:0px; padding-top:0px; padding-top:10px; '><hr/></td><tr>\n",
       "<tr><td style='padding-right:5px; padding-bottom:0px; padding-top:0px; width:124px'><font color='green'>        title</font> </td><td style='text-align:left; padding-bottom:0px; padding-top:0px; border:.5px solid lightgray;  '> temperature</td><tr>\n",
       "<tr><td style='padding-right:5px; padding-bottom:0px; padding-top:0px; width:124px'><font color='green'>  coordinates</font> </td><td style='text-align:left; padding-bottom:0px; padding-top:0px; border:.5px solid lightgray;  '> <div><font color='blue'>[      20    21.67    23.33       25] K</font></div></td><tr>\n",
       "</table>"
      ],
      "text/plain": [
       "NDDataset: [float64] a.u. (shape: (t:2, v:4, u:6))"
      ]
     },
     "execution_count": 83,
     "metadata": {},
     "output_type": "execute_result"
    }
   ],
   "source": [
    "d3Dduplicate = NDDataset(d3D, name=\"duplicate of %s\" % d3D.name, units=\"absorbance\")\n",
    "d3Dduplicate"
   ]
  },
  {
   "cell_type": "markdown",
   "id": "86498a5b",
   "metadata": {},
   "source": [
    "## Importing from external dataset\n",
    "\n",
    "NDDataset can be created from the importation of external data\n",
    "\n",
    "A **test**'s data folder contains some data for experimenting some features of\n",
    "datasets."
   ]
  },
  {
   "cell_type": "code",
   "execution_count": 84,
   "id": "3853cfc9",
   "metadata": {
    "execution": {
     "iopub.execute_input": "2025-01-17T01:20:36.003983Z",
     "iopub.status.busy": "2025-01-17T01:20:36.003583Z",
     "iopub.status.idle": "2025-01-17T01:20:36.006935Z",
     "shell.execute_reply": "2025-01-17T01:20:36.006382Z"
    }
   },
   "outputs": [
    {
     "name": "stdout",
     "output_type": "stream",
     "text": [
      "testdata\n"
     ]
    }
   ],
   "source": [
    "# let check if this directory exists and display its actual content:\n",
    "datadir = scp.preferences.datadir\n",
    "if datadir.exists():\n",
    "    print(datadir.name)"
   ]
  },
  {
   "cell_type": "markdown",
   "id": "9bc7354c",
   "metadata": {},
   "source": [
    "Let's load grouped IR spectra acquired using OMNIC:"
   ]
  },
  {
   "cell_type": "code",
   "execution_count": 85,
   "id": "2e5fe3cb",
   "metadata": {
    "execution": {
     "iopub.execute_input": "2025-01-17T01:20:36.008899Z",
     "iopub.status.busy": "2025-01-17T01:20:36.008731Z",
     "iopub.status.idle": "2025-01-17T01:20:36.783330Z",
     "shell.execute_reply": "2025-01-17T01:20:36.782740Z"
    }
   },
   "outputs": [
    {
     "data": {
      "image/jpeg": "[encoded data removed]",
      "image/png": "[encoded data removed]",
      "text/plain": [
       "<Figure size 528x336 with 1 Axes>"
      ]
     },
     "metadata": {},
     "output_type": "display_data"
    }
   ],
   "source": [
    "nd = NDDataset.read_omnic(datadir / \"irdata/nh4y-activation.spg\")\n",
    "nd.preferences.reset()\n",
    "_ = nd.plot()"
   ]
  },
  {
   "cell_type": "markdown",
   "id": "0f0a5f77",
   "metadata": {},
   "source": [
    "Even if we do not specify the **datadir**, the application first look in the\n",
    "directory by default."
   ]
  },
  {
   "cell_type": "markdown",
   "id": "66b6d605",
   "metadata": {},
   "source": [
    "Now, lets load a NMR dataset (in the Bruker format)."
   ]
  },
  {
   "cell_type": "code",
   "execution_count": 86,
   "id": "d6bef50f",
   "metadata": {
    "execution": {
     "iopub.execute_input": "2025-01-17T01:20:36.785685Z",
     "iopub.status.busy": "2025-01-17T01:20:36.785355Z",
     "iopub.status.idle": "2025-01-17T01:20:37.271852Z",
     "shell.execute_reply": "2025-01-17T01:20:37.271252Z"
    }
   },
   "outputs": [
    {
     "name": "stderr",
     "output_type": "stream",
     "text": [
      " WARNING | (UserWarning) (196608,)cannot be shaped into(147, 1024)\n"
     ]
    },
    {
     "data": {
      "image/jpeg": "[encoded data removed]",
      "image/png": "[encoded data removed]",
      "text/plain": [
       "<Figure size 528x336 with 1 Axes>"
      ]
     },
     "metadata": {},
     "output_type": "display_data"
    }
   ],
   "source": [
    "path = datadir / \"nmrdata\" / \"bruker\" / \"tests\" / \"nmr\" / \"topspin_2d\"\n",
    "\n",
    "# load the data directly (no need to create the dataset first)\n",
    "nd2 = NDDataset.read_topspin(path, expno=1, remove_digital_filter=True)\n",
    "\n",
    "# view it...\n",
    "nd2.x.to(\"s\")\n",
    "nd2.y.to(\"ms\")\n",
    "\n",
    "ax = nd2.plot(method=\"map\")"
   ]
  }
 ],
 "metadata": {
  "jupytext": {
   "formats": "ipynb,py:percent",
   "notebook_metadata_filter": "all"
  },
  "kernelspec": {
   "display_name": "Python 3 (ipykernel)",
   "language": "python",
   "name": "python3"
  },
  "language_info": {
   "codemirror_mode": {
    "name": "ipython",
    "version": 3
   },
   "file_extension": ".py",
   "mimetype": "text/x-python",
   "name": "python",
   "nbconvert_exporter": "python",
   "pygments_lexer": "ipython3",
   "version": "3.10.16"
  },
  "widgets": {
   "application/vnd.jupyter.widget-state+json": {
    "state": {},
    "version_major": 2,
    "version_minor": 0
   }
  }
 },
 "nbformat": 4,
 "nbformat_minor": 5
}
