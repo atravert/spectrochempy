{
  "cells": [
    {
      "cell_type": "markdown",
      "metadata": {},
      "source": [
        "\n# MCR-ALS with kinetic constraints\n\nIn this example, we perform the MCR ALS optimization of the UV-vis of spectra resulting\nfrom a three-component reaction `A` \\-> `B` \\-> `C` which was investigated by UV\u2013Vis\nspectroscopy. Full details on the reaction and data acquisition conditions can be found\nin :cite:t:`bijlsma:2001` .\nThe data can be downloded from the author website [Biosystems Data Analysis group\nUniversity of Amsterdam](http://www.bdagroup.nl/content/Downloads/datasets/datasets.php)_\n(Copyright 2005 Biosystems Data Analysis Group ; Universiteit van Amsterdam )\n"
      ]
    },
    {
      "cell_type": "code",
      "execution_count": null,
      "metadata": {
        "collapsed": false
      },
      "outputs": [],
      "source": [
        "import numpy as np\n\nimport spectrochempy as scp"
      ]
    },
    {
      "cell_type": "markdown",
      "metadata": {},
      "source": [
        "## Loading a NDDataset\nDownLoad the data at\n([Kinetic data set (UV-VIS)](http://www.bdagroup.nl/content/Downloads/datasets/18_sb_uv_vis.zip)_ )\nusing the `read` function.\n\n"
      ]
    },
    {
      "cell_type": "code",
      "execution_count": null,
      "metadata": {
        "collapsed": false
      },
      "outputs": [],
      "source": [
        "data = scp.read(\"http://www.bdagroup.nl/content/Downloads/datasets/18_sb_uv_vis.zip\")"
      ]
    },
    {
      "cell_type": "markdown",
      "metadata": {},
      "source": [
        "For sake of demonstration, we will focus on a single run.\nFor example, we extract only the data for the run ``#9`` (dataset name: ``'x9b'`` ).\n\nLet's search it. Data is a list of pairs of NDDataset, a pair of each run.\nThe name we are looking for is the name of the second dataset in a apir.\n\n"
      ]
    },
    {
      "cell_type": "code",
      "execution_count": null,
      "metadata": {
        "collapsed": false
      },
      "outputs": [],
      "source": [
        "for pair in data:\n    if pair[1].name == \"x9b\":\n        ds = pair\n        break"
      ]
    },
    {
      "cell_type": "markdown",
      "metadata": {},
      "source": [
        "now we have the required pair of dataset.\n\nThe first dataset incontains the time in seconds since the start of the reaction (t=0).\nThe first column of the matrix contains the wavelength axis and the remaining columns\nare the measured UV-VIS spectra (wavelengths x timepoints)\n\n"
      ]
    },
    {
      "cell_type": "code",
      "execution_count": null,
      "metadata": {
        "collapsed": false
      },
      "outputs": [],
      "source": [
        "print(\"\\n NDDataset names: \" + str([d.name for d in ds]))"
      ]
    },
    {
      "cell_type": "markdown",
      "metadata": {},
      "source": [
        "We load the experimental spectra (in `ds[1]`\\), add the `y` (time) and `x`\n(wavelength) coordinates, and keep one spectrum of out 4:\n\n"
      ]
    },
    {
      "cell_type": "code",
      "execution_count": null,
      "metadata": {
        "collapsed": false
      },
      "outputs": [],
      "source": [
        "D = scp.NDDataset(ds[1][:, 1:].data.T)\nD.y = scp.Coord(ds[0].data.squeeze(), title=\"time\") / 60\nD.x = scp.Coord(ds[1][:, 0].data.squeeze(), title=\"wavelength / cm$^{-1}$\")\nD = D[::4]\n_ = D.plot()"
      ]
    },
    {
      "cell_type": "markdown",
      "metadata": {},
      "source": [
        "A first estimate of the concentrations can be obtained by EFA:\n\n"
      ]
    },
    {
      "cell_type": "code",
      "execution_count": null,
      "metadata": {
        "collapsed": false
      },
      "outputs": [],
      "source": [
        "print(\"compute EFA...\")\nefa = scp.EFA()\nefa.fit(D[:, 300.0:500.0])\nefa.n_components = 3\nC0 = efa.transform()\nC0 = C0 / C0.max(dim=\"y\") * 5.0\n_ = C0.T.plot()"
      ]
    },
    {
      "cell_type": "markdown",
      "metadata": {},
      "source": [
        "We can get a better estimate of the concentration (C) and pure spectra profiles (St)\nby soft MCR-ALS:\n\n"
      ]
    },
    {
      "cell_type": "code",
      "execution_count": null,
      "metadata": {
        "collapsed": false
      },
      "outputs": [],
      "source": [
        "mcr_1 = scp.MCRALS(log_level=\"INFO\")\n_ = mcr_1.fit(D, C0)\n\n_ = mcr_1.C.T.plot()\n_ = mcr_1.St.plot()"
      ]
    },
    {
      "cell_type": "markdown",
      "metadata": {},
      "source": [
        "Kinetic constraints can be added, i.e., imposing that the concentration profiles obey\na kinetic model. To do so we first define an ActionMAssKinetics object with\nroughly estimated rate constants:\n\n"
      ]
    },
    {
      "cell_type": "code",
      "execution_count": null,
      "metadata": {
        "collapsed": false
      },
      "outputs": [],
      "source": [
        "reactions = (\"A -> B\", \"B -> C\")\nspecies_concentrations = {\"A\": 5.0, \"B\": 0.0, \"C\": 0.0}\nk0 = np.array((0.5, 0.05))\nkin = scp.ActionMassKinetics(reactions, species_concentrations, k0)"
      ]
    },
    {
      "cell_type": "markdown",
      "metadata": {},
      "source": [
        "The concentration profile obtained with this approximate model can be computed and\ncompared with those of the soft MCR-ALS:\n\n"
      ]
    },
    {
      "cell_type": "code",
      "execution_count": null,
      "metadata": {
        "collapsed": false
      },
      "outputs": [],
      "source": [
        "Ckin = kin.integrate(D.y.data)\n_ = mcr_1.C.T.plot(linestyle=\"-\", cmap=None)\n_ = Ckin.T.plot(clear=False, cmap=None)"
      ]
    },
    {
      "cell_type": "markdown",
      "metadata": {},
      "source": [
        "Even though very approximate, the same values can be used to run a hard-soft MCR-ALS:\n\n"
      ]
    },
    {
      "cell_type": "code",
      "execution_count": null,
      "metadata": {
        "collapsed": false
      },
      "outputs": [],
      "source": [
        "X = D[:, 300.0:500.0]\nparam_to_optimize = {\"k[0]\": 0.5, \"k[1]\": 0.05}\nmcr_2 = scp.MCRALS()\nmcr_2.hardConc = [0, 1, 2]\nmcr_2.getConc = kin.fit_to_concentrations\nmcr_2.argsGetConc = ([0, 1, 2], [0, 1, 2], param_to_optimize)\nmcr_2.kwargsGetConc = {\"ivp_solver_kwargs\": {\"return_NDDataset\": False}}\n\nmcr_2.fit(X, Ckin)"
      ]
    },
    {
      "cell_type": "markdown",
      "metadata": {},
      "source": [
        "Now, let\\'s compare the concentration profile of MCR-ALS\n(C = X(C$_{kin}^+$ X)$^+$) with\nthat of the optimized kinetic model (C$_{kin}$ \\equiv$ `C_constrained`):\n\n"
      ]
    },
    {
      "cell_type": "code",
      "execution_count": null,
      "metadata": {
        "collapsed": false
      },
      "outputs": [],
      "source": [
        "# sphinx_gallery_thumbnail_number = 6\n\n_ = mcr_2.C.T.plot()\n_ = mcr_2.C_constrained.T.plot(clear=False)"
      ]
    },
    {
      "cell_type": "markdown",
      "metadata": {},
      "source": [
        "Finally, let\\'s plot some of the pure spectra profiles St, and the\n reconstructed dataset  (X_hat = C St) vs original dataset (X) and residuals.\n\n"
      ]
    },
    {
      "cell_type": "code",
      "execution_count": null,
      "metadata": {
        "collapsed": false
      },
      "outputs": [],
      "source": [
        "_ = mcr_2.St.plot()\n_ = mcr_2.plotmerit(nb_traces=10)"
      ]
    },
    {
      "cell_type": "markdown",
      "metadata": {},
      "source": [
        "This ends the example ! The following line can be uncommented if no plot shows when\nrunning the .py script\n\n"
      ]
    },
    {
      "cell_type": "code",
      "execution_count": null,
      "metadata": {
        "collapsed": false
      },
      "outputs": [],
      "source": [
        "# scp.show()"
      ]
    }
  ],
  "metadata": {
    "kernelspec": {
      "display_name": "Python 3",
      "language": "python",
      "name": "python3"
    },
    "language_info": {
      "codemirror_mode": {
        "name": "ipython",
        "version": 3
      },
      "file_extension": ".py",
      "mimetype": "text/x-python",
      "name": "python",
      "nbconvert_exporter": "python",
      "pygments_lexer": "ipython3",
      "version": "3.9.16"
    }
  },
  "nbformat": 4,
  "nbformat_minor": 0
}