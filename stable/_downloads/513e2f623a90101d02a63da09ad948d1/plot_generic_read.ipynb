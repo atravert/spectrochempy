{
  "cells": [
    {
      "cell_type": "markdown",
      "metadata": {},
      "source": [
        "\n# Reading datasets\n\nIn this example, we show the use of the generic `read` method to create dataset\neither from local or remote files.\n"
      ]
    },
    {
      "cell_type": "markdown",
      "metadata": {},
      "source": [
        "First we need to import the spectrochempy API package\n\n"
      ]
    },
    {
      "cell_type": "code",
      "execution_count": null,
      "metadata": {
        "collapsed": false
      },
      "outputs": [],
      "source": [
        "import spectrochempy as scp"
      ]
    },
    {
      "cell_type": "markdown",
      "metadata": {},
      "source": [
        "## Import dataset from local files\nRead a IR data recorded in Omnic format (``.spg`` extension).\nWe just pass the file name as parameter.\n\n"
      ]
    },
    {
      "cell_type": "code",
      "execution_count": null,
      "metadata": {
        "collapsed": false
      },
      "outputs": [],
      "source": [
        "dataset = scp.read(\"irdata/nh4y-activation.spg\")\ndataset"
      ]
    },
    {
      "cell_type": "code",
      "execution_count": null,
      "metadata": {
        "collapsed": false
      },
      "outputs": [],
      "source": [
        "_ = dataset.plot(style=\"paper\")"
      ]
    },
    {
      "cell_type": "markdown",
      "metadata": {},
      "source": [
        "When using `read`, we can pass filename as a `str` or a `~pathlib.Path` object.\n\n"
      ]
    },
    {
      "cell_type": "code",
      "execution_count": null,
      "metadata": {
        "collapsed": false
      },
      "outputs": [],
      "source": [
        "from pathlib import Path\n\nfilename = Path(\"irdata/nh4y-activation.spg\")\ndataset = scp.read(filename)"
      ]
    },
    {
      "cell_type": "markdown",
      "metadata": {},
      "source": [
        "Note that is the file is not found in the current working directory, `SpectroChemPy`\nwill try to find it in the ``datadir`` directory defined in `preferences` :\n\n"
      ]
    },
    {
      "cell_type": "code",
      "execution_count": null,
      "metadata": {
        "collapsed": false
      },
      "outputs": [],
      "source": [
        "datadir = scp.preferences.datadir\ndatadir"
      ]
    },
    {
      "cell_type": "markdown",
      "metadata": {},
      "source": [
        "If the supplied argument is a directory, then the whole directory is read at once.\nBy default, the different files will be merged along the first dimension (y).\nHowever, for this to work, the second dimension (x) must be compatible (same size)\nor else a WARNING appears. To avoid the warning and get individual spectra, you can\nset ``merge`` to `False` .\n\n"
      ]
    },
    {
      "cell_type": "code",
      "execution_count": null,
      "metadata": {
        "collapsed": false
      },
      "outputs": [],
      "source": [
        "dataset_list = scp.read(\"irdata\", merge=False)\ndataset_list"
      ]
    },
    {
      "cell_type": "markdown",
      "metadata": {},
      "source": [
        "to get full details on the parameters that can be used, look at the API documentation:\n`spectrochempy.read` .\n\n"
      ]
    },
    {
      "cell_type": "markdown",
      "metadata": {},
      "source": [
        "## Import dataset from remote files\nTo download and read file from remote server you can use urls.\n\n"
      ]
    },
    {
      "cell_type": "code",
      "execution_count": null,
      "metadata": {
        "collapsed": false
      },
      "outputs": [],
      "source": [
        "dataset_list = scp.read(\"http://www.eigenvector.com/data/Corn/corn.mat\")"
      ]
    },
    {
      "cell_type": "markdown",
      "metadata": {},
      "source": [
        "In this case the matlab data contains 7 arrays that have been automatically\ntransformed to `NDDataset` .\n\n"
      ]
    },
    {
      "cell_type": "code",
      "execution_count": null,
      "metadata": {
        "collapsed": false
      },
      "outputs": [],
      "source": [
        "for nd in dataset_list:\n    print(f\"{nd.name} : {nd.shape}\")"
      ]
    },
    {
      "cell_type": "markdown",
      "metadata": {},
      "source": [
        "The [eigenvector.com](eigenvector.com)_ website contains the same data in a\ncompressed (zipped) format:\n[corn.mat_.zip](https://eigenvector.com/wp-content/uploads/2019/06/corn.mat_.zip)_ .\nThis can also be used by the `read` method.\n\n"
      ]
    },
    {
      "cell_type": "code",
      "execution_count": null,
      "metadata": {
        "collapsed": false
      },
      "outputs": [],
      "source": [
        "dataset_list = scp.read(\n    \"https://eigenvector.com/wp-content/uploads/2019/06/corn.mat_.zip\"\n)\n_ = dataset_list[-1].plot()\n_ = dataset_list[-2].plot()\n_ = dataset_list[-3].plot()\n_ = dataset_list[-4].plot()"
      ]
    },
    {
      "cell_type": "markdown",
      "metadata": {},
      "source": [
        "This ends the example ! The following line can be uncommented if no plot shows when running\nthe .py script\n\n"
      ]
    },
    {
      "cell_type": "markdown",
      "metadata": {},
      "source": [
        "scp.show()\n\n"
      ]
    }
  ],
  "metadata": {
    "kernelspec": {
      "display_name": "Python 3",
      "language": "python",
      "name": "python3"
    },
    "language_info": {
      "codemirror_mode": {
        "name": "ipython",
        "version": 3
      },
      "file_extension": ".py",
      "mimetype": "text/x-python",
      "name": "python",
      "nbconvert_exporter": "python",
      "pygments_lexer": "ipython3",
      "version": "3.9.16"
    }
  },
  "nbformat": 4,
  "nbformat_minor": 0
}