{
 "cells": [
  {
   "cell_type": "markdown",
   "id": "bc1b7675",
   "metadata": {},
   "source": [
    "# Peak integration\n",
    "\n",
    "This tutorial shows how to find peak maxima and determine peak areas with\n",
    "spectrochempy. As prerequisite,\n",
    "the user is expected to have read the [Import](../importexport/import.ipynb),\n",
    "[Import IR](../importexport/importIR.ipynb),\n",
    "[slicing](../processing/slicing.ipynb) and\n",
    "[baseline correction](../processing/baseline.ipynb) tutorials."
   ]
  },
  {
   "cell_type": "markdown",
   "id": "cfdb98f6",
   "metadata": {},
   "source": [
    "First lets import the SpectroChemPy API"
   ]
  },
  {
   "cell_type": "code",
   "execution_count": null,
   "id": "173199ee",
   "metadata": {},
   "outputs": [],
   "source": [
    "import spectrochempy as scp"
   ]
  },
  {
   "cell_type": "markdown",
   "id": "6f706103",
   "metadata": {},
   "source": [
    "Now import some 2D data into a NDDataset object"
   ]
  },
  {
   "cell_type": "code",
   "execution_count": null,
   "id": "a040e9be",
   "metadata": {},
   "outputs": [],
   "source": [
    "ds = scp.read_omnic(\"irdata/nh4y-activation.spg\")\n",
    "ds"
   ]
  },
  {
   "cell_type": "markdown",
   "id": "b3c3dbaf",
   "metadata": {},
   "source": [
    "It's a series of 55 spectra.\n",
    "\n",
    "For the demonstration select only the first 20 on a limited region from 1250 to\n",
    "1800 cm$^{-1}$ (Do not forget to\n",
    "use floating numbers for slicing)"
   ]
  },
  {
   "cell_type": "code",
   "execution_count": null,
   "id": "6f8670e4",
   "metadata": {},
   "outputs": [],
   "source": [
    "X = ds[:20, 1250.0:1800.0]"
   ]
  },
  {
   "cell_type": "markdown",
   "id": "3f22a5f0",
   "metadata": {},
   "source": [
    "We can also eventually remove offset on the acquisition time dimension (y)"
   ]
  },
  {
   "cell_type": "code",
   "execution_count": null,
   "id": "6c039034",
   "metadata": {},
   "outputs": [],
   "source": [
    "X.y -= X.y[0]\n",
    "X.y.ito(\"min\")\n",
    "X.y.title = \"acquisition time\""
   ]
  },
  {
   "cell_type": "markdown",
   "id": "df05a1fb",
   "metadata": {},
   "source": [
    "We set some plotting preferences and then plot the raw data"
   ]
  },
  {
   "cell_type": "code",
   "execution_count": null,
   "id": "ceddf385",
   "metadata": {},
   "outputs": [],
   "source": [
    "prefs = X.preferences\n",
    "prefs.figure.figsize = (6, 3)\n",
    "prefs.colormap = \"Dark2\"\n",
    "prefs.colorbar = True\n",
    "X.plot()"
   ]
  },
  {
   "cell_type": "markdown",
   "id": "f4a91caa",
   "metadata": {},
   "source": [
    "Now we can perform some baseline correction"
   ]
  },
  {
   "cell_type": "code",
   "execution_count": null,
   "id": "5397944f",
   "metadata": {},
   "outputs": [],
   "source": [
    "blc = scp.Baseline()\n",
    "blc.ranges = (\n",
    "    [1740.0, 1800.0],\n",
    "    [1550.0, 1570.0],\n",
    "    [1250.0, 1300.0],\n",
    ")  # define 3 regions where we want the baseline to reach zero.\n",
    "blc.model = \"polynomial\"\n",
    "blc.order = 3\n",
    "\n",
    "blc.fit(X)  # fit the baseline\n",
    "\n",
    "Xcorr = blc.corrected  # get the corrected dataset\n",
    "Xcorr.plot()"
   ]
  },
  {
   "cell_type": "markdown",
   "id": "7a0a9b95",
   "metadata": {},
   "source": [
    "To integrate each row on the full range, we can use the sum or trapz method of a\n",
    "NDDataset."
   ]
  },
  {
   "cell_type": "code",
   "execution_count": null,
   "id": "5d0d2f5b",
   "metadata": {},
   "outputs": [],
   "source": [
    "inttrapz = Xcorr.trapezoid(dim=\"x\")\n",
    "intsimps = Xcorr.simpson(dim=\"x\")"
   ]
  },
  {
   "cell_type": "markdown",
   "id": "ef0848cf",
   "metadata": {},
   "source": [
    "As you can see both method give almost the same results in this case"
   ]
  },
  {
   "cell_type": "code",
   "execution_count": null,
   "id": "43c0d0e6",
   "metadata": {},
   "outputs": [],
   "source": [
    "scp.plot_multiple(\n",
    "    method=\"scatter\",\n",
    "    ms=5,\n",
    "    datasets=[inttrapz, intsimps],\n",
    "    labels=[\"trapzoidal rule\", \"simpson' rule\"],\n",
    "    legend=\"best\",\n",
    ")"
   ]
  },
  {
   "cell_type": "markdown",
   "id": "6296bfba",
   "metadata": {},
   "source": [
    "The difference between the trapezoidal and simpson integration methods is visualized\n",
    "below. In this case they are\n",
    "extremely close."
   ]
  },
  {
   "cell_type": "code",
   "execution_count": null,
   "id": "4e757961",
   "metadata": {},
   "outputs": [],
   "source": [
    "diff = (inttrapz - intsimps) * 100.0 / intsimps\n",
    "diff.title = \"difference\"\n",
    "diff.units = \"percent\"\n",
    "diff.plot(scatter=True, ms=5)"
   ]
  }
 ],
 "metadata": {
  "jupytext": {
   "formats": "ipynb,py:percent",
   "notebook_metadata_filter": "all"
  },
  "kernelspec": {
   "display_name": "Python 3",
   "language": "python",
   "name": "python3"
  }
 },
 "nbformat": 4,
 "nbformat_minor": 5
}
