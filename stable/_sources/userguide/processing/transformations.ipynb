{
 "cells": [
  {
   "cell_type": "markdown",
   "id": "7400f7a5",
   "metadata": {},
   "source": [
    "# Basic transformations\n",
    "\n",
    "Let's show some SpectroChemPy features on a group of IR spectra"
   ]
  },
  {
   "cell_type": "code",
   "execution_count": null,
   "id": "de9362e9",
   "metadata": {},
   "outputs": [],
   "source": [
    "import spectrochempy as scp\n",
    "from spectrochempy import MASKED, DimensionalityError, error_"
   ]
  },
  {
   "cell_type": "code",
   "execution_count": null,
   "id": "0b1d2519",
   "metadata": {},
   "outputs": [],
   "source": [
    "dataset = scp.read_omnic(\"irdata/nh4y-activation.spg\")\n",
    "dataset.y -= dataset.y[0]\n",
    "dataset.y.title = \"time\"\n",
    "dataset"
   ]
  },
  {
   "cell_type": "code",
   "execution_count": null,
   "id": "887430cb",
   "metadata": {},
   "outputs": [],
   "source": [
    "prefs = dataset.preferences\n",
    "prefs.figure.figsize = (6, 3)\n",
    "prefs.colormap = \"Dark2\"\n",
    "prefs.colorbar = True\n",
    "ax = dataset.plot()"
   ]
  },
  {
   "cell_type": "markdown",
   "id": "f686df58",
   "metadata": {},
   "source": [
    "## Masking data"
   ]
  },
  {
   "cell_type": "markdown",
   "id": "35272298",
   "metadata": {},
   "source": [
    "if we try to get for example the maximum of this dataset, we face a problem due to the saturation around\n",
    "1100 cm$^{-1}$."
   ]
  },
  {
   "cell_type": "code",
   "execution_count": null,
   "id": "ca3b61ba",
   "metadata": {},
   "outputs": [],
   "source": [
    "dataset.max()"
   ]
  },
  {
   "cell_type": "markdown",
   "id": "c05b128c",
   "metadata": {},
   "source": [
    "One way is to apply the max function to only a part of the spectrum (using [slicing](slicing.ipynb)). Another way is to\n",
    "mask the undesired data.\n",
    "\n",
    "Masking values in this case is straightforward. Just set a value `masked` or True for those data you want to mask."
   ]
  },
  {
   "cell_type": "code",
   "execution_count": null,
   "id": "5d596d1c",
   "metadata": {},
   "outputs": [],
   "source": [
    "dataset[:, 1290.0:890.0] = MASKED\n",
    "# note that we specify floating values in order to sect wavenumbers, not index."
   ]
  },
  {
   "cell_type": "markdown",
   "id": "0ddb6189",
   "metadata": {},
   "source": [
    "Here is a display the figure with the new mask"
   ]
  },
  {
   "cell_type": "code",
   "execution_count": null,
   "id": "81df7595",
   "metadata": {},
   "outputs": [],
   "source": [
    "_ = dataset.plot_stack()"
   ]
  },
  {
   "cell_type": "markdown",
   "id": "7cf97586",
   "metadata": {},
   "source": [
    "Now the max function return the  maximum in the unmasked region, which is exactly what we wanted."
   ]
  },
  {
   "cell_type": "code",
   "execution_count": null,
   "id": "2e6b7aa9",
   "metadata": {},
   "outputs": [],
   "source": [
    "dataset.max()"
   ]
  },
  {
   "cell_type": "markdown",
   "id": "775a3b53",
   "metadata": {},
   "source": [
    "To clear this mask, we can simply do:"
   ]
  },
  {
   "cell_type": "code",
   "execution_count": null,
   "id": "f9911e64",
   "metadata": {},
   "outputs": [],
   "source": [
    "dataset.remove_masks()\n",
    "_ = dataset.plot()"
   ]
  },
  {
   "cell_type": "markdown",
   "id": "c42bee06",
   "metadata": {},
   "source": [
    "## Transposition"
   ]
  },
  {
   "cell_type": "markdown",
   "id": "57355367",
   "metadata": {},
   "source": [
    "Dataset can be transposed"
   ]
  },
  {
   "cell_type": "code",
   "execution_count": null,
   "id": "14ab5dd1",
   "metadata": {},
   "outputs": [],
   "source": [
    "dataset[:, 1290.0:890.0] = MASKED  # we mask the unwanted columns\n",
    "datasetT = dataset.T\n",
    "datasetT"
   ]
  },
  {
   "cell_type": "markdown",
   "id": "2e161878",
   "metadata": {},
   "source": [
    "As it can be observed the dimension `x`and `y`have been exchanged, *e.g.* the original shape was **(x: 5549, y: 55)**,\n",
    "and after transposition it is **(y:55, x:5549)**.\n",
    "(the dimension names stay the same, but the index of the corresponding axis are exchanged)."
   ]
  },
  {
   "cell_type": "markdown",
   "id": "32ffce9b",
   "metadata": {},
   "source": [
    "Let's visualize the result:"
   ]
  },
  {
   "cell_type": "code",
   "execution_count": null,
   "id": "a1fd62f1",
   "metadata": {},
   "outputs": [],
   "source": [
    "_ = datasetT.plot()"
   ]
  },
  {
   "cell_type": "markdown",
   "id": "9fb83dee",
   "metadata": {},
   "source": [
    "## Changing units"
   ]
  },
  {
   "cell_type": "markdown",
   "id": "a1c5b22d",
   "metadata": {},
   "source": [
    "Units of the data and coordinates can be changed, but only towards compatible units. For instance, data are in\n",
    "absorbance units, which are dimensionless (**a.u**). So a dimensionless units such as **radian** is allowed,\n",
    "even if in this case it makes very little sense."
   ]
  },
  {
   "cell_type": "code",
   "execution_count": null,
   "id": "bfd422da",
   "metadata": {},
   "outputs": [],
   "source": [
    "dataset.units = \"radian\""
   ]
  },
  {
   "cell_type": "code",
   "execution_count": null,
   "id": "7bb9e34a",
   "metadata": {},
   "outputs": [],
   "source": [
    "_ = dataset.plot()"
   ]
  },
  {
   "cell_type": "markdown",
   "id": "73571e1e",
   "metadata": {},
   "source": [
    "Trying to change it in 'meter' for instance, will generate an error!"
   ]
  },
  {
   "cell_type": "code",
   "execution_count": null,
   "id": "c40e7786",
   "metadata": {},
   "outputs": [],
   "source": [
    "try:\n",
    "    dataset.to(\"meter\")\n",
    "except DimensionalityError as e:\n",
    "    error_(DimensionalityError, e)"
   ]
  },
  {
   "cell_type": "markdown",
   "id": "6f39791d",
   "metadata": {},
   "source": [
    "If this is for some reasons something you want to do, you must for the change:"
   ]
  },
  {
   "cell_type": "code",
   "execution_count": null,
   "id": "d026b920",
   "metadata": {},
   "outputs": [],
   "source": [
    "d = dataset.to(\"meter\", force=True)\n",
    "print(d.units)"
   ]
  },
  {
   "cell_type": "markdown",
   "id": "7b04bec3",
   "metadata": {},
   "source": [
    "When units are compatible there is no problem to modify it. For instance, we can\n",
    "change the `y` dimension units (\n",
    "Time) to hours. Her we use the inplace transformation `ito` ."
   ]
  },
  {
   "cell_type": "code",
   "execution_count": null,
   "id": "a8e1827c",
   "metadata": {},
   "outputs": [],
   "source": [
    "dataset.y.ito(\"hours\")\n",
    "_ = dataset.plot()"
   ]
  },
  {
   "cell_type": "markdown",
   "id": "c455bc43",
   "metadata": {},
   "source": [
    "See [Units and Quantities](../units/units.ipynb) for more details on these units operations"
   ]
  }
 ],
 "metadata": {
  "jupytext": {
   "formats": "ipynb,py:percent",
   "notebook_metadata_filter": "all"
  },
  "kernelspec": {
   "display_name": "Python 3 (ipykernel)",
   "language": "python",
   "name": "python3"
  },
  "language_info": {
   "codemirror_mode": {
    "name": "ipython",
    "version": 3
   },
   "file_extension": ".py",
   "mimetype": "text/x-python",
   "name": "python",
   "nbconvert_exporter": "python",
   "pygments_lexer": "ipython3",
   "version": "3.9.16"
  }
 },
 "nbformat": 4,
 "nbformat_minor": 5
}
